{
  "nbformat": 4,
  "nbformat_minor": 0,
  "metadata": {
    "colab": {
      "provenance": [],
      "authorship_tag": "ABX9TyNZ0go5sujmHVuSzq3wNcw6",
      "include_colab_link": true
    },
    "kernelspec": {
      "name": "python3",
      "display_name": "Python 3"
    },
    "language_info": {
      "name": "python"
    }
  },
  "cells": [
    {
      "cell_type": "markdown",
      "metadata": {
        "id": "view-in-github",
        "colab_type": "text"
      },
      "source": [
        "<a href=\"https://colab.research.google.com/github/rajeshr6r/EMEAPythonTraining/blob/main/Day1_HelloWorld.ipynb\" target=\"_parent\"><img src=\"https://colab.research.google.com/assets/colab-badge.svg\" alt=\"Open In Colab\"/></a>"
      ]
    },
    {
      "cell_type": "markdown",
      "source": [
        "**Welcome to Python Programming** . <br> Here are set of simple commands for you to run and practice. Please feel free to edit the commands and play around."
      ],
      "metadata": {
        "id": "YQyyJU5LUNVA"
      }
    },
    {
      "cell_type": "code",
      "execution_count": 41,
      "metadata": {
        "id": "tVJ4e5dFPlmF",
        "colab": {
          "base_uri": "https://localhost:8080/"
        },
        "outputId": "5faf3971-7984-42a1-bb2c-1668a8233c70"
      },
      "outputs": [
        {
          "output_type": "stream",
          "name": "stdout",
          "text": [
            "Hello world to Python Programming\n",
            "This is the second line \n"
          ]
        }
      ],
      "source": [
        "print(\"Hello world to Python Programming\")\n",
        "print(\"This is the second line \")"
      ]
    },
    {
      "cell_type": "code",
      "source": [
        "print('a'*9)"
      ],
      "metadata": {
        "id": "-hq1Sv9oQA5U",
        "outputId": "076f016a-e573-46c7-91d9-7e41046ba9ae",
        "colab": {
          "base_uri": "https://localhost:8080/"
        }
      },
      "execution_count": 42,
      "outputs": [
        {
          "output_type": "stream",
          "name": "stdout",
          "text": [
            "aaaaaaaaa\n"
          ]
        }
      ]
    },
    {
      "cell_type": "code",
      "source": [
        "# Some silly printing of characters\n",
        "for i in range(10,0,-1):\n",
        "  print(\"a\"*i)\n",
        "for i in range(0,10,1):\n",
        "  print(\"a\"*i)"
      ],
      "metadata": {
        "id": "Tq4Oa9dsXmt1",
        "outputId": "c54f4658-0b4b-4e73-838b-bda5a6e8720a",
        "colab": {
          "base_uri": "https://localhost:8080/"
        }
      },
      "execution_count": 43,
      "outputs": [
        {
          "output_type": "stream",
          "name": "stdout",
          "text": [
            "aaaaaaaaaa\n",
            "aaaaaaaaa\n",
            "aaaaaaaa\n",
            "aaaaaaa\n",
            "aaaaaa\n",
            "aaaaa\n",
            "aaaa\n",
            "aaa\n",
            "aa\n",
            "a\n",
            "\n",
            "a\n",
            "aa\n",
            "aaa\n",
            "aaaa\n",
            "aaaaa\n",
            "aaaaaa\n",
            "aaaaaaa\n",
            "aaaaaaaa\n",
            "aaaaaaaaa\n"
          ]
        }
      ]
    },
    {
      "cell_type": "code",
      "source": [
        "for i in range(10,1,-2):\n",
        "  print(f\"Length is {len('*'*i)}\",'*'*i)"
      ],
      "metadata": {
        "id": "qQafLU4iP9dR"
      },
      "execution_count": null,
      "outputs": []
    },
    {
      "cell_type": "code",
      "source": [
        "for i in range(1,10,2):\n",
        "  print(f\"Length is {len('*'*i)}\",'*'*i)"
      ],
      "metadata": {
        "id": "Jc0J8KSWQy0L"
      },
      "execution_count": null,
      "outputs": []
    },
    {
      "cell_type": "code",
      "source": [
        "mytuple= tuple (['a','b','c','d','a'])"
      ],
      "metadata": {
        "id": "UfNX5EwgRH58"
      },
      "execution_count": 44,
      "outputs": []
    },
    {
      "cell_type": "code",
      "source": [
        "mytuple"
      ],
      "metadata": {
        "id": "jC-QmJZCOl6j",
        "outputId": "ff4525f4-606d-4630-fcba-0b66960aafcc",
        "colab": {
          "base_uri": "https://localhost:8080/"
        }
      },
      "execution_count": 45,
      "outputs": [
        {
          "output_type": "execute_result",
          "data": {
            "text/plain": [
              "('a', 'b', 'c', 'd', 'a')"
            ]
          },
          "metadata": {},
          "execution_count": 45
        }
      ]
    },
    {
      "cell_type": "code",
      "source": [
        "len(mytuple)"
      ],
      "metadata": {
        "id": "dsxIaoHbOrA_",
        "outputId": "bfff122d-eff7-4ae1-b3b9-e491639f1e4b",
        "colab": {
          "base_uri": "https://localhost:8080/"
        }
      },
      "execution_count": 4,
      "outputs": [
        {
          "output_type": "execute_result",
          "data": {
            "text/plain": [
              "5"
            ]
          },
          "metadata": {},
          "execution_count": 4
        }
      ]
    },
    {
      "cell_type": "code",
      "source": [
        "mydictionary = dict(zip([\"a\",\"a\",\"c\"],[\"1\",\"w\",\"1\"]))"
      ],
      "metadata": {
        "id": "jSTdBxBaQEpV"
      },
      "execution_count": 46,
      "outputs": []
    },
    {
      "cell_type": "code",
      "source": [
        "mydictionary"
      ],
      "metadata": {
        "id": "l1f-nFD4QTZo",
        "outputId": "ceadb678-a1cf-4811-c83b-61e91f7005be",
        "colab": {
          "base_uri": "https://localhost:8080/"
        }
      },
      "execution_count": 47,
      "outputs": [
        {
          "output_type": "execute_result",
          "data": {
            "text/plain": [
              "{'a': 'w', 'c': '1'}"
            ]
          },
          "metadata": {},
          "execution_count": 47
        }
      ]
    },
    {
      "cell_type": "code",
      "source": [
        "myset = {1,1,1,2,3,4,5,6}"
      ],
      "metadata": {
        "id": "WsjN0cDqQVgY"
      },
      "execution_count": 48,
      "outputs": []
    },
    {
      "cell_type": "code",
      "source": [
        "print(myset)"
      ],
      "metadata": {
        "id": "jISpQhnZQsL1",
        "outputId": "a03ba2b7-d284-4ccb-8285-0b1e12da2083",
        "colab": {
          "base_uri": "https://localhost:8080/"
        }
      },
      "execution_count": 14,
      "outputs": [
        {
          "output_type": "stream",
          "name": "stdout",
          "text": [
            "{1, 2, 3, 4, 5, 6}\n"
          ]
        }
      ]
    },
    {
      "cell_type": "code",
      "source": [
        "myset.add(\"a\")"
      ],
      "metadata": {
        "id": "q6506RgZQ3J8"
      },
      "execution_count": 15,
      "outputs": []
    },
    {
      "cell_type": "code",
      "source": [
        "print(myset)"
      ],
      "metadata": {
        "id": "sHCbkaVEQ7PY",
        "outputId": "1ee8afbf-7ace-44c5-f4dc-cf6203a33e8b",
        "colab": {
          "base_uri": "https://localhost:8080/"
        }
      },
      "execution_count": 16,
      "outputs": [
        {
          "output_type": "stream",
          "name": "stdout",
          "text": [
            "{1, 2, 3, 4, 5, 6, 'a'}\n"
          ]
        }
      ]
    },
    {
      "cell_type": "code",
      "source": [
        "myfrozenset = frozenset(myset)"
      ],
      "metadata": {
        "id": "Ayz3NcJLQ8LE"
      },
      "execution_count": 17,
      "outputs": []
    },
    {
      "cell_type": "code",
      "source": [
        "\"\"\"\n",
        "Name of the function : cuberoot\n",
        "Variables needed : integer\n",
        "What is returned : cube root of the integer supplied\n",
        "\"\"\"\n",
        "def cuberoot(x):\n",
        "  return f\" The cuberoot of {x} is {x*x*x}\""
      ],
      "metadata": {
        "id": "1l3fG7jARFv4"
      },
      "execution_count": 50,
      "outputs": []
    },
    {
      "cell_type": "code",
      "source": [
        "for number in range (1,20,2):\n",
        "  print(cuberoot(number))"
      ],
      "metadata": {
        "id": "-M8fWgLQRvsr",
        "outputId": "d5321179-4df2-4d5e-fe72-de1707778531",
        "colab": {
          "base_uri": "https://localhost:8080/"
        }
      },
      "execution_count": 22,
      "outputs": [
        {
          "output_type": "stream",
          "name": "stdout",
          "text": [
            " The cuberoot of 1 is 1\n",
            " The cuberoot of 3 is 27\n",
            " The cuberoot of 5 is 125\n",
            " The cuberoot of 7 is 343\n",
            " The cuberoot of 9 is 729\n",
            " The cuberoot of 11 is 1331\n",
            " The cuberoot of 13 is 2197\n",
            " The cuberoot of 15 is 3375\n",
            " The cuberoot of 17 is 4913\n",
            " The cuberoot of 19 is 6859\n"
          ]
        }
      ]
    },
    {
      "cell_type": "code",
      "source": [
        "for number in range (1,20,1):\n",
        "  print(cuberoot(number))"
      ],
      "metadata": {
        "id": "CWUqpQPgR6VP",
        "outputId": "69908824-0ae9-47e8-8151-eb5903903e72",
        "colab": {
          "base_uri": "https://localhost:8080/"
        }
      },
      "execution_count": 24,
      "outputs": [
        {
          "output_type": "stream",
          "name": "stdout",
          "text": [
            " The cuberoot of 1 is 1\n",
            " The cuberoot of 2 is 8\n",
            " The cuberoot of 3 is 27\n",
            " The cuberoot of 4 is 64\n",
            " The cuberoot of 5 is 125\n",
            " The cuberoot of 6 is 216\n",
            " The cuberoot of 7 is 343\n",
            " The cuberoot of 8 is 512\n",
            " The cuberoot of 9 is 729\n",
            " The cuberoot of 10 is 1000\n",
            " The cuberoot of 11 is 1331\n",
            " The cuberoot of 12 is 1728\n",
            " The cuberoot of 13 is 2197\n",
            " The cuberoot of 14 is 2744\n",
            " The cuberoot of 15 is 3375\n",
            " The cuberoot of 16 is 4096\n",
            " The cuberoot of 17 is 4913\n",
            " The cuberoot of 18 is 5832\n",
            " The cuberoot of 19 is 6859\n"
          ]
        }
      ]
    },
    {
      "cell_type": "code",
      "source": [
        "mylistof4divisibles = list(map(lambda x: x*x if (x%4==0) else x,range(1,20)))"
      ],
      "metadata": {
        "id": "n109sUhnSQsm"
      },
      "execution_count": 25,
      "outputs": []
    },
    {
      "cell_type": "code",
      "source": [
        "mylistof4divisibles"
      ],
      "metadata": {
        "id": "KdicOqaiTekK",
        "outputId": "781427ea-53a2-4d3a-e4c5-2e654f66afe3",
        "colab": {
          "base_uri": "https://localhost:8080/"
        }
      },
      "execution_count": 26,
      "outputs": [
        {
          "output_type": "execute_result",
          "data": {
            "text/plain": [
              "[1, 2, 3, 16, 5, 6, 7, 64, 9, 10, 11, 144, 13, 14, 15, 256, 17, 18, 19]"
            ]
          },
          "metadata": {},
          "execution_count": 26
        }
      ]
    },
    {
      "cell_type": "code",
      "source": [
        "print(list(map(lambda x: cuberoot(x) if (x%5==0) else \"A\",range(1,20))))"
      ],
      "metadata": {
        "id": "B4eJIOySTfdv",
        "outputId": "63a2b228-3c28-4a48-c897-3c81c7b85cbe",
        "colab": {
          "base_uri": "https://localhost:8080/"
        }
      },
      "execution_count": 28,
      "outputs": [
        {
          "output_type": "stream",
          "name": "stdout",
          "text": [
            "['A', 'A', 'A', 'A', ' The cuberoot of 5 is 125', 'A', 'A', 'A', 'A', ' The cuberoot of 10 is 1000', 'A', 'A', 'A', 'A', ' The cuberoot of 15 is 3375', 'A', 'A', 'A', 'A']\n"
          ]
        }
      ]
    },
    {
      "cell_type": "code",
      "source": [],
      "metadata": {
        "id": "iZ5wzp2rTqdl"
      },
      "execution_count": null,
      "outputs": []
    },
    {
      "cell_type": "code",
      "source": [
        "#Palindrome program\n",
        "#Try to write a program to determine whether a given sequence of characters is a palindrome or not\n",
        "\n",
        "\"\"\"\n",
        "# Steps :\n",
        "1. Accept input\n",
        "2. Check the characters from start\n",
        "3. Check the characters from the end and validate if they are equal to the sequence in step 2\n",
        "4. If yes return palindrome else return not a palindrome\n",
        "\"\"\"\n"
      ],
      "metadata": {
        "id": "xZvXNSU8T5bD",
        "outputId": "a4094c74-c709-4db5-a4f5-68121e0cacbf",
        "colab": {
          "base_uri": "https://localhost:8080/",
          "height": 106
        }
      },
      "execution_count": 51,
      "outputs": [
        {
          "output_type": "error",
          "ename": "SyntaxError",
          "evalue": "incomplete input (<ipython-input-51-991429ff1760>, line 4)",
          "traceback": [
            "\u001b[0;36m  File \u001b[0;32m\"<ipython-input-51-991429ff1760>\"\u001b[0;36m, line \u001b[0;32m4\u001b[0m\n\u001b[0;31m    \"\"\"\u001b[0m\n\u001b[0m    ^\u001b[0m\n\u001b[0;31mSyntaxError\u001b[0m\u001b[0;31m:\u001b[0m incomplete input\n"
          ]
        }
      ]
    },
    {
      "cell_type": "code",
      "source": [
        "pl1 = \"mod\""
      ],
      "metadata": {
        "id": "UvOFcBpNffCr"
      },
      "execution_count": 54,
      "outputs": []
    },
    {
      "cell_type": "code",
      "source": [
        "pl2 = \"mom\""
      ],
      "metadata": {
        "id": "7ZiACLR0f1OT"
      },
      "execution_count": 58,
      "outputs": []
    },
    {
      "cell_type": "code",
      "source": [
        "pl1==pl2"
      ],
      "metadata": {
        "id": "7JKgrGCpf5H8",
        "outputId": "8e46ec7c-73e9-47ed-ab5d-b28a73878531",
        "colab": {
          "base_uri": "https://localhost:8080/"
        }
      },
      "execution_count": 59,
      "outputs": [
        {
          "output_type": "execute_result",
          "data": {
            "text/plain": [
              "False"
            ]
          },
          "metadata": {},
          "execution_count": 59
        }
      ]
    },
    {
      "cell_type": "code",
      "source": [
        "def isPalindrome(s):\n",
        "    return s == s[::-1]\n",
        "\n",
        "\n",
        "# Driver code\n",
        "s = \"ASANTAATNASA\"\n",
        "ans = isPalindrome(s)\n",
        "\n",
        "if ans:\n",
        "    print(\"Yes\")\n",
        "else:\n",
        "    print(\"No\")"
      ],
      "metadata": {
        "id": "6sZyags5gLP1",
        "outputId": "5089661a-032f-48aa-ee6b-09a829581fed",
        "colab": {
          "base_uri": "https://localhost:8080/"
        }
      },
      "execution_count": 64,
      "outputs": [
        {
          "output_type": "stream",
          "name": "stdout",
          "text": [
            "Yes\n"
          ]
        }
      ]
    },
    {
      "cell_type": "code",
      "source": [],
      "metadata": {
        "id": "tKJafS8Igf9H"
      },
      "execution_count": null,
      "outputs": []
    }
  ]
}