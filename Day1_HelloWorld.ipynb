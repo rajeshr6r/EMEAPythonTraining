{
  "nbformat": 4,
  "nbformat_minor": 0,
  "metadata": {
    "colab": {
      "provenance": [],
      "authorship_tag": "ABX9TyObKU2FEICwgDRzOSQFvJaT",
      "include_colab_link": true
    },
    "kernelspec": {
      "name": "python3",
      "display_name": "Python 3"
    },
    "language_info": {
      "name": "python"
    }
  },
  "cells": [
    {
      "cell_type": "markdown",
      "metadata": {
        "id": "view-in-github",
        "colab_type": "text"
      },
      "source": [
        "<a href=\"https://colab.research.google.com/github/rajeshr6r/EMEAPythonTraining/blob/main/Day1_HelloWorld.ipynb\" target=\"_parent\"><img src=\"https://colab.research.google.com/assets/colab-badge.svg\" alt=\"Open In Colab\"/></a>"
      ]
    },
    {
      "cell_type": "markdown",
      "source": [
        "**Welcome to Python Programming** . <br> Here are set of simple commands for you to run and practice. Please feel free to edit the commands and play around. "
      ],
      "metadata": {
        "id": "YQyyJU5LUNVA"
      }
    },
    {
      "cell_type": "code",
      "execution_count": 25,
      "metadata": {
        "id": "tVJ4e5dFPlmF",
        "colab": {
          "base_uri": "https://localhost:8080/"
        },
        "outputId": "724b68c4-ade7-46b8-d235-2b6dd745bc9e"
      },
      "outputs": [
        {
          "output_type": "stream",
          "name": "stdout",
          "text": [
            "Hello world to Python Programming\n",
            "This is the second line \n"
          ]
        }
      ],
      "source": [
        "print(\"Hello world to Python Programming\")\n",
        "print(\"This is the second line \")"
      ]
    },
    {
      "cell_type": "code",
      "source": [
        "print('a'*8)"
      ],
      "metadata": {
        "id": "-hq1Sv9oQA5U"
      },
      "execution_count": null,
      "outputs": []
    },
    {
      "cell_type": "code",
      "source": [
        "for i in range(10,1,-2):\n",
        "  print(f\"Length is {len('*'*i)}\",'*'*i)"
      ],
      "metadata": {
        "id": "qQafLU4iP9dR"
      },
      "execution_count": null,
      "outputs": []
    },
    {
      "cell_type": "code",
      "source": [
        "for i in range(1,10,2):\n",
        "  print(f\"Length is {len('*'*i)}\",'*'*i)"
      ],
      "metadata": {
        "id": "Jc0J8KSWQy0L"
      },
      "execution_count": null,
      "outputs": []
    },
    {
      "cell_type": "code",
      "source": [],
      "metadata": {
        "id": "UfNX5EwgRH58"
      },
      "execution_count": null,
      "outputs": []
    }
  ]
}