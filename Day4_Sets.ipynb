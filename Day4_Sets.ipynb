{
  "cells": [
    {
      "cell_type": "markdown",
      "metadata": {
        "id": "view-in-github",
        "colab_type": "text"
      },
      "source": [
        "<a href=\"https://colab.research.google.com/github/rajeshr6r/EMEAPythonTraining/blob/main/Day4_Sets.ipynb\" target=\"_parent\"><img src=\"https://colab.research.google.com/assets/colab-badge.svg\" alt=\"Open In Colab\"/></a>"
      ]
    },
    {
      "cell_type": "code",
      "execution_count": 1,
      "metadata": {
        "id": "lua6yw-aF3y5"
      },
      "outputs": [],
      "source": [
        "my_list = [1,2,3,1]"
      ]
    },
    {
      "cell_type": "code",
      "execution_count": null,
      "metadata": {
        "id": "KAbPrJbIF3y9",
        "outputId": "63f36b17-382b-4e81-8849-157991724f7b"
      },
      "outputs": [
        {
          "data": {
            "text/plain": [
              "[1, 2, 3, 1]"
            ]
          },
          "execution_count": 3,
          "metadata": {},
          "output_type": "execute_result"
        }
      ],
      "source": [
        "my_list"
      ]
    },
    {
      "cell_type": "code",
      "source": [
        "my_list.append(9)"
      ],
      "metadata": {
        "id": "oR8Z_rYoHDng"
      },
      "execution_count": 4,
      "outputs": []
    },
    {
      "cell_type": "code",
      "source": [
        "my_list"
      ],
      "metadata": {
        "colab": {
          "base_uri": "https://localhost:8080/"
        },
        "id": "H-md1B0XHN9Y",
        "outputId": "285fb5e6-e000-4e52-bb26-913e7bbdee3a"
      },
      "execution_count": 5,
      "outputs": [
        {
          "output_type": "execute_result",
          "data": {
            "text/plain": [
              "[1, 2, 3, 1, 9]"
            ]
          },
          "metadata": {},
          "execution_count": 5
        }
      ]
    },
    {
      "cell_type": "code",
      "source": [
        "help(my_list.insert)"
      ],
      "metadata": {
        "colab": {
          "base_uri": "https://localhost:8080/"
        },
        "id": "3B9G0HPbHTAJ",
        "outputId": "68e3ec2d-af23-40fd-ce2a-9938165cca4b"
      },
      "execution_count": 6,
      "outputs": [
        {
          "output_type": "stream",
          "name": "stdout",
          "text": [
            "Help on built-in function insert:\n",
            "\n",
            "insert(index, object, /) method of builtins.list instance\n",
            "    Insert object before index.\n",
            "\n"
          ]
        }
      ]
    },
    {
      "cell_type": "markdown",
      "metadata": {
        "id": "dWeQuoJEF3y_"
      },
      "source": [
        "## casting"
      ]
    },
    {
      "cell_type": "code",
      "execution_count": 7,
      "metadata": {
        "id": "pGVC5F9iF3zB"
      },
      "outputs": [],
      "source": [
        "my_set = set(my_list)"
      ]
    },
    {
      "cell_type": "code",
      "source": [
        "my_new_set=set((1,2,3,1,4,5)) # using a tuple () parantheses\n",
        "print(my_new_set)"
      ],
      "metadata": {
        "colab": {
          "base_uri": "https://localhost:8080/"
        },
        "id": "I1u05O4yHruY",
        "outputId": "7fc24771-3509-41ad-8ed3-89e12261b3a3"
      },
      "execution_count": 11,
      "outputs": [
        {
          "output_type": "stream",
          "name": "stdout",
          "text": [
            "{1, 2, 3, 4, 5}\n"
          ]
        }
      ]
    },
    {
      "cell_type": "code",
      "source": [
        "my_list_set=set([1,2,3,1,4,5]) # using a list [] square braces\n",
        "print(my_list_set)"
      ],
      "metadata": {
        "colab": {
          "base_uri": "https://localhost:8080/"
        },
        "id": "mT9ZxakkH5D-",
        "outputId": "53d00e1e-7c2a-49c0-e140-38f819593767"
      },
      "execution_count": 12,
      "outputs": [
        {
          "output_type": "stream",
          "name": "stdout",
          "text": [
            "{1, 2, 3, 4, 5}\n"
          ]
        }
      ]
    },
    {
      "cell_type": "code",
      "execution_count": 13,
      "metadata": {
        "colab": {
          "base_uri": "https://localhost:8080/"
        },
        "id": "Gs5FefJUF3zD",
        "outputId": "a58ff2d2-db73-4519-8724-33b538a583f0"
      },
      "outputs": [
        {
          "output_type": "stream",
          "name": "stdout",
          "text": [
            "{1, 2, 3, 4}\n"
          ]
        }
      ],
      "source": [
        "my_final_set={1,2,3,4,1,2,3,4} # most obvious method of referencing or initializing a set\n",
        "print(my_final_set)"
      ]
    },
    {
      "cell_type": "code",
      "source": [
        "# add a value to a set\n",
        "my_final_set.add('a')\n",
        "print(my_final_set)"
      ],
      "metadata": {
        "colab": {
          "base_uri": "https://localhost:8080/"
        },
        "id": "rxUjnGNVImn1",
        "outputId": "a65be5dd-e6b5-4000-a3a7-554537bdea83"
      },
      "execution_count": 16,
      "outputs": [
        {
          "output_type": "stream",
          "name": "stdout",
          "text": [
            "{1, 2, 3, 4, 'a'}\n"
          ]
        }
      ]
    },
    {
      "cell_type": "code",
      "source": [
        "my_list_set\n",
        "my_final_set\n",
        "print(my_list_set.intersection(my_final_set))"
      ],
      "metadata": {
        "colab": {
          "base_uri": "https://localhost:8080/"
        },
        "id": "pEIbNgzFJRpv",
        "outputId": "865c1562-d4c2-44a6-a625-0edf2d3e3b06"
      },
      "execution_count": 18,
      "outputs": [
        {
          "output_type": "stream",
          "name": "stdout",
          "text": [
            "{1, 2, 3, 4}\n"
          ]
        }
      ]
    },
    {
      "cell_type": "code",
      "source": [
        "print(my_list_set)\n",
        "print(my_final_set)\n",
        "print(my_list_set.difference(my_final_set))\n",
        "print(my_final_set.difference(my_list_set))"
      ],
      "metadata": {
        "colab": {
          "base_uri": "https://localhost:8080/"
        },
        "id": "f0p7HYtxJ07u",
        "outputId": "f29f89ae-ee26-4510-ebe2-de0297b6018a"
      },
      "execution_count": 21,
      "outputs": [
        {
          "output_type": "stream",
          "name": "stdout",
          "text": [
            "{1, 2, 3, 4, 5}\n",
            "{1, 2, 3, 4, 'a'}\n",
            "{5}\n",
            "{'a'}\n"
          ]
        }
      ]
    },
    {
      "cell_type": "code",
      "source": [
        "my_final_set.add(7)\n",
        "print(my_final_set)"
      ],
      "metadata": {
        "colab": {
          "base_uri": "https://localhost:8080/"
        },
        "id": "t5gmO_1jKWwy",
        "outputId": "cf931101-1803-4413-e703-c20864cf5a92"
      },
      "execution_count": 22,
      "outputs": [
        {
          "output_type": "stream",
          "name": "stdout",
          "text": [
            "{1, 2, 3, 4, 'a', 7}\n"
          ]
        }
      ]
    },
    {
      "cell_type": "code",
      "source": [
        "my_final_set.add(7) # it has to validate whether the item is already there or not in teh set .\n",
        "print(my_final_set)"
      ],
      "metadata": {
        "colab": {
          "base_uri": "https://localhost:8080/"
        },
        "id": "B8P18JY9Kqu7",
        "outputId": "3107fcd3-3614-4adf-eac3-40d15da1b720"
      },
      "execution_count": 24,
      "outputs": [
        {
          "output_type": "stream",
          "name": "stdout",
          "text": [
            "{1, 2, 3, 4, 'a', 7}\n"
          ]
        }
      ]
    },
    {
      "cell_type": "code",
      "execution_count": null,
      "metadata": {
        "id": "lz5lFYfHF3zG"
      },
      "outputs": [],
      "source": [
        "\n",
        "my_set_2 = {1,2,3,1}"
      ]
    },
    {
      "cell_type": "code",
      "execution_count": null,
      "metadata": {
        "id": "8CmEe_WgF3zH",
        "outputId": "55c3ad10-e97d-47c5-dfb7-2ae2f871f094"
      },
      "outputs": [
        {
          "data": {
            "text/plain": [
              "{1, 2, 3}"
            ]
          },
          "execution_count": 7,
          "metadata": {},
          "output_type": "execute_result"
        }
      ],
      "source": [
        "my_set_2"
      ]
    },
    {
      "cell_type": "code",
      "execution_count": null,
      "metadata": {
        "id": "GO2anWUVF3zH",
        "outputId": "8a92c8de-98dc-4489-8cf2-0392f06b76ad"
      },
      "outputs": [
        {
          "data": {
            "text/plain": [
              "set"
            ]
          },
          "execution_count": 8,
          "metadata": {},
          "output_type": "execute_result"
        }
      ],
      "source": [
        "type(my_set_2)"
      ]
    },
    {
      "cell_type": "code",
      "execution_count": null,
      "metadata": {
        "id": "t9uHuRIsF3zI"
      },
      "outputs": [],
      "source": [
        "my_set_3 = {\"a\",\"b\",\"a\"}"
      ]
    },
    {
      "cell_type": "code",
      "execution_count": null,
      "metadata": {
        "id": "JDlT6I5IF3zJ",
        "outputId": "af543a85-127a-4828-dcce-d73179893ec5"
      },
      "outputs": [
        {
          "data": {
            "text/plain": [
              "{'a', 'b'}"
            ]
          },
          "execution_count": 10,
          "metadata": {},
          "output_type": "execute_result"
        }
      ],
      "source": [
        "my_set_3"
      ]
    },
    {
      "cell_type": "code",
      "execution_count": null,
      "metadata": {
        "id": "WaQKKQmGF3zK"
      },
      "outputs": [],
      "source": [
        "my_list = []"
      ]
    },
    {
      "cell_type": "code",
      "execution_count": null,
      "metadata": {
        "id": "jJhqM24oF3zK",
        "outputId": "3c221374-a0d1-4bd8-872a-9cfe2ec8e3d3"
      },
      "outputs": [
        {
          "data": {
            "text/plain": [
              "list"
            ]
          },
          "execution_count": 12,
          "metadata": {},
          "output_type": "execute_result"
        }
      ],
      "source": [
        "type(my_list)"
      ]
    },
    {
      "cell_type": "code",
      "execution_count": null,
      "metadata": {
        "id": "bhXbtqICF3zL",
        "outputId": "87f4d9ba-fef2-4d32-a360-032eb38b6b4f"
      },
      "outputs": [
        {
          "data": {
            "text/plain": [
              "[]"
            ]
          },
          "execution_count": 13,
          "metadata": {},
          "output_type": "execute_result"
        }
      ],
      "source": [
        "my_list"
      ]
    },
    {
      "cell_type": "code",
      "execution_count": null,
      "metadata": {
        "id": "EXpErCqYF3zL"
      },
      "outputs": [],
      "source": [
        "my_list.append(1)"
      ]
    },
    {
      "cell_type": "code",
      "execution_count": null,
      "metadata": {
        "id": "qhyNdUA5F3zM",
        "outputId": "a0bf4c6f-715f-4c84-80dc-9d0540bc5e9e"
      },
      "outputs": [
        {
          "data": {
            "text/plain": [
              "[1]"
            ]
          },
          "execution_count": 15,
          "metadata": {},
          "output_type": "execute_result"
        }
      ],
      "source": [
        "my_list"
      ]
    },
    {
      "cell_type": "code",
      "execution_count": null,
      "metadata": {
        "id": "f_EDOK0cF3zM"
      },
      "outputs": [],
      "source": [
        "my_set_4 = {}"
      ]
    },
    {
      "cell_type": "code",
      "execution_count": null,
      "metadata": {
        "id": "0pH8DvJWF3zN",
        "outputId": "48872fa4-1907-4a7e-b398-6371d488b5b6"
      },
      "outputs": [
        {
          "data": {
            "text/plain": [
              "{}"
            ]
          },
          "execution_count": 17,
          "metadata": {},
          "output_type": "execute_result"
        }
      ],
      "source": [
        "my_set_4"
      ]
    },
    {
      "cell_type": "code",
      "execution_count": null,
      "metadata": {
        "id": "RMq4FsomF3zN",
        "outputId": "2a95eef3-4fea-42e8-b339-cfd8128714e7"
      },
      "outputs": [
        {
          "data": {
            "text/plain": [
              "dict"
            ]
          },
          "execution_count": 18,
          "metadata": {},
          "output_type": "execute_result"
        }
      ],
      "source": [
        "type(my_set_4)"
      ]
    },
    {
      "cell_type": "code",
      "execution_count": null,
      "metadata": {
        "id": "d8HpiCI-F3zO"
      },
      "outputs": [],
      "source": [
        "my_set_4[\"key1\"] = 1"
      ]
    },
    {
      "cell_type": "code",
      "execution_count": null,
      "metadata": {
        "id": "ArDIh998F3zO",
        "outputId": "8de41c50-9e07-4299-ddc5-a7cbd57b0e4f"
      },
      "outputs": [
        {
          "data": {
            "text/plain": [
              "{'key1': 1}"
            ]
          },
          "execution_count": 20,
          "metadata": {},
          "output_type": "execute_result"
        }
      ],
      "source": [
        "my_set_4"
      ]
    },
    {
      "cell_type": "code",
      "execution_count": null,
      "metadata": {
        "id": "r5rj4Q5iF3zP"
      },
      "outputs": [],
      "source": [
        "my_set_5 = set()"
      ]
    },
    {
      "cell_type": "code",
      "execution_count": null,
      "metadata": {
        "id": "ByPvu1SnF3zP",
        "outputId": "00da88a7-4ddb-4366-b6e7-4745c1f4bc11"
      },
      "outputs": [
        {
          "data": {
            "text/plain": [
              "set()"
            ]
          },
          "execution_count": 22,
          "metadata": {},
          "output_type": "execute_result"
        }
      ],
      "source": [
        "my_set_5"
      ]
    },
    {
      "cell_type": "code",
      "execution_count": null,
      "metadata": {
        "id": "cFK-EzAvF3zP"
      },
      "outputs": [],
      "source": [
        "my_set_5.add(1)"
      ]
    },
    {
      "cell_type": "code",
      "execution_count": null,
      "metadata": {
        "id": "Jkj-1dOfF3zQ"
      },
      "outputs": [],
      "source": [
        "my_set_5.add(2)"
      ]
    },
    {
      "cell_type": "code",
      "execution_count": null,
      "metadata": {
        "id": "w33EQW22F3zQ",
        "outputId": "9b0228cf-9559-4675-f2c0-9c73499f6a60"
      },
      "outputs": [
        {
          "data": {
            "text/plain": [
              "{1, 2}"
            ]
          },
          "execution_count": 25,
          "metadata": {},
          "output_type": "execute_result"
        }
      ],
      "source": [
        "my_set_5"
      ]
    },
    {
      "cell_type": "code",
      "execution_count": null,
      "metadata": {
        "id": "zQ7YbH9jF3zQ"
      },
      "outputs": [],
      "source": [
        "my_set_5.add(2)"
      ]
    },
    {
      "cell_type": "code",
      "execution_count": null,
      "metadata": {
        "id": "WQIB8Q6qF3zR",
        "outputId": "439ea628-45a7-476c-82ee-26af71993882"
      },
      "outputs": [
        {
          "data": {
            "text/plain": [
              "{1, 2}"
            ]
          },
          "execution_count": 27,
          "metadata": {},
          "output_type": "execute_result"
        }
      ],
      "source": [
        "my_set_5"
      ]
    },
    {
      "cell_type": "code",
      "execution_count": null,
      "metadata": {
        "id": "eUOF5vlWF3zR",
        "outputId": "29f7ded3-c426-4251-c859-45a3ab1bdc9b"
      },
      "outputs": [
        {
          "data": {
            "text/plain": [
              "set"
            ]
          },
          "execution_count": 28,
          "metadata": {},
          "output_type": "execute_result"
        }
      ],
      "source": [
        "type(my_set_5)"
      ]
    },
    {
      "cell_type": "code",
      "execution_count": null,
      "metadata": {
        "id": "BRBrakCqF3zR"
      },
      "outputs": [],
      "source": [
        "my_dict_2 = dict()"
      ]
    },
    {
      "cell_type": "code",
      "execution_count": null,
      "metadata": {
        "id": "dKqQSZIpF3zS"
      },
      "outputs": [],
      "source": [
        "my_dict_2[\"key1\"] = 1"
      ]
    },
    {
      "cell_type": "code",
      "execution_count": null,
      "metadata": {
        "id": "IG_aKJR6F3zS",
        "outputId": "fe34b63c-7f6f-40b9-8557-bc0aaa37a032"
      },
      "outputs": [
        {
          "data": {
            "text/plain": [
              "{'key1': 1}"
            ]
          },
          "execution_count": 31,
          "metadata": {},
          "output_type": "execute_result"
        }
      ],
      "source": [
        "my_dict_2"
      ]
    },
    {
      "cell_type": "code",
      "execution_count": null,
      "metadata": {
        "id": "82c8eD1ZF3zS"
      },
      "outputs": [],
      "source": [
        "my_list_10 = list()"
      ]
    },
    {
      "cell_type": "code",
      "execution_count": null,
      "metadata": {
        "id": "FB1JwbjnF3zT",
        "outputId": "01ab69db-2de3-43e4-d942-63e049cf45dd"
      },
      "outputs": [
        {
          "data": {
            "text/plain": [
              "list"
            ]
          },
          "execution_count": 33,
          "metadata": {},
          "output_type": "execute_result"
        }
      ],
      "source": [
        "type(my_list_10)"
      ]
    },
    {
      "cell_type": "code",
      "execution_count": null,
      "metadata": {
        "id": "coQFCXhlF3zT",
        "outputId": "3a723d17-15ca-4f65-e959-a11887c4e08a"
      },
      "outputs": [
        {
          "data": {
            "text/plain": [
              "[]"
            ]
          },
          "execution_count": 34,
          "metadata": {},
          "output_type": "execute_result"
        }
      ],
      "source": [
        "my_list_10"
      ]
    },
    {
      "cell_type": "code",
      "execution_count": null,
      "metadata": {
        "id": "OMtbWUETF3zT"
      },
      "outputs": [],
      "source": [
        "my_list_10.append(\"a\")"
      ]
    },
    {
      "cell_type": "code",
      "execution_count": null,
      "metadata": {
        "id": "SnVg-CnPF3zU"
      },
      "outputs": [],
      "source": [
        "my_list_10.append(2)"
      ]
    },
    {
      "cell_type": "code",
      "execution_count": null,
      "metadata": {
        "id": "t1tGyLryF3zU"
      },
      "outputs": [],
      "source": [
        "my_list_10.append([1,2])"
      ]
    },
    {
      "cell_type": "code",
      "execution_count": null,
      "metadata": {
        "id": "vd9AiNhzF3zU",
        "outputId": "a1face43-a265-4898-9493-a423fcd91f32"
      },
      "outputs": [
        {
          "data": {
            "text/plain": [
              "['a', 2, [1, 2]]"
            ]
          },
          "execution_count": 38,
          "metadata": {},
          "output_type": "execute_result"
        }
      ],
      "source": [
        "my_list_10"
      ]
    },
    {
      "cell_type": "code",
      "execution_count": null,
      "metadata": {
        "id": "R12gNLXYF3zV"
      },
      "outputs": [],
      "source": []
    }
  ],
  "metadata": {
    "kernelspec": {
      "display_name": "Python 3",
      "language": "python",
      "name": "python3"
    },
    "language_info": {
      "codemirror_mode": {
        "name": "ipython",
        "version": 3
      },
      "file_extension": ".py",
      "mimetype": "text/x-python",
      "name": "python",
      "nbconvert_exporter": "python",
      "pygments_lexer": "ipython3",
      "version": "3.6.4"
    },
    "colab": {
      "provenance": [],
      "include_colab_link": true
    }
  },
  "nbformat": 4,
  "nbformat_minor": 0
}