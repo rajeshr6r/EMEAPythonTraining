{
  "cells": [
    {
      "cell_type": "markdown",
      "metadata": {
        "id": "view-in-github",
        "colab_type": "text"
      },
      "source": [
        "<a href=\"https://colab.research.google.com/github/rajeshr6r/EMEAPythonTraining/blob/main/Day05_python_functions.ipynb\" target=\"_parent\"><img src=\"https://colab.research.google.com/assets/colab-badge.svg\" alt=\"Open In Colab\"/></a>"
      ]
    },
    {
      "cell_type": "markdown",
      "metadata": {
        "id": "IX9s-UNMw-0f"
      },
      "source": [
        "# Defining Custom Python Functions\n",
        "\n"
      ]
    },
    {
      "cell_type": "markdown",
      "metadata": {
        "id": "ubhLptmyw-0l"
      },
      "source": [
        "## Objectives\n",
        "\n",
        "* Understand the benefits of breaking programs into functions\n",
        "* Know the difference between defining and calling a function\n",
        "* Write a small function"
      ]
    },
    {
      "cell_type": "markdown",
      "metadata": {
        "id": "r-wOtKZWw-0z"
      },
      "source": [
        "## Functions\n",
        "\n",
        "Programs can easily become large and unweilding. Functions enable us to break programs down into smaller chunks, making our code easier to understand *and* easier to debug.\n",
        "\n",
        "A further benefit of functions is that they can be reused - it's the 'write once, use often' philosophy of coding.\n",
        "\n",
        "We've already called several built-in functions, which might seem a little bit like black boxes but below we will define our own functions and control their internal workings ourselves."
      ]
    },
    {
      "cell_type": "markdown",
      "metadata": {
        "id": "7v5Cg1kVw-00"
      },
      "source": [
        "\n",
        "\n",
        "## Defining Functions with `def`\n",
        "\n",
        "Defining our own functions in Python uses a `def` statement and takes the following form:\n",
        "\n",
        "```python\n",
        "def my_function():\n",
        "    print('My custom function has been called.')\n",
        "    return\n",
        "```"
      ]
    },
    {
      "cell_type": "markdown",
      "metadata": {
        "id": "pq7B0C4xw-02"
      },
      "source": [
        "There are five important features of `def` statements:\n",
        "\n",
        "1. Our definition starts with `def`.\n",
        "2. This is followed by a name for our custom function. Function names follow the same rules as variable names.\n",
        "3. After the variable name we need a pair of parentheses (we will come back to these below).\n",
        "4. `def` statements must end in a colon, this signals the start of the code you want to run when your custom function is called.\n",
        "5. The body of a `def` statement must be indented. Thankfully, Jupyter should autoindent lines following a colon for you.\n",
        "6. The final line of a function must `return` something (refer back to Returns in Built-in Functions, Help and Documentation above). If nothing is provided (as here) then the function returns `None`."
      ]
    },
    {
      "cell_type": "markdown",
      "metadata": {
        "id": "MT3XjRNtw-03"
      },
      "source": [
        "<div style=\"border: 3px solid #1b9e77; border-radius: 5px; padding: 10pt\"><strong>Task 8.1:</strong> Run the following cell to define <code>my_function</code>, as defined above. Why does the cell not print anything?\n",
        "<br/>\n",
        "</div>"
      ]
    },
    {
      "cell_type": "code",
      "execution_count": null,
      "metadata": {
        "id": "R-UQyOQrw-07"
      },
      "outputs": [],
      "source": [
        "# Define the function\n",
        "# return statement is optional if you are not going to return any value\n",
        "def my_function():\n",
        "    print(\"My custom function has been called.\")\n",
        "    return"
      ]
    },
    {
      "cell_type": "code",
      "source": [
        "# call the function\n",
        "returnvalue = my_function()\n",
        "print(f\"Return value from the function is :  {returnvalue}\")"
      ],
      "metadata": {
        "id": "GFGaCYaqe4TX",
        "outputId": "a75a35e2-37db-4bfa-a71e-5449c2e0b511",
        "colab": {
          "base_uri": "https://localhost:8080/"
        }
      },
      "execution_count": null,
      "outputs": [
        {
          "output_type": "stream",
          "name": "stdout",
          "text": [
            "My custom function has been called.\n",
            "Return value from the function is :  None\n"
          ]
        }
      ]
    },
    {
      "cell_type": "code",
      "source": [
        "# Define the function that prints something and returns something\n",
        "def myvalue_returning_function():\n",
        "    print(\"My custom function has been called.\")\n",
        "    return \"Hello\""
      ],
      "metadata": {
        "id": "hh2AwX-LfFuv"
      },
      "execution_count": null,
      "outputs": []
    },
    {
      "cell_type": "code",
      "source": [
        "# call the myvalue_returning_function\n",
        "returnvalue = myvalue_returning_function()\n",
        "print(f\"Return value from the function is :  {returnvalue}\")"
      ],
      "metadata": {
        "id": "pAfpPusAfZ0k",
        "outputId": "5a41c02c-cf60-4372-9db0-46a410f4d728",
        "colab": {
          "base_uri": "https://localhost:8080/"
        }
      },
      "execution_count": null,
      "outputs": [
        {
          "output_type": "stream",
          "name": "stdout",
          "text": [
            "My custom function has been called.\n",
            "Return value from the function is :  Hello\n"
          ]
        }
      ]
    },
    {
      "cell_type": "markdown",
      "metadata": {
        "id": "M7sRoOtiw-1B"
      },
      "source": [
        "## Functions and Parameters\n",
        "\n",
        "Many of the built-in functions we've used so far have input parameters.\n",
        "\n",
        "These are defined by putting the name of a parameter between the parentheses of our `def` statement. In fact, we can include several parameters, like so:\n",
        "\n",
        "```python\n",
        "def print_date(year, month, day):\n",
        "    print(f\"The ISO format date is {year}-{month:02}-{day:02}\")\n",
        "    return\n",
        "```\n",
        "\n",
        "N.B. The formatting `{0:02}` means 'format (`:`) the first parameter (`0`) with leading zeros (`0`) to a width of two digits (`2`), e.g. `f\"{9:02}\"` will print `09`."
      ]
    },
    {
      "cell_type": "code",
      "source": [
        "def print_date(param1, param2, param3):\n",
        "    print(f\"The ISO format date is {param1:02}-{param2:02}-{param3:02}\")\n",
        "    return"
      ],
      "metadata": {
        "id": "rHvHiEv3Yuri"
      },
      "execution_count": 5,
      "outputs": []
    },
    {
      "cell_type": "code",
      "source": [
        "# Call the function :\n",
        "print_date(9,1,3)"
      ],
      "metadata": {
        "colab": {
          "base_uri": "https://localhost:8080/"
        },
        "id": "_4Ro1NkzY3Yd",
        "outputId": "7afe2960-40fb-4325-a358-4d688c6f8c01"
      },
      "execution_count": 6,
      "outputs": [
        {
          "output_type": "stream",
          "name": "stdout",
          "text": [
            "The ISO format date is 09-01-03\n"
          ]
        }
      ]
    },
    {
      "cell_type": "code",
      "source": [
        "def evaltype(object):\n",
        "  \"\"\"\n",
        "  Requires 1 positional argument object which can be any pythonic object\n",
        "  Prints the type of the object passed as argument\n",
        "  \"\"\"\n",
        "  print (f\"Type of object is {type(object)}\")"
      ],
      "metadata": {
        "id": "T2tINVHlZXI5"
      },
      "execution_count": 22,
      "outputs": []
    },
    {
      "cell_type": "code",
      "source": [
        "myobj = tuple() # initializes an empty tuple\n",
        "evaltype(myobj)\n",
        "print(myobj)"
      ],
      "metadata": {
        "colab": {
          "base_uri": "https://localhost:8080/"
        },
        "id": "auM8XdS6ZlCm",
        "outputId": "cc5a3f48-0e01-4047-aacf-37a55b1bb413"
      },
      "execution_count": 15,
      "outputs": [
        {
          "output_type": "stream",
          "name": "stdout",
          "text": [
            "Type of object is <class 'tuple'>\n",
            "()\n"
          ]
        }
      ]
    },
    {
      "cell_type": "code",
      "source": [
        "# extract the documentation provided for the function by the developer\n",
        "evaltype.__doc__"
      ],
      "metadata": {
        "colab": {
          "base_uri": "https://localhost:8080/",
          "height": 35
        },
        "id": "5hX-aarGagWC",
        "outputId": "eeec3faa-5d38-44a5-927b-193e5f38fc38"
      },
      "execution_count": 23,
      "outputs": [
        {
          "output_type": "execute_result",
          "data": {
            "text/plain": [
              "'\\n  Requires 1 positional argument object which can be any pythonic object \\n  Prints the type of the object passed as argument\\n  '"
            ],
            "application/vnd.google.colaboratory.intrinsic+json": {
              "type": "string"
            }
          },
          "metadata": {},
          "execution_count": 23
        }
      ]
    },
    {
      "cell_type": "markdown",
      "metadata": {
        "id": "vI6BEEMNw-1F"
      },
      "source": [
        "### Optional Parameters\n",
        "\n",
        "We can even make optional parameters. Or, more precisely, we can give parameters default values. These default values can be used if the parameter is not used when the function is called."
      ]
    },
    {
      "cell_type": "markdown",
      "metadata": {
        "id": "OcgV4sGmw-1K"
      },
      "source": [
        "<div style=\"border: 3px solid #1b9e77; border-radius: 5px; padding: 10pt\"><strong>Task 8.2:</strong> Run the following cell to define and call <code>print_date</code>. How is this definition different to the one above? Add a second call to the function but do not use the <code>day</code> parameter.\n",
        "<br/>\n",
        "</div>"
      ]
    },
    {
      "cell_type": "code",
      "execution_count": 25,
      "metadata": {
        "id": "5o1vxpDgw-1L",
        "colab": {
          "base_uri": "https://localhost:8080/"
        },
        "outputId": "7e587bed-246d-4de2-8896-dc6404d2eede"
      },
      "outputs": [
        {
          "output_type": "stream",
          "name": "stdout",
          "text": [
            "The ISO format date is 2019-04-05\n"
          ]
        }
      ],
      "source": [
        "def print_date(year, month, day=1):\n",
        "    # Our function defaults to the first day of the month if the day is not given\n",
        "    print(f\"The ISO format date is {year}-{month:02}-{day:02}\")\n",
        "    return\n",
        "\n",
        "# Run the function with values for all parameters\n",
        "print_date(2019, 4, 5)"
      ]
    },
    {
      "cell_type": "code",
      "source": [
        "# a deliberate attempt to break the function with incorrect positional arguments\n",
        "print_date(4, 2019)"
      ],
      "metadata": {
        "colab": {
          "base_uri": "https://localhost:8080/"
        },
        "id": "HaprZ02RdwUs",
        "outputId": "755384f4-7585-4d11-9f34-fca251cff648"
      },
      "execution_count": 29,
      "outputs": [
        {
          "output_type": "stream",
          "name": "stdout",
          "text": [
            "The ISO format date is 4-2019-01\n"
          ]
        }
      ]
    },
    {
      "cell_type": "code",
      "source": [
        "# keywords used in the function call with their relevant values in the same sequence defined in the function\n",
        "print_date(year=2019, month=9, day=5)"
      ],
      "metadata": {
        "colab": {
          "base_uri": "https://localhost:8080/"
        },
        "id": "Kr11ggAoesvv",
        "outputId": "c0844fe6-1959-4f4d-c798-fc0b60a8d6aa"
      },
      "execution_count": 30,
      "outputs": [
        {
          "output_type": "stream",
          "name": "stdout",
          "text": [
            "The ISO format date is 2019-09-05\n"
          ]
        }
      ]
    },
    {
      "cell_type": "code",
      "source": [
        "# Best practice . To always pass values to a function using keyword arguments\n",
        "print_date(month=9, day=5,year=2019,)"
      ],
      "metadata": {
        "colab": {
          "base_uri": "https://localhost:8080/"
        },
        "id": "7g75XSjUe92Q",
        "outputId": "afd83e6c-c22d-48c6-83fb-78ab9146a389"
      },
      "execution_count": 31,
      "outputs": [
        {
          "output_type": "stream",
          "name": "stdout",
          "text": [
            "The ISO format date is 2019-09-05\n"
          ]
        }
      ]
    },
    {
      "cell_type": "code",
      "source": [
        "print_date(2019,5,day=6)\n"
      ],
      "metadata": {
        "colab": {
          "base_uri": "https://localhost:8080/"
        },
        "id": "hxMSaosffisk",
        "outputId": "03e8f6d7-94ac-4e14-8b5f-afa34ecd6e24"
      },
      "execution_count": 39,
      "outputs": [
        {
          "output_type": "stream",
          "name": "stdout",
          "text": [
            "The ISO format date is 2019-05-06\n"
          ]
        }
      ]
    },
    {
      "cell_type": "markdown",
      "source": [
        "Four golden rules about functions with paramters\n",
        "\n",
        "1. You should always pass values for all arguments if your function has no optional argument\n",
        "2. If your function has an optional argument you can still pass a value to it and it will override the default value set .\n",
        "3. It is always a good idea to pass value to arguments with their keywords . This way positional sequence doesnt matter .\n",
        "4. If you are going to pass some values without the keyword then always pass the ones without the keyword first followed by the ones with keyword."
      ],
      "metadata": {
        "id": "BCTmaD1tgrbU"
      }
    },
    {
      "cell_type": "markdown",
      "metadata": {
        "id": "pWmO7s_6w-1N"
      },
      "source": [
        "<div style=\"border: 3px solid #d95f02; border-radius: 5px; padding: 10pt\"><strong>Exercise 8.3:</strong> Fill in the gaps in the template below to create a function that increments a number by one. Check if the function works as expected.\n",
        "<br/>\n",
        ".</div>"
      ]
    },
    {
      "cell_type": "code",
      "execution_count": null,
      "metadata": {
        "id": "pcSNZZ-iw-1N"
      },
      "outputs": [],
      "source": [
        "def increment_number(____):\n",
        "    n_plus_1 = ____ + 1\n",
        "    return n_plus_1\n",
        "\n",
        "\n",
        "print(increment_number(49))"
      ]
    },
    {
      "cell_type": "markdown",
      "metadata": {
        "id": "1lBaWucdw-1R"
      },
      "source": [
        "<div style=\"border: 3px solid #d95f02; border-radius: 5px; padding: 10pt\"><strong>Exercise 8.4:</strong> In a new cell, create a function that  multiplies the length of any two words. Check if the function works as expected.\n",
        "<br/>\n",
        ".</div>"
      ]
    },
    {
      "cell_type": "markdown",
      "metadata": {
        "id": "UI_vBosAw-1T"
      },
      "source": [
        "## Functions and Returns\n",
        "\n",
        "So far we've left the return blank, which by default returns `None`.\n",
        "\n",
        "Much of the time our functions will need to return a value."
      ]
    },
    {
      "cell_type": "markdown",
      "metadata": {
        "id": "WVjIPVe0w-1U"
      },
      "source": [
        "<div style=\"border: 3px solid #1b9e77; border-radius: 5px; padding: 10pt\"><strong>Task 8.5:</strong> Read the cell below.\n",
        "  Let's go back to our microbial colony counting experiment.\n",
        "  Instead of just ignoring plates with few colonies, we now want to classify every plate for the further workflow.\n",
        "  The cell below defines a function <code>classify_well</code> that takes the <code>number_of_colonies</code> of colonies and returns the name of the appropriate size category (a string). Replace all the gaps (<code>____</code>) in the cell so that it runs over all the sizes and without errors.\n",
        "<br/>\n",
        "</div>"
      ]
    },
    {
      "cell_type": "code",
      "execution_count": null,
      "metadata": {
        "id": "Uv_Ymdo2w-1V"
      },
      "outputs": [],
      "source": [
        "def classify_well(____):\n",
        "    if number_of_colonies >= 75:\n",
        "        category = \"high density\"\n",
        "    elif number_of_colonies____25:\n",
        "        ____ = \"medium density\"\n",
        "    else:\n",
        "        category = \"low density\"\n",
        "    return ____\n",
        "\n",
        "\n",
        "wellplate_counts = [12, 9, 13, 19, 2, 16, 7, 10, 4, 1, 6, 18, 11]\n",
        "\n",
        "for ____ in wellplate_counts:\n",
        "    this_well_category = ____(this_well_number_of_colonies)\n",
        "    print(f\"This well is {____} with {____} colonies\")"
      ]
    },
    {
      "cell_type": "markdown",
      "metadata": {
        "id": "np6FQuijw-1W"
      },
      "source": [
        "<div style=\"border: 3px solid #d95f02; border-radius: 5px; padding: 10pt\"><strong>Exercise 8.6:</strong> Fill in the blanks in the cell below to define a function that takes a list of numbers and returns the smallest number in the list.\n",
        "  Add lines to call your function on <code>wellplate_counts</code> (as defined above).\n",
        "  Note that there is a built-in function <code>min</code> but, for this exercise, you should write your own function with loops and conditionals.\n",
        "<br/>\n",
        "\n",
        "</div>"
      ]
    },
    {
      "cell_type": "code",
      "execution_count": null,
      "metadata": {
        "id": "Y-MdGN1Hw-1X"
      },
      "outputs": [],
      "source": [
        "def my_minimum(numbers)____\n",
        "    minimum = ____\n",
        "    for element in ____:\n",
        "        if ____:\n",
        "            minimum = ____\n",
        "    ____ minimum"
      ]
    },
    {
      "cell_type": "markdown",
      "metadata": {
        "id": "nGfjOG23w-1X"
      },
      "source": [
        "## Key Points\n",
        "\n",
        "* Defining a function does not call (use) that function.\n",
        "* A `def` statement defines a function with a name, parameters, some internal code and something to `return` when that function is called."
      ]
    },
    {
      "cell_type": "markdown",
      "metadata": {
        "id": "rVlOZKdew-1Y"
      },
      "source": [
        "<div style=\"border: 3px solid #7570b3; border-radius: 5px; padding: 10pt\"><strong>Challenge 8.7:</strong> In a previous exercise we wrote the following algorithm, which is designed to check whether or not conditions are safe for flying your drone. Convert this script into a funtion called <code>safe_to_fly</code> and call it under three different conditions.</div>"
      ]
    },
    {
      "cell_type": "code",
      "execution_count": null,
      "metadata": {
        "id": "wNnhxvLEw-1Y"
      },
      "outputs": [],
      "source": [
        "rain = False\n",
        "bystanders = 0\n",
        "wind = 15  # km/h\n",
        "\n",
        "if rain == True or wind > 20:\n",
        "    print(\"You cannot fly a drone due to weather conditions (either rain of strong wind)!\")\n",
        "elif bystanders > 0:\n",
        "    print(\"You are putting bystanders at risk, you cannot fly your drone!\")\n",
        "else:\n",
        "    print(\"Go wild!\")"
      ]
    },
    {
      "cell_type": "code",
      "source": [
        "#Demo of  Positional and Keyword arguments using special argument names\n",
        "def demofunction(*positional, **keywords):\n",
        "    print (\"Positional:\", positional)\n",
        "    print (\"Keywords:\", keywords)"
      ],
      "metadata": {
        "id": "M9YmHzGz4nm0"
      },
      "execution_count": 41,
      "outputs": []
    },
    {
      "cell_type": "code",
      "source": [
        "# demonstrate keyword  arguments\n",
        "demofunction(a='one', b='two', c='three')"
      ],
      "metadata": {
        "id": "2No2mu0w4xdO",
        "colab": {
          "base_uri": "https://localhost:8080/"
        },
        "outputId": "8b9a4a1c-a0b9-4ff2-80cb-a9411ce5f52e"
      },
      "execution_count": 43,
      "outputs": [
        {
          "output_type": "stream",
          "name": "stdout",
          "text": [
            "Positional: ()\n",
            "Keywords: {'a': 'one', 'b': 'two', 'c': 'three'}\n"
          ]
        }
      ]
    },
    {
      "cell_type": "code",
      "source": [
        "# demonstrate positional arguments and keyword arguments\n",
        "demofunction(x='one',y='two',c='three',d='four',e='five')"
      ],
      "metadata": {
        "colab": {
          "base_uri": "https://localhost:8080/"
        },
        "id": "L6PlfTCqkpir",
        "outputId": "9c6d8f59-a892-43a3-cfdf-4f6861fc7940"
      },
      "execution_count": 45,
      "outputs": [
        {
          "output_type": "stream",
          "name": "stdout",
          "text": [
            "Positional: ()\n",
            "Keywords: {'x': 'one', 'y': 'two', 'c': 'three', 'd': 'four', 'e': 'five'}\n"
          ]
        }
      ]
    },
    {
      "cell_type": "code",
      "source": [
        "def demoarithmeticfunction(**keywords):   #kwargs\n",
        "    print (\"Keywords:\", keywords)\n",
        "    if keywords.get('operation'):\n",
        "      if keywords.get('operation')=='add':\n",
        "        return keywords.get('number1')+keywords.get('number2')\n",
        "      elif keywords.get('operation')=='sub':\n",
        "        return keywords.get('number1')-keywords.get('number2')\n",
        "      elif keywords.get('operation')=='mul':\n",
        "        return keywords.get('number1')*keywords.get('number2')\n",
        "      else:\n",
        "        return \"Something missing\"\n",
        "    else:\n",
        "      return \"operation param missing\""
      ],
      "metadata": {
        "id": "z9J34lPdlPsP"
      },
      "execution_count": 46,
      "outputs": []
    },
    {
      "cell_type": "code",
      "source": [
        "# Call the demoarithmetic function with operation param defined in scope\n",
        "demoarithmeticfunction(number1=1,number2=3,operation=\"add\")\n",
        "\n",
        "# Call the demoarithmetic function without operation param defined in scope\n",
        "demoarithmeticfunction(number1=1,number2=3,operation=\"\")\n",
        "\n",
        "#Call the demoarithmetic function with additional parameters that are not used anywhere in teh function\n",
        "demoarithmeticfunction(number1=1,number2=3,operation=\"add\",test=\"abc\")"
      ],
      "metadata": {
        "colab": {
          "base_uri": "https://localhost:8080/",
          "height": 52
        },
        "id": "kXaj7B38mUmQ",
        "outputId": "99dd978f-47df-4316-ffaa-df6cd9829475"
      },
      "execution_count": 51,
      "outputs": [
        {
          "output_type": "stream",
          "name": "stdout",
          "text": [
            "Keywords: {'number1': 1, 'number2': 3, 'operation': '', 'test': 'abc'}\n"
          ]
        },
        {
          "output_type": "execute_result",
          "data": {
            "text/plain": [
              "'operation param missing'"
            ],
            "application/vnd.google.colaboratory.intrinsic+json": {
              "type": "string"
            }
          },
          "metadata": {},
          "execution_count": 51
        }
      ]
    }
  ],
  "metadata": {
    "celltoolbar": "Slideshow",
    "kernelspec": {
      "display_name": "Python 3 (ipykernel)",
      "language": "python",
      "name": "python3"
    },
    "language_info": {
      "codemirror_mode": {
        "name": "ipython",
        "version": 3
      },
      "file_extension": ".py",
      "mimetype": "text/x-python",
      "name": "python",
      "nbconvert_exporter": "python",
      "pygments_lexer": "ipython3",
      "version": "3.9.13"
    },
    "vscode": {
      "interpreter": {
        "hash": "d769866b6f821afb3302734fef8b56cb7dc86bcc8e4d86f160ade10a565e9457"
      }
    },
    "colab": {
      "provenance": [],
      "include_colab_link": true
    }
  },
  "nbformat": 4,
  "nbformat_minor": 0
}