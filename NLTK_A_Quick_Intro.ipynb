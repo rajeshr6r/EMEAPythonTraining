{
  "nbformat": 4,
  "nbformat_minor": 0,
  "metadata": {
    "colab": {
      "provenance": [],
      "authorship_tag": "ABX9TyPjC2YGJ8IV1oYc0ddFSTfi",
      "include_colab_link": true
    },
    "kernelspec": {
      "name": "python3",
      "display_name": "Python 3"
    },
    "language_info": {
      "name": "python"
    }
  },
  "cells": [
    {
      "cell_type": "markdown",
      "metadata": {
        "id": "view-in-github",
        "colab_type": "text"
      },
      "source": [
        "<a href=\"https://colab.research.google.com/github/rajeshr6r/EMEAPythonTraining/blob/main/NLTK_A_Quick_Intro.ipynb\" target=\"_parent\"><img src=\"https://colab.research.google.com/assets/colab-badge.svg\" alt=\"Open In Colab\"/></a>"
      ]
    },
    {
      "cell_type": "code",
      "execution_count": null,
      "metadata": {
        "id": "wtplgeO6c4_X"
      },
      "outputs": [],
      "source": [
        "import nltk\n",
        "#tokenization\n",
        "from nltk.tokenize import word_tokenize # words\n",
        "from nltk.tokenize import sent_tokenize # sentences\n",
        "\n",
        "#ngrams\n",
        "from nltk.util import ngrams\n",
        "\n",
        "# download sample corpus\n",
        "nltk.download([\n",
        "    'gutenberg','brown','inaugural','genesis',\"names\",\"stopwords\",\"state_union\",\"twitter_samples\",\"movie_reviews\",\"averaged_perceptron_tagger\",\"vader_lexicon\",\"punkt\",\n",
        "    ])\n",
        "\n",
        "\n",
        "\n",
        "# sentiment analyzer\n",
        "from nltk.sentiment import SentimentIntensityAnalyzer"
      ]
    },
    {
      "cell_type": "code",
      "source": [
        "#usage of corpus\n",
        "# inaugural address of US Presidents since 1789\n",
        "from nltk.corpus import inaugural\n",
        "#Explore\n",
        "presidentname ='2021-Biden.txt'\n",
        "# Raw text\n",
        "inaugural.raw(presidentname)"
      ],
      "metadata": {
        "id": "_AKeVJ-nc6Sa"
      },
      "execution_count": null,
      "outputs": []
    },
    {
      "cell_type": "code",
      "source": [
        "# unique words in the president's inaugral address\n",
        "len(set(inaugural.words(presidentname)))\n"
      ],
      "metadata": {
        "id": "X5aXOhCggimd"
      },
      "execution_count": null,
      "outputs": []
    },
    {
      "cell_type": "code",
      "source": [
        "#sentences\n",
        "sentences=inaugural.sents(presidentname)\n",
        "print(sentences)"
      ],
      "metadata": {
        "id": "Fid9JAhEgNB0"
      },
      "execution_count": null,
      "outputs": []
    },
    {
      "cell_type": "code",
      "source": [
        "#paragraphs\n",
        "inaugural.paras(presidentname)"
      ],
      "metadata": {
        "id": "PfM6LSLchBb6"
      },
      "execution_count": null,
      "outputs": []
    },
    {
      "cell_type": "code",
      "source": [
        "# POS = Part of Speech\n",
        "# Tagged Corpora\n",
        "from nltk.corpus import brown"
      ],
      "metadata": {
        "id": "kmfqV8jhfJcT"
      },
      "execution_count": null,
      "outputs": []
    },
    {
      "cell_type": "code",
      "source": [
        "'''\n",
        "Abbreviation\tMeaning\n",
        "CC\tcoordinating conjunction\n",
        "CD\tcardinal digit\n",
        "DT\tdeterminer\n",
        "EX\texistential there\n",
        "FW\tforeign word\n",
        "IN\tpreposition/subordinating conjunction\n",
        "JJ\tThis NLTK POS Tag is an adjective (large)\n",
        "JJR\tadjective, comparative (larger)\n",
        "JJS\tadjective, superlative (largest)\n",
        "LS\tlist market\n",
        "MD\tmodal (could, will)\n",
        "NN\tnoun, singular (cat, tree)\n",
        "NNS\tnoun plural (desks)\n",
        "NNP\tproper noun, singular (sarah)\n",
        "NNPS\tproper noun, plural (indians or americans)\n",
        "PDT\tpredeterminer (all, both, half)\n",
        "POS\tpossessive ending (parent\\ ‘s)\n",
        "PRP\tpersonal pronoun (hers, herself, him, himself)\n",
        "PRP$\tpossessive pronoun (her, his, mine, my, our )\n",
        "RB\tadverb (occasionally, swiftly)\n",
        "RBR\tadverb, comparative (greater)\n",
        "RBS\tadverb, superlative (biggest)\n",
        "RP\tparticle (about)\n",
        "TO\tinfinite marker (to)\n",
        "UH\tinterjection (goodbye)\n",
        "VB\tverb (ask)\n",
        "VBG\tverb gerund (judging)\n",
        "VBD\tverb past tense (pleaded)\n",
        "VBN\tverb past participle (reunified)\n",
        "VBP\tverb, present tense not 3rd person singular(wrap)\n",
        "VBZ\tverb, present tense with 3rd person singular (bases)\n",
        "WDT\twh-determiner (that, what)\n",
        "WP\twh- pronoun (who)\n",
        "WRB\twh- adverb (how)\n",
        "'''"
      ],
      "metadata": {
        "id": "3i7lYNnKkW8n"
      },
      "execution_count": null,
      "outputs": []
    },
    {
      "cell_type": "code",
      "source": [
        "print(brown.tagged_sents())"
      ],
      "metadata": {
        "id": "BNZwYjnshQBx"
      },
      "execution_count": null,
      "outputs": []
    },
    {
      "cell_type": "code",
      "source": [
        "# a custom function to extract the pattern \"verb-to-verb 3 words pattern\"\n",
        "def process(sentence):\n",
        "    for (w1,t1), (w2,t2), (w3,t3) in nltk.trigrams(sentence):\n",
        "        if (t1.startswith('V') and t2 == 'TO' and t3.startswith('V')):\n",
        "            print(w1, w2, w3)\n",
        "\n",
        "for tagged_sent in brown.tagged_sents():\n",
        "  process(tagged_sent)"
      ],
      "metadata": {
        "id": "C9L2VK-FhVhD"
      },
      "execution_count": null,
      "outputs": []
    },
    {
      "cell_type": "code",
      "source": [
        "def process(sentence):\n",
        "    for (w1,t1), (w2,t2), (w3,t3) , (w4,t4) in nltk.ngrams(sentence,n=4):\n",
        "        if (t1.startswith('V') and t2 == 'TO' and t3.startswith('VB')) and t4.startswith('JJ'):\n",
        "            print(w1, w2, w3,w4)\n"
      ],
      "metadata": {
        "id": "Zh1RJEkViEe6"
      },
      "execution_count": null,
      "outputs": []
    },
    {
      "cell_type": "code",
      "source": [
        "for tagged_sent in brown.tagged_sents():\n",
        "  process(tagged_sent)"
      ],
      "metadata": {
        "id": "cOzIAhdniGby"
      },
      "execution_count": null,
      "outputs": []
    },
    {
      "cell_type": "code",
      "source": [
        "# POS Tagging\n",
        "\n",
        "from nltk import pos_tag\n",
        "from nltk import RegexpParser\n",
        "text =\"I like to learn new programming languages\".split()\n",
        "print(\"After Split:\",text)\n",
        "tokens_tag = pos_tag(text)\n",
        "print(\"After Token:\",tokens_tag)\n",
        "'''\n",
        "patterns= \"\"\"mychunk:{<NN.?>*<VBD.?>*<JJ.?>*<CC>?}\"\"\"\n",
        "chunker = RegexpParser(patterns)\n",
        "print(\"After Regex:\",chunker)\n",
        "output = chunker.parse(tokens_tag)\n",
        "print(\"After Chunking\",output)\n",
        "'''"
      ],
      "metadata": {
        "id": "a-adaoY4jP6a",
        "colab": {
          "base_uri": "https://localhost:8080/",
          "height": 87
        },
        "outputId": "0cb0108b-04c8-4496-960e-153abb9339c3"
      },
      "execution_count": 41,
      "outputs": [
        {
          "output_type": "stream",
          "name": "stdout",
          "text": [
            "After Split: ['I', 'like', 'to', 'learn', 'new', 'programming', 'languages']\n",
            "After Token: [('I', 'PRP'), ('like', 'VBP'), ('to', 'TO'), ('learn', 'VB'), ('new', 'JJ'), ('programming', 'NN'), ('languages', 'NNS')]\n"
          ]
        },
        {
          "output_type": "execute_result",
          "data": {
            "text/plain": [
              "'\\npatterns= \"\"\"mychunk:{<NN.?>*<VBD.?>*<JJ.?>*<CC>?}\"\"\"\\nchunker = RegexpParser(patterns)\\nprint(\"After Regex:\",chunker)\\noutput = chunker.parse(tokens_tag)\\nprint(\"After Chunking\",output)\\n'"
            ],
            "application/vnd.google.colaboratory.intrinsic+json": {
              "type": "string"
            }
          },
          "metadata": {},
          "execution_count": 41
        }
      ]
    },
    {
      "cell_type": "code",
      "source": [
        "# sentiment analyzer\n",
        "sia = SentimentIntensityAnalyzer()\n",
        "sia.polarity_scores(\"Wow, NLTK is really powerful!\")"
      ],
      "metadata": {
        "colab": {
          "base_uri": "https://localhost:8080/"
        },
        "id": "q4MBm-Fco835",
        "outputId": "727edb98-638b-4f36-ab15-fa452529dc16"
      },
      "execution_count": 26,
      "outputs": [
        {
          "output_type": "execute_result",
          "data": {
            "text/plain": [
              "{'neg': 0.0, 'neu': 0.295, 'pos': 0.705, 'compound': 0.8012}"
            ]
          },
          "metadata": {},
          "execution_count": 26
        }
      ]
    },
    {
      "cell_type": "code",
      "source": [
        "paragraph = 'Sherlock Holmes is a famous fictional detective with his own series of books written by Sir Arthur Conan Doyle between the late 1800’s and early 1900’s otherwise known as the Victorian era in England. The stories were set in London on Baker Street. The people of Victorian England loved Sherlock Holmes because he always got his man, and the police in their time could not get anyone.'"
      ],
      "metadata": {
        "id": "YpeRx5XIor-p"
      },
      "execution_count": 27,
      "outputs": []
    },
    {
      "cell_type": "code",
      "source": [
        "words: list[str] = nltk.word_tokenize(paragraph)\n",
        "\n",
        "# lets analyze the inaugural text\n",
        "words = inaugural.words()\n",
        "\n"
      ],
      "metadata": {
        "id": "_6BU38-4o02f"
      },
      "execution_count": 31,
      "outputs": []
    },
    {
      "cell_type": "code",
      "source": [
        "text = nltk.Text(words)\n",
        "fd = text.vocab() # frequency distribution\n",
        "# fd.tabulate()"
      ],
      "metadata": {
        "colab": {
          "base_uri": "https://localhost:8080/"
        },
        "id": "M_QchYlr0qgq",
        "outputId": "8bbd6be4-aad5-4cb8-e764-8c8b0d2fd30d"
      },
      "execution_count": 33,
      "outputs": [
        {
          "output_type": "execute_result",
          "data": {
            "text/plain": [
              "<class 'nltk.probability.FreqDist'>"
            ]
          },
          "metadata": {},
          "execution_count": 33
        }
      ]
    },
    {
      "cell_type": "code",
      "source": [
        "import pandas as pd\n",
        "df = pd.DataFrame(fd.items(), columns=['word', 'frequency'])\n"
      ],
      "metadata": {
        "colab": {
          "base_uri": "https://localhost:8080/",
          "height": 676
        },
        "id": "T6as9-OJ1inv",
        "outputId": "55b4cbe4-47e8-46dc-e902-038ce182eac7"
      },
      "execution_count": 37,
      "outputs": [
        {
          "output_type": "execute_result",
          "data": {
            "text/plain": [
              "              word  frequency\n",
              "10005   colleagues          1\n",
              "10006      partner          1\n",
              "10007            d          1\n",
              "10008         moms          1\n",
              "10009         dads          1\n",
              "10010     husbands          1\n",
              "10011    coworkers          1\n",
              "10012           .]          1\n",
              "10013        Folks          1\n",
              "10014      testing          1\n",
              "10015     inequity          1\n",
              "10016        sting          1\n",
              "10017     systemic          1\n",
              "10018    cascading          1\n",
              "10019       Anthem          1\n",
              "10020        verse          1\n",
              "10021         addâ          1\n",
              "10022         youâ          1\n",
              "10023      thrived          1\n",
              "10024  forebearers          1"
            ],
            "text/html": [
              "\n",
              "  <div id=\"df-52675fb6-0f9c-4545-89eb-bb1050721940\">\n",
              "    <div class=\"colab-df-container\">\n",
              "      <div>\n",
              "<style scoped>\n",
              "    .dataframe tbody tr th:only-of-type {\n",
              "        vertical-align: middle;\n",
              "    }\n",
              "\n",
              "    .dataframe tbody tr th {\n",
              "        vertical-align: top;\n",
              "    }\n",
              "\n",
              "    .dataframe thead th {\n",
              "        text-align: right;\n",
              "    }\n",
              "</style>\n",
              "<table border=\"1\" class=\"dataframe\">\n",
              "  <thead>\n",
              "    <tr style=\"text-align: right;\">\n",
              "      <th></th>\n",
              "      <th>word</th>\n",
              "      <th>frequency</th>\n",
              "    </tr>\n",
              "  </thead>\n",
              "  <tbody>\n",
              "    <tr>\n",
              "      <th>10005</th>\n",
              "      <td>colleagues</td>\n",
              "      <td>1</td>\n",
              "    </tr>\n",
              "    <tr>\n",
              "      <th>10006</th>\n",
              "      <td>partner</td>\n",
              "      <td>1</td>\n",
              "    </tr>\n",
              "    <tr>\n",
              "      <th>10007</th>\n",
              "      <td>d</td>\n",
              "      <td>1</td>\n",
              "    </tr>\n",
              "    <tr>\n",
              "      <th>10008</th>\n",
              "      <td>moms</td>\n",
              "      <td>1</td>\n",
              "    </tr>\n",
              "    <tr>\n",
              "      <th>10009</th>\n",
              "      <td>dads</td>\n",
              "      <td>1</td>\n",
              "    </tr>\n",
              "    <tr>\n",
              "      <th>10010</th>\n",
              "      <td>husbands</td>\n",
              "      <td>1</td>\n",
              "    </tr>\n",
              "    <tr>\n",
              "      <th>10011</th>\n",
              "      <td>coworkers</td>\n",
              "      <td>1</td>\n",
              "    </tr>\n",
              "    <tr>\n",
              "      <th>10012</th>\n",
              "      <td>.]</td>\n",
              "      <td>1</td>\n",
              "    </tr>\n",
              "    <tr>\n",
              "      <th>10013</th>\n",
              "      <td>Folks</td>\n",
              "      <td>1</td>\n",
              "    </tr>\n",
              "    <tr>\n",
              "      <th>10014</th>\n",
              "      <td>testing</td>\n",
              "      <td>1</td>\n",
              "    </tr>\n",
              "    <tr>\n",
              "      <th>10015</th>\n",
              "      <td>inequity</td>\n",
              "      <td>1</td>\n",
              "    </tr>\n",
              "    <tr>\n",
              "      <th>10016</th>\n",
              "      <td>sting</td>\n",
              "      <td>1</td>\n",
              "    </tr>\n",
              "    <tr>\n",
              "      <th>10017</th>\n",
              "      <td>systemic</td>\n",
              "      <td>1</td>\n",
              "    </tr>\n",
              "    <tr>\n",
              "      <th>10018</th>\n",
              "      <td>cascading</td>\n",
              "      <td>1</td>\n",
              "    </tr>\n",
              "    <tr>\n",
              "      <th>10019</th>\n",
              "      <td>Anthem</td>\n",
              "      <td>1</td>\n",
              "    </tr>\n",
              "    <tr>\n",
              "      <th>10020</th>\n",
              "      <td>verse</td>\n",
              "      <td>1</td>\n",
              "    </tr>\n",
              "    <tr>\n",
              "      <th>10021</th>\n",
              "      <td>addâ</td>\n",
              "      <td>1</td>\n",
              "    </tr>\n",
              "    <tr>\n",
              "      <th>10022</th>\n",
              "      <td>youâ</td>\n",
              "      <td>1</td>\n",
              "    </tr>\n",
              "    <tr>\n",
              "      <th>10023</th>\n",
              "      <td>thrived</td>\n",
              "      <td>1</td>\n",
              "    </tr>\n",
              "    <tr>\n",
              "      <th>10024</th>\n",
              "      <td>forebearers</td>\n",
              "      <td>1</td>\n",
              "    </tr>\n",
              "  </tbody>\n",
              "</table>\n",
              "</div>\n",
              "      <button class=\"colab-df-convert\" onclick=\"convertToInteractive('df-52675fb6-0f9c-4545-89eb-bb1050721940')\"\n",
              "              title=\"Convert this dataframe to an interactive table.\"\n",
              "              style=\"display:none;\">\n",
              "        \n",
              "  <svg xmlns=\"http://www.w3.org/2000/svg\" height=\"24px\"viewBox=\"0 0 24 24\"\n",
              "       width=\"24px\">\n",
              "    <path d=\"M0 0h24v24H0V0z\" fill=\"none\"/>\n",
              "    <path d=\"M18.56 5.44l.94 2.06.94-2.06 2.06-.94-2.06-.94-.94-2.06-.94 2.06-2.06.94zm-11 1L8.5 8.5l.94-2.06 2.06-.94-2.06-.94L8.5 2.5l-.94 2.06-2.06.94zm10 10l.94 2.06.94-2.06 2.06-.94-2.06-.94-.94-2.06-.94 2.06-2.06.94z\"/><path d=\"M17.41 7.96l-1.37-1.37c-.4-.4-.92-.59-1.43-.59-.52 0-1.04.2-1.43.59L10.3 9.45l-7.72 7.72c-.78.78-.78 2.05 0 2.83L4 21.41c.39.39.9.59 1.41.59.51 0 1.02-.2 1.41-.59l7.78-7.78 2.81-2.81c.8-.78.8-2.07 0-2.86zM5.41 20L4 18.59l7.72-7.72 1.47 1.35L5.41 20z\"/>\n",
              "  </svg>\n",
              "      </button>\n",
              "      \n",
              "  <style>\n",
              "    .colab-df-container {\n",
              "      display:flex;\n",
              "      flex-wrap:wrap;\n",
              "      gap: 12px;\n",
              "    }\n",
              "\n",
              "    .colab-df-convert {\n",
              "      background-color: #E8F0FE;\n",
              "      border: none;\n",
              "      border-radius: 50%;\n",
              "      cursor: pointer;\n",
              "      display: none;\n",
              "      fill: #1967D2;\n",
              "      height: 32px;\n",
              "      padding: 0 0 0 0;\n",
              "      width: 32px;\n",
              "    }\n",
              "\n",
              "    .colab-df-convert:hover {\n",
              "      background-color: #E2EBFA;\n",
              "      box-shadow: 0px 1px 2px rgba(60, 64, 67, 0.3), 0px 1px 3px 1px rgba(60, 64, 67, 0.15);\n",
              "      fill: #174EA6;\n",
              "    }\n",
              "\n",
              "    [theme=dark] .colab-df-convert {\n",
              "      background-color: #3B4455;\n",
              "      fill: #D2E3FC;\n",
              "    }\n",
              "\n",
              "    [theme=dark] .colab-df-convert:hover {\n",
              "      background-color: #434B5C;\n",
              "      box-shadow: 0px 1px 3px 1px rgba(0, 0, 0, 0.15);\n",
              "      filter: drop-shadow(0px 1px 2px rgba(0, 0, 0, 0.3));\n",
              "      fill: #FFFFFF;\n",
              "    }\n",
              "  </style>\n",
              "\n",
              "      <script>\n",
              "        const buttonEl =\n",
              "          document.querySelector('#df-52675fb6-0f9c-4545-89eb-bb1050721940 button.colab-df-convert');\n",
              "        buttonEl.style.display =\n",
              "          google.colab.kernel.accessAllowed ? 'block' : 'none';\n",
              "\n",
              "        async function convertToInteractive(key) {\n",
              "          const element = document.querySelector('#df-52675fb6-0f9c-4545-89eb-bb1050721940');\n",
              "          const dataTable =\n",
              "            await google.colab.kernel.invokeFunction('convertToInteractive',\n",
              "                                                     [key], {});\n",
              "          if (!dataTable) return;\n",
              "\n",
              "          const docLinkHtml = 'Like what you see? Visit the ' +\n",
              "            '<a target=\"_blank\" href=https://colab.research.google.com/notebooks/data_table.ipynb>data table notebook</a>'\n",
              "            + ' to learn more about interactive tables.';\n",
              "          element.innerHTML = '';\n",
              "          dataTable['output_type'] = 'display_data';\n",
              "          await google.colab.output.renderOutput(dataTable, element);\n",
              "          const docLink = document.createElement('div');\n",
              "          docLink.innerHTML = docLinkHtml;\n",
              "          element.appendChild(docLink);\n",
              "        }\n",
              "      </script>\n",
              "    </div>\n",
              "  </div>\n",
              "  "
            ]
          },
          "metadata": {},
          "execution_count": 37
        }
      ]
    },
    {
      "cell_type": "code",
      "source": [
        "words = [w for w in nltk.corpus.state_union.words() if w.isalpha()]\n",
        "finder = nltk.collocations.TrigramCollocationFinder.from_words(words)"
      ],
      "metadata": {
        "id": "XLRVp67epAjY"
      },
      "execution_count": 42,
      "outputs": []
    },
    {
      "cell_type": "code",
      "source": [
        "finder.ngram_fd.most_common(2)"
      ],
      "metadata": {
        "colab": {
          "base_uri": "https://localhost:8080/"
        },
        "id": "kuZOM3ih3yfE",
        "outputId": "cddb031e-5975-448c-eacc-718934148fcd"
      },
      "execution_count": 43,
      "outputs": [
        {
          "output_type": "execute_result",
          "data": {
            "text/plain": [
              "[(('the', 'United', 'States'), 294), (('the', 'American', 'people'), 185)]"
            ]
          },
          "metadata": {},
          "execution_count": 43
        }
      ]
    },
    {
      "cell_type": "code",
      "source": [
        "finder.ngram_fd.tabulate(10)"
      ],
      "metadata": {
        "colab": {
          "base_uri": "https://localhost:8080/"
        },
        "id": "m_bs0n4V3zMd",
        "outputId": "5cc8f983-0627-41bd-a777-a19d43ccaca7"
      },
      "execution_count": 44,
      "outputs": [
        {
          "output_type": "stream",
          "name": "stdout",
          "text": [
            "     ('the', 'United', 'States')    ('the', 'American', 'people')           ('of', 'the', 'world')          ('of', 'the', 'United')        ('to', 'the', 'Congress')           ('in', 'the', 'world')        ('the', 'fiscal', 'year')        ('of', 'the', 'Congress')           ('of', 'the', 'Union') ('the', 'Federal', 'Government') \n",
            "                             294                              185                              154                              145                              139                              131                              109                              102                              102                              102 \n"
          ]
        }
      ]
    },
    {
      "cell_type": "code",
      "source": [
        "words = [w for w in nltk.corpus.gutenberg.words() if w.isalpha()]\n",
        "finder = nltk.collocations.TrigramCollocationFinder.from_words(words)"
      ],
      "metadata": {
        "id": "BHNsCYi94WED"
      },
      "execution_count": null,
      "outputs": []
    },
    {
      "cell_type": "code",
      "source": [
        "finder.ngram_fd.tabulate(10)"
      ],
      "metadata": {
        "id": "CGVJOivb4bjP"
      },
      "execution_count": null,
      "outputs": []
    },
    {
      "cell_type": "code",
      "source": [
        "tweets = [t.replace(\"://\", \"//\") for t in nltk.corpus.twitter_samples.strings()]\n",
        "from random import shuffle\n",
        "\n",
        "def is_positive(tweet: str) -> bool:\n",
        "    \"\"\"True if tweet has positive compound sentiment, False otherwise.\"\"\"\n",
        "    return sia.polarity_scores(tweet)[\"compound\"] > 0\n",
        "\n",
        "shuffle(tweets)\n",
        "for tweet in tweets[:70]:\n",
        "    print(\">\", is_positive(tweet),\"\\t\" ,tweet)\n",
        "    print(\"******************************\")"
      ],
      "metadata": {
        "colab": {
          "base_uri": "https://localhost:8080/"
        },
        "id": "NhjIyxFj4c6V",
        "outputId": "3ca41465-b578-4cb5-e020-98ef8325aec9"
      },
      "execution_count": 45,
      "outputs": [
        {
          "output_type": "stream",
          "name": "stdout",
          "text": [
            "> True \t @pagodane @HakubiRedwinter I know, right? sure, they will leave a huge gap in comic plots :(\n",
            "******************************\n",
            "> True \t @nathan3205 OMG THAT CAME FAST! You graduate at the end of the year?! I know :( catch ups are a definite (what we did best at uni anyways)\n",
            "******************************\n",
            "> True \t RT @derekrootboy: .@Ed_Miliband Why should ANY anti-Tory vote Labour in England when you admit you'll abstain on a Tory Queen's Speech? You…\n",
            "******************************\n",
            "> False \t @BellsIsMine what happened? :(\n",
            "******************************\n",
            "> False \t @EmmaLK Looks painful :(\n",
            "******************************\n",
            "> False \t New bio. Bodo amat :-(\n",
            "******************************\n",
            "> True \t @Bixbersboca good morning to you :D lol its really fuckin dark and it's gonna rain so hard in a couple of minutes\n",
            "******************************\n",
            "> False \t RT @SkyNews: THE INDEPENDENT FRONT PAGE: \"Miliband: I will not do deal with the SNP to become PM\" #skypapers http//t.co/im5LfHEUij\n",
            "******************************\n",
            "> True \t @polarizehes heyy :) can u rt this link https//t.co/WztNf8e6cO and tag michael? please. thank you\n",
            "******************************\n",
            "> False \t My election predictions 2/2: Lib/Lab minority govt. Boris replaces Cameron as Tory leader w Sajid Javid as shadow chancellor. Ukip no seats\n",
            "******************************\n",
            "> False \t RT @gersandgooners: Wake up Scotland, the SNP is not about independence it is an anti English agenda and nothing else #rulebritannia\n",
            "******************************\n",
            "> False \t @prattmouserat poor kiddo :(\n",
            "******************************\n",
            "> True \t @BhaktisBanter We call it the #FlipkartFashionFriday effect! :) \n",
            "@PallaviRuhail\n",
            "******************************\n",
            "> True \t RT @LabourEoin: Wow. Tory MPs can read each others' minds and type and the exact same time................ #BBCqt http//t.co/23BjfFTczb\n",
            "******************************\n",
            "> False \t @MrEdsFM @LfcDan I think they'll get 1. Farage is set to lose in South Thanet.\n",
            "******************************\n",
            "> False \t RT @AngusMacNeilSNP: next lab leader post Miliband resignation on May 8th? ... my money on Andy Burnham ... Burnham could be PM within week…\n",
            "******************************\n",
            "> True \t @suthodan @zerotackle I take u wrote it :p\n",
            "******************************\n",
            "> True \t RT @UKIP: Cheers! Official @UKIP account passes 100k followers #UKIP http//t.co/mdJ2MC95ek\n",
            "******************************\n",
            "> True \t @iarunsb waiting for the code now :)\n",
            "******************************\n",
            "> True \t RT @scotnotbritt: Well thats it. LABOUR would rather have a TORY government rather than work with the SNP. http//t.co/SNMkRDCe9f\n",
            "******************************\n",
            "> False \t RT @Mr_Slater: UKIP are not the answer to our problems. I'd rather go forwards not backwards. Retweet if you agree. #BBCQT http//t.co/RwYS…\n",
            "******************************\n",
            "> False \t RT @Mancman10: Tonight's YouGov poll:\n",
            "LAB 35%\n",
            "CON 34%\n",
            "UKIP 12%\n",
            "LDEM 8%\n",
            "GRN 5%\n",
            "#7DaysToGo\n",
            "#GE2015\n",
            "******************************\n",
            "> True \t I can't sleep :(\n",
            "******************************\n",
            "> True \t @TheLastLeg am i the only one who thought ed milliband sounded like scrappy doo but instead of let me at im it was let me tell you\n",
            "******************************\n",
            "> True \t RT @Markfergusonuk: David Cameron says he's hungrier than he was five years ago. So are all of the people reliant on food banks...\n",
            "******************************\n",
            "> True \t RT @TheGasMaskBoy: A clear dose of reality from @janebaugh1 to challenge weirdly delusional Tory tweets.\n",
            "#FairerTrafford #gocompare http//…\n",
            "******************************\n",
            "> True \t @justinbieber i love u :)\n",
            "******************************\n",
            "> True \t Listen to the podcasts!!  They are brilliant! https//t.co/r0vGY7gnrp\n",
            "******************************\n",
            "> True \t RT @GaryLineker: Thought Ed Miliband did well to stay on his feet. Many would have gone down under those circumstances, especially on the b…\n",
            "******************************\n",
            "> True \t RT @ViscountExmouth: I have never heard a politician answer questions as clearly and directly as @Nigel_Farage #ukip #AskNigelFarage\n",
            "******************************\n",
            "> True \t @Cigar117 Farage and Carswell only likely, maybe 1 or 2 others. Need strong showing by Orange Book Lib Dems. Clegg looks like a gonner.\n",
            "******************************\n",
            "> True \t I love you too :) And now I want corn chips :)\n",
            "@SoldHerSoul\n",
            "******************************\n",
            "> True \t RT @Tommy_Colc: Financial Times come out in support of Tories claiming Miliband is \"preoccupied w/ inequality\". The man who wrote it http:/…\n",
            "******************************\n",
            "> False \t @Coicele Oh, that doedn't sound good at all. :-(\n",
            "******************************\n",
            "> True \t @TheKelseeey awhhh ok ok :( see you nalang when class opens!!! Hehe\n",
            "******************************\n",
            "> True \t @blairmcdougall @Yes2IndyAlba labour aren't up to the job so delighted when any random manages to get Sturgeon on the back foot. Bless.\n",
            "******************************\n",
            "> False \t RT @A_Liberty_Rebel: Based on 28 minute Q &amp; A running time, Coburn interrupted a Farage answer once every 84 seconds. #AskNigelFarage #BBCB…\n",
            "******************************\n",
            "> True \t RT @mmaher70: I live in England i am happy to go with SNP and ban trident #bbcqt\n",
            "******************************\n",
            "> False \t RT @RobMolloy92: This presenter hates Farage, is she planted?!  #AskNigelFarage\n",
            "******************************\n",
            "> False \t RT @MrJohnNicolson: Extraordinary to hear Ed Milliband say he'd rather see the Tories in Government than work with the #VoteSNP Don't belie…\n",
            "******************************\n",
            "> True \t @6000 yes - in a friendly contest - loser buys the drinks :)\n",
            "******************************\n",
            "> False \t @Gildy55 bases as SNP, Plaid Cymru talk of doing...\n",
            "******************************\n",
            "> False \t #newsfiber General Election 2015: Ed Miliband insists he will not do deal with SNP to become PM: Ed Miliband h... http//t.co/2C8cVkCx7Z\n",
            "******************************\n",
            "> True \t RT @Tommy_Colc: Financial Times come out in support of Tories claiming Miliband is \"preoccupied w/ inequality\". The man who wrote it http:/…\n",
            "******************************\n",
            "> False \t @TheLastLeg is it okay that UKIP want an Aussie style points based system when one was introduced 10 years ago and has gone horribly wrong.\n",
            "******************************\n",
            "> True \t RT @LabourEoin: The economy was growing 3 times faster on the day David Cameron became Prime Minister than it is today.. #BBCqt http//t.co…\n",
            "******************************\n",
            "> True \t RT @LabourEoin: The economy was growing 3 times faster on the day David Cameron became Prime Minister than it is today.. #BBCqt http//t.co…\n",
            "******************************\n",
            "> False \t RT @mrmarksteel: Tomorrow Miliband will say 'let me tell you this, I'm not even voting for myself in case I do a deal with the SNP'.\n",
            "******************************\n",
            "> True \t RT @JMchools: Nice try Ed but Scotland is still voting #SNP #UnionistScareTactics https//t.co/Pz7p4em8Iv\n",
            "******************************\n",
            "> False \t RT @BuzzFeedUKPol: Tory MPs are all mysteriously tweeting the same description of David Cameron #bbcqt http//t.co/BCQjLDclVJ http//t.co/W…\n",
            "******************************\n",
            "> True \t @ChrisHinton18 comments made by UKIP candidates,  I can Google them for you if you like.  My post was about constant defending they do\n",
            "******************************\n",
            "> True \t RT @TeresaC123: Mirror Poll Who came off best on Leaders' Question Time?#bbcqt\n",
            "Ed Miliband - 62%\n",
            "David Cameron - 29%\n",
            "Nick Clegg - 9% http:/…\n",
            "******************************\n",
            "> True \t RT @OwenThompson: Miliband essentially told Scotland tonight we will only respect your view if it's our view #labourlogic #VoteSNP #bbcqt #…\n",
            "******************************\n",
            "> True \t Oh, the beauty of the world under water :)\n",
            "\n",
            "http//t.co/JruoM8s53X\n",
            "******************************\n",
            "> False \t RT @MattHancock2015: Safe to say EdM’s weak performance showed he’s too weak to stand up to SNP. Truth is British people would pay price ht…\n",
            "******************************\n",
            "> False \t RT @CZMartin07: David Cameron grew National Debt more than Labour managed in 3 Parliaments.\n",
            "******************************\n",
            "> True \t RT @OwenJones84: Ah c’mon @David_Cameron. You’re here now. Might as well have it out with Ed Miliband. Otherwise it looks a bit 🐓🐓🐓🐓🐓🐓 #bbc…\n",
            "******************************\n",
            "> True \t https//t.co/85JGM6Oj6Q new video people, check it out :)\n",
            "******************************\n",
            "> True \t RT @Ftranza100: Nicola Sturgeon was excellent, wish I could vote SNP. #leadersdebate\n",
            "******************************\n",
            "> False \t Imagine a Labour leader saying 'I'd rather a Tory government' imagine that. What a tool.\n",
            "******************************\n",
            "> False \t @peachymin i know :(\n",
            "******************************\n",
            "> True \t @JabongIndia ready and eagerly waiting for the next question. bring it on :) #JabongatPumaUrbanStampede #JabongatPumaUrbanStampede\n",
            "******************************\n",
            "> True \t its okay bae~ its okay :( \n",
            "i wanna hug her already. #FightingMCIrene http//t.co/BGV6mxYfGt\n",
            "******************************\n",
            "> False \t @exlabourite don t need to worry about him the snp will have his seat hopefully\n",
            "******************************\n",
            "> False \t RT @NaeBorder: Petition calls for would-be SNP MP Brendan O'Hara to stand down as a candidate over use of word 'hun' #SNPout #GE2015\n",
            "http:/…\n",
            "******************************\n",
            "> False \t RT @WingsScotland: Steady on, everyone - here's what Ed Miliband ACTUALLY said tonight: http//t.co/io0W56rGsP\n",
            "******************************\n",
            "> True \t Iyalaya to anybody that would laugh at me today. I'd just have to wear my shades round the clock.:(\n",
            "******************************\n",
            "> True \t Ok leaders debate Cameron looked cool millibrand looked out of comfort zone BUT nick clegg bought a load of votes  2nite thought he was gr8!\n",
            "******************************\n",
            "> True \t When you're congratulating your friend on his graduation but you lose the plot. :D http//t.co/lRGfvh3yWg\n",
            "******************************\n",
            "> True \t RT @AngusMacNeilSNP: Lab leadership challengers have huge chance..Miliband resigns on May 8th ..new Lab winning candidate makes deal with S…\n",
            "******************************\n"
          ]
        }
      ]
    },
    {
      "cell_type": "code",
      "source": [
        "positive_review_ids = nltk.corpus.movie_reviews.fileids(categories=[\"pos\"])\n",
        "negative_review_ids = nltk.corpus.movie_reviews.fileids(categories=[\"neg\"])\n",
        "all_review_ids = positive_review_ids + negative_review_ids\n",
        "\n",
        "from statistics import mean\n",
        "\n",
        "def is_positive(review_id: str) -> bool:\n",
        "    \"\"\"True if the average of all sentence compound scores is positive.\"\"\"\n",
        "    text = nltk.corpus.movie_reviews.raw(review_id)\n",
        "    scores = [\n",
        "        sia.polarity_scores(sentence)[\"compound\"]\n",
        "        for sentence in nltk.sent_tokenize(text)\n",
        "    ]\n",
        "    return mean(scores) > 0"
      ],
      "metadata": {
        "id": "0aZ_ntQz45m2"
      },
      "execution_count": null,
      "outputs": []
    },
    {
      "cell_type": "code",
      "source": [
        "shuffle(all_review_ids)\n",
        "correct = 0\n",
        "for review_id in all_review_ids:\n",
        "  if is_positive(review_id):\n",
        "    if review_id in positive_review_ids:\n",
        "      correct += 1\n",
        "    else:\n",
        "      if review_id in negative_review_ids:\n",
        "        correct += 1\n",
        "\n",
        "print(F\"{correct / len(all_review_ids):.2%} correct\")"
      ],
      "metadata": {
        "id": "OC6ddpEF5jvi"
      },
      "execution_count": null,
      "outputs": []
    }
  ]
}