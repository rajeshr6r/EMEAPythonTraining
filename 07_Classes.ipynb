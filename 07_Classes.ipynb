{
  "cells": [
    {
      "cell_type": "markdown",
      "metadata": {
        "id": "view-in-github",
        "colab_type": "text"
      },
      "source": [
        "<a href=\"https://colab.research.google.com/github/rajeshr6r/EMEAPythonTraining/blob/main/07_Classes.ipynb\" target=\"_parent\"><img src=\"https://colab.research.google.com/assets/colab-badge.svg\" alt=\"Open In Colab\"/></a>"
      ]
    },
    {
      "cell_type": "markdown",
      "metadata": {
        "id": "jijFIqrE7Dhr"
      },
      "source": [
        "### Custom Classes"
      ]
    },
    {
      "cell_type": "markdown",
      "metadata": {
        "id": "KiHpqtnF7Dhy"
      },
      "source": [
        "We'll cover classes in a lot of detail in this course, but for now you should have at least some understanding of classes in Python and how to create them."
      ]
    },
    {
      "cell_type": "markdown",
      "metadata": {
        "id": "eWHbrBZF7Dhz"
      },
      "source": [
        "To create a custom class we use the `class` keyword, and we can initialize class attributes in the special method `__init__`."
      ]
    },
    {
      "cell_type": "code",
      "execution_count": null,
      "metadata": {
        "collapsed": true,
        "id": "4LIQesRz7Dh0"
      },
      "outputs": [],
      "source": [
        "class Rectangle:\n",
        "    def __init__(self, width, height):\n",
        "        self.width = width\n",
        "        self.height = height"
      ]
    },
    {
      "cell_type": "markdown",
      "metadata": {
        "id": "gb4d2z107Dh6"
      },
      "source": [
        "We create **instances** of the `Rectangle` class by calling it with arguments that are passed to the `__init__` method as the second and third arguments. The first argument (`self`) is automatically filled in by Python and contains the object being created.\n",
        "\n",
        "Note that using `self` is just a convention (although a good one, and you shgoudl use it to make your code more understandable by others), you could really call it whatever (valid) name you choose.\n",
        "\n",
        "But just because you can does not mean you should!"
      ]
    },
    {
      "cell_type": "code",
      "execution_count": null,
      "metadata": {
        "collapsed": true,
        "id": "kzFq013W7Dh7"
      },
      "outputs": [],
      "source": [
        "r1 = Rectangle(10, 20)\n",
        "r2 = Rectangle(3, 5)"
      ]
    },
    {
      "cell_type": "code",
      "execution_count": null,
      "metadata": {
        "id": "k63OQo7-7Dh8",
        "outputId": "bfd85955-4696-435d-a7c1-c6692b6b9b05",
        "colab": {
          "base_uri": "https://localhost:8080/"
        }
      },
      "outputs": [
        {
          "output_type": "execute_result",
          "data": {
            "text/plain": [
              "10"
            ]
          },
          "metadata": {},
          "execution_count": 4
        }
      ],
      "source": [
        "r1.width"
      ]
    },
    {
      "cell_type": "code",
      "execution_count": null,
      "metadata": {
        "id": "GGqimIwt7DiA",
        "outputId": "46da3a9b-46d8-4452-b8ba-94a3319b88e0",
        "colab": {
          "base_uri": "https://localhost:8080/"
        }
      },
      "outputs": [
        {
          "output_type": "execute_result",
          "data": {
            "text/plain": [
              "5"
            ]
          },
          "metadata": {},
          "execution_count": 5
        }
      ],
      "source": [
        "r2.height"
      ]
    },
    {
      "cell_type": "markdown",
      "metadata": {
        "id": "qNHIZh0h7DiB"
      },
      "source": [
        "`width` and `height` are attributes of the `Rectangle` class. But since they are just values (not callables), we call them **properties**.\n",
        "\n",
        "Attributes that are callables are called **methods**."
      ]
    },
    {
      "cell_type": "markdown",
      "metadata": {
        "id": "WfdE2JDu7DiE"
      },
      "source": [
        "You'll note that we were able to retrieve the `width` and `height` attributes (properties) using a dot notation, where we specify the object we are interested in, then a dot, then the attribute we are interested in."
      ]
    },
    {
      "cell_type": "markdown",
      "metadata": {
        "id": "2nYOsiTf7DiG"
      },
      "source": [
        "We can add callable attributes to our class (methods), that will also be referenced using the dot notation.\n",
        "\n",
        "Again, we will create instance methods, which means the method will require the first argument to be the object being used when the method is called."
      ]
    },
    {
      "cell_type": "code",
      "execution_count": null,
      "metadata": {
        "collapsed": true,
        "id": "dtBMufJz7DiH"
      },
      "outputs": [],
      "source": [
        "class Rectangle:\n",
        "\n",
        "    def __init__(self, width, height):\n",
        "        # self is a special keyword to refer to the instance that you create\n",
        "        #  attributes / properties\n",
        "        self.width = width\n",
        "        self.height = height\n",
        "\n",
        "    # user defined methods  / functions\n",
        "    def area(self):\n",
        "        return self.width * self.height\n",
        "\n",
        "    def perimeter(self):\n",
        "        return 2 * (self.width + self.height)"
      ]
    },
    {
      "cell_type": "code",
      "execution_count": null,
      "metadata": {
        "collapsed": true,
        "id": "eqtEXtNJ7DiI"
      },
      "outputs": [],
      "source": [
        "r1 = Rectangle(10, 20)"
      ]
    },
    {
      "cell_type": "code",
      "execution_count": null,
      "metadata": {
        "id": "2FGmj6mz7DiJ",
        "outputId": "e6135bf4-dfa0-43e4-8f13-547541e66692",
        "colab": {
          "base_uri": "https://localhost:8080/"
        }
      },
      "outputs": [
        {
          "output_type": "stream",
          "name": "stdout",
          "text": [
            "Area of the rectangle r1 is 200\n",
            "Perimeter of the rectangle r1 is 60\n"
          ]
        }
      ],
      "source": [
        "print(f\"Area of the rectangle r1 is {r1.area()}\")\n",
        "print(f\"Perimeter of the rectangle r1 is {r1.perimeter()}\")"
      ]
    },
    {
      "cell_type": "markdown",
      "metadata": {
        "id": "K3I2uHzn7DiJ"
      },
      "source": [
        "When we ran the above line of code, our object was `r1`, so when `area` was called, Python in fact called the method `area` in the Rectangle class automatically passing `r1` to the `self` parameter."
      ]
    },
    {
      "cell_type": "markdown",
      "metadata": {
        "id": "UraLP2Jj7DiK"
      },
      "source": [
        "This is why we can use a name other than self, such as in the perimeter method:"
      ]
    },
    {
      "cell_type": "markdown",
      "metadata": {
        "id": "rG-1lRM77DiM"
      },
      "source": [
        "Python defines a bunch of **special** methods that we can use to give our classes functionality that resembles functionality of built-in and standard library objects.\n",
        "\n",
        "Many people refer to them as *magic* methods, but there's nothing magical about them - unlike magic, they are well documented and understood!!\n",
        "\n",
        "These **special** methods provide us an easy way to overload operators in Python."
      ]
    },
    {
      "cell_type": "markdown",
      "metadata": {
        "id": "xgZFD7fQ7DiM"
      },
      "source": [
        "For example, we can obtain the string representation of an integer using the built-in `str` function:"
      ]
    },
    {
      "cell_type": "code",
      "execution_count": null,
      "metadata": {
        "id": "4TppPuMR7DiN",
        "outputId": "90f98900-8b59-47c9-bf37-ecb83f36643d",
        "colab": {
          "base_uri": "https://localhost:8080/",
          "height": 35
        }
      },
      "outputs": [
        {
          "output_type": "execute_result",
          "data": {
            "text/plain": [
              "'10'"
            ],
            "application/vnd.google.colaboratory.intrinsic+json": {
              "type": "string"
            }
          },
          "metadata": {},
          "execution_count": 12
        }
      ],
      "source": [
        "str(10)"
      ]
    },
    {
      "cell_type": "markdown",
      "metadata": {
        "id": "G6CvjUYM7DiN"
      },
      "source": [
        "What happens if we try this with our Rectangle object?"
      ]
    },
    {
      "cell_type": "code",
      "execution_count": null,
      "metadata": {
        "id": "cTHksBvK7DiO",
        "outputId": "16fb8fd3-2dca-405f-a518-362fb2de6bcd",
        "colab": {
          "base_uri": "https://localhost:8080/"
        }
      },
      "outputs": [
        {
          "output_type": "stream",
          "name": "stdout",
          "text": [
            "<__main__.Rectangle object at 0x7fbf2baeece0>\n",
            "<__main__.Rectangle object at 0x7fbf2baee890>\n"
          ]
        }
      ],
      "source": [
        "print(str(r1))\n",
        "print(str(r2))"
      ]
    },
    {
      "cell_type": "markdown",
      "metadata": {
        "id": "LMYqNoo77DiO"
      },
      "source": [
        "Not exactly what we might have expected. On the other hand, how is Python supposed to know how to display our rectangle as a string?\n",
        "\n",
        "We could write a method in the class such as:"
      ]
    },
    {
      "cell_type": "code",
      "execution_count": null,
      "metadata": {
        "collapsed": true,
        "id": "e0A-yihQ7DiO"
      },
      "outputs": [],
      "source": [
        "class Rectangle:\n",
        "    def __init__(self, width, height):\n",
        "        self.width = width\n",
        "        self.height = height\n",
        "\n",
        "    def area(self):\n",
        "        return self.width * self.height\n",
        "\n",
        "    def perimeter(self):\n",
        "        return 2 * (self.width + self.height)\n",
        "\n",
        "    def to_str(self):\n",
        "        return 'Rectangle (width={0}, height={1})'.format(self.width, self.height)"
      ]
    },
    {
      "cell_type": "markdown",
      "metadata": {
        "id": "T6UEq9Kb7DiP"
      },
      "source": [
        "So now we could get a string from our object as follows:"
      ]
    },
    {
      "cell_type": "code",
      "execution_count": null,
      "metadata": {
        "id": "PvjnSH9u7DiQ",
        "outputId": "a19ca472-8a55-4042-d234-3a36be9edaf4",
        "colab": {
          "base_uri": "https://localhost:8080/",
          "height": 35
        }
      },
      "outputs": [
        {
          "output_type": "execute_result",
          "data": {
            "text/plain": [
              "'Rectangle (width=10, height=20)'"
            ],
            "application/vnd.google.colaboratory.intrinsic+json": {
              "type": "string"
            }
          },
          "metadata": {},
          "execution_count": 16
        }
      ],
      "source": [
        "r1 = Rectangle(10, 20)\n",
        "r1.to_str()"
      ]
    },
    {
      "cell_type": "markdown",
      "metadata": {
        "id": "xqXrvz8v7DiQ"
      },
      "source": [
        "But of course, using the built-in `str` function still does not work:"
      ]
    },
    {
      "cell_type": "code",
      "execution_count": null,
      "metadata": {
        "id": "Zaqd0-W17DiR",
        "outputId": "9b4f5435-22d2-4bd7-e725-bb84bb544c75",
        "colab": {
          "base_uri": "https://localhost:8080/",
          "height": 35
        }
      },
      "outputs": [
        {
          "output_type": "execute_result",
          "data": {
            "text/plain": [
              "\"{'b', 'a'}\""
            ],
            "application/vnd.google.colaboratory.intrinsic+json": {
              "type": "string"
            }
          },
          "metadata": {},
          "execution_count": 18
        }
      ],
      "source": [
        "str(r1)"
      ]
    },
    {
      "cell_type": "markdown",
      "metadata": {
        "id": "9oazl6cy7DiR"
      },
      "source": [
        "Does this mean we are out of luck, and anyone who writes a class in Python will need to provide some method to do this, and probably come up with their own name for the method too, maybe `to_str`, `make_string`, `stringify`, and who knows what else."
      ]
    },
    {
      "cell_type": "markdown",
      "metadata": {
        "id": "ZhHmMThi7DiR"
      },
      "source": [
        "Fortunately, this is where these special methods come in. When we call `str(r1)`, Python will first look to see if our class (`Rectangle`) has a special method called `__str__`.\n",
        "\n",
        "If the `__str__` method is present, then Python will call it and return that value.\n",
        "\n",
        "There's actually another one called `__repr__` which is related, but we'll just focus on `__str__` for now."
      ]
    },
    {
      "cell_type": "code",
      "execution_count": null,
      "metadata": {
        "collapsed": true,
        "id": "DZSnhMnf7DiS"
      },
      "outputs": [],
      "source": [
        "class Rectangle:\n",
        "    def __init__(self, width, height):\n",
        "        self.width = width\n",
        "        self.height = height\n",
        "\n",
        "    def area(self):\n",
        "        return self.width * self.height\n",
        "\n",
        "    def perimeter(self):\n",
        "        return 2 * (self.width + self.height)\n",
        "\n",
        "    def __str__(self):\n",
        "        return 'Rectangle (width={0}, height={1})'.format(self.width, self.height)\n",
        "\n",
        "    def __doc__(self):\n",
        "        return 'This is the documentation'"
      ]
    },
    {
      "cell_type": "code",
      "execution_count": null,
      "metadata": {
        "collapsed": true,
        "id": "aqclu2tV7DiS"
      },
      "outputs": [],
      "source": [
        "r1 = Rectangle(10, 20)"
      ]
    },
    {
      "cell_type": "code",
      "execution_count": null,
      "metadata": {
        "id": "gJxaY6D47DiT",
        "outputId": "11c19009-8634-44db-ee8e-6a638f74e46e",
        "colab": {
          "base_uri": "https://localhost:8080/",
          "height": 35
        }
      },
      "outputs": [
        {
          "output_type": "execute_result",
          "data": {
            "text/plain": [
              "'Rectangle (width=10, height=20)'"
            ],
            "application/vnd.google.colaboratory.intrinsic+json": {
              "type": "string"
            }
          },
          "metadata": {},
          "execution_count": 22
        }
      ],
      "source": [
        "str(r1)"
      ]
    },
    {
      "cell_type": "code",
      "source": [
        "r1.__doc__"
      ],
      "metadata": {
        "colab": {
          "base_uri": "https://localhost:8080/"
        },
        "id": "Cf-CTtlftNkV",
        "outputId": "862faa87-8095-4fe5-ef9e-e1b3410df1f3"
      },
      "execution_count": null,
      "outputs": [
        {
          "output_type": "execute_result",
          "data": {
            "text/plain": [
              "<bound method Rectangle.__doc__ of <__main__.Rectangle object at 0x7fbf2baef580>>"
            ]
          },
          "metadata": {},
          "execution_count": 23
        }
      ]
    },
    {
      "cell_type": "markdown",
      "metadata": {
        "id": "I1I1ICJc7DiT"
      },
      "source": [
        "However, in Jupyter (and interactive console if you are using that), look what happens here:"
      ]
    },
    {
      "cell_type": "code",
      "execution_count": null,
      "metadata": {
        "id": "qCo76-hL7DiU",
        "outputId": "12d8b396-a0cf-4c44-de02-f0189db148a4"
      },
      "outputs": [
        {
          "data": {
            "text/plain": [
              "<__main__.Rectangle at 0x2375e716ef0>"
            ]
          },
          "execution_count": 19,
          "metadata": {},
          "output_type": "execute_result"
        }
      ],
      "source": [
        "r1"
      ]
    },
    {
      "cell_type": "markdown",
      "metadata": {
        "id": "gbZk5EWA7DiV"
      },
      "source": [
        "As you can see we still get that default. That's because here Python is not converting `r1` to a string, but instead looking for a string *representation* of the object. It is looking for the `__repr__` method (which we'll come back to later)."
      ]
    },
    {
      "cell_type": "code",
      "execution_count": null,
      "metadata": {
        "collapsed": true,
        "id": "jyCOZtDJ7Did"
      },
      "outputs": [],
      "source": [
        "class Rectangle:\n",
        "    def __init__(self, width, height):\n",
        "        self.width = width\n",
        "        self.height = height\n",
        "\n",
        "    def area(self):\n",
        "        return self.width * self.height\n",
        "\n",
        "    def perimeter(self):\n",
        "        return 2 * (self.width + self.height)\n",
        "\n",
        "    def __str__(self):\n",
        "        return 'Rectangle (width={0}, height={1})'.format(self.width, self.height)\n",
        "\n",
        "    def __repr__(self):\n",
        "        return 'This is a Rectangle({0}, {1})'.format(self.width, self.height)"
      ]
    },
    {
      "cell_type": "code",
      "execution_count": null,
      "metadata": {
        "collapsed": true,
        "id": "m5n7UkDy7Die"
      },
      "outputs": [],
      "source": [
        "r1 = Rectangle(10, 20)"
      ]
    },
    {
      "cell_type": "code",
      "execution_count": null,
      "metadata": {
        "id": "54wlSNzy7Dif",
        "outputId": "36266d34-ae6b-469f-ed8a-daca57f4eda4",
        "colab": {
          "base_uri": "https://localhost:8080/"
        }
      },
      "outputs": [
        {
          "output_type": "stream",
          "name": "stdout",
          "text": [
            "Rectangle (width=10, height=20)\n",
            "Rectangle (width=10, height=20)\n"
          ]
        }
      ],
      "source": [
        "print(str(r1)) # uses __str__\n",
        "print(r1)  # uses __str__"
      ]
    },
    {
      "cell_type": "code",
      "execution_count": null,
      "metadata": {
        "id": "AXLgIbLn7Dif",
        "outputId": "701e1f0d-c685-49c0-cd7b-394650ca50a8",
        "colab": {
          "base_uri": "https://localhost:8080/"
        }
      },
      "outputs": [
        {
          "output_type": "execute_result",
          "data": {
            "text/plain": [
              "Rectangle(10, 20)"
            ]
          },
          "metadata": {},
          "execution_count": 12
        }
      ],
      "source": [
        "r1  # uses __repr__"
      ]
    },
    {
      "cell_type": "markdown",
      "metadata": {
        "id": "3twyYCVI7Dig"
      },
      "source": [
        "How about the comparison operators, such as `==` or `<`?"
      ]
    },
    {
      "cell_type": "code",
      "execution_count": null,
      "metadata": {
        "collapsed": true,
        "id": "X4lISINC7Dig"
      },
      "outputs": [],
      "source": [
        "r1 = Rectangle(10, 20)\n",
        "r2 = Rectangle(10, 20)"
      ]
    },
    {
      "cell_type": "code",
      "execution_count": null,
      "metadata": {
        "id": "xnXuNJrC7Dih",
        "outputId": "81b29d62-70d8-4d2e-fc14-23d4a62a7e22",
        "colab": {
          "base_uri": "https://localhost:8080/"
        }
      },
      "outputs": [
        {
          "output_type": "stream",
          "name": "stdout",
          "text": [
            "self=Rectangle (width=10, height=20), other=Rectangle (width=10, height=20)\n"
          ]
        },
        {
          "output_type": "execute_result",
          "data": {
            "text/plain": [
              "True"
            ]
          },
          "metadata": {},
          "execution_count": 37
        }
      ],
      "source": [
        "r1 == r2 # if both instances are identical"
      ]
    },
    {
      "cell_type": "code",
      "source": [
        "type(r1)==type(r2) # if  both the instances are of the same class"
      ],
      "metadata": {
        "colab": {
          "base_uri": "https://localhost:8080/"
        },
        "id": "PRRWNQA7uTRr",
        "outputId": "86af6dcd-c6d8-44e1-dfc9-014892ee5e74"
      },
      "execution_count": null,
      "outputs": [
        {
          "output_type": "execute_result",
          "data": {
            "text/plain": [
              "True"
            ]
          },
          "metadata": {},
          "execution_count": 35
        }
      ]
    },
    {
      "cell_type": "markdown",
      "metadata": {
        "id": "SD-zRToy7Dii"
      },
      "source": [
        "As you can see, Python does not consider `r1` and `r2` as equal (using the `==` operator). Again, how is Python supposed to know that two Rectangle objects with the same height and width should be considered equal?"
      ]
    },
    {
      "cell_type": "markdown",
      "metadata": {
        "id": "ekVrY2CI7Dii"
      },
      "source": [
        "We just need to tell Python how to do it, using the special method `__eq__`."
      ]
    },
    {
      "cell_type": "code",
      "execution_count": null,
      "metadata": {
        "collapsed": true,
        "id": "yQY35MvP7Dis"
      },
      "outputs": [],
      "source": [
        "class Rectangle:\n",
        "    def __init__(self, width, height):\n",
        "        self.width = width\n",
        "        self.height = height\n",
        "\n",
        "    def area(self):\n",
        "        return self.width * self.height\n",
        "\n",
        "    def perimeter(self):\n",
        "        return 2 * (self.width + self.height)\n",
        "\n",
        "    def __str__(self):\n",
        "        return 'Rectangle (width={0}, height={1})'.format(self.width, self.height)\n",
        "\n",
        "    def __repr__(self):\n",
        "        return 'Rectangle({0}, {1})'.format(self.width, self.height)\n",
        "\n",
        "    def __eq__(self, other):\n",
        "        print('self={0}, other={1}'.format(self, other))\n",
        "        if isinstance(other, Rectangle):\n",
        "            return (self.width, self.height) == (other.width, other.height)\n",
        "        else:\n",
        "            return False"
      ]
    },
    {
      "cell_type": "code",
      "execution_count": null,
      "metadata": {
        "collapsed": true,
        "id": "iqo-khjQ7Dis"
      },
      "outputs": [],
      "source": [
        "r1 = Rectangle(10, 20)\n",
        "r2 = Rectangle(16, 20)"
      ]
    },
    {
      "cell_type": "code",
      "execution_count": null,
      "metadata": {
        "id": "SfVS6U627Dit",
        "outputId": "a6527d41-f5f3-4c90-c498-9a942215d447",
        "colab": {
          "base_uri": "https://localhost:8080/"
        }
      },
      "outputs": [
        {
          "output_type": "stream",
          "name": "stdout",
          "text": [
            "self=Rectangle (width=10, height=20), other=Rectangle (width=16, height=20)\n"
          ]
        },
        {
          "output_type": "execute_result",
          "data": {
            "text/plain": [
              "False"
            ]
          },
          "metadata": {},
          "execution_count": 45
        }
      ],
      "source": [
        "r1 == r2"
      ]
    },
    {
      "cell_type": "code",
      "execution_count": null,
      "metadata": {
        "collapsed": true,
        "id": "BfL1GpYO7Diu"
      },
      "outputs": [],
      "source": [
        "r3 = Rectangle(2, 3)"
      ]
    },
    {
      "cell_type": "code",
      "execution_count": null,
      "metadata": {
        "id": "-4qvyWIb7Diu",
        "outputId": "eab1fce9-3bdf-41f8-b68e-16c602585931"
      },
      "outputs": [
        {
          "name": "stdout",
          "output_type": "stream",
          "text": [
            "self=Rectangle (width=10, height=20), other=Rectangle (width=2, height=3)\n"
          ]
        },
        {
          "data": {
            "text/plain": [
              "False"
            ]
          },
          "execution_count": 45,
          "metadata": {},
          "output_type": "execute_result"
        }
      ],
      "source": [
        "r1 == r3"
      ]
    },
    {
      "cell_type": "markdown",
      "metadata": {
        "id": "yy69jT8k7Div"
      },
      "source": [
        "And if we try to compare our Rectangle to a different type:"
      ]
    },
    {
      "cell_type": "code",
      "execution_count": null,
      "metadata": {
        "id": "xOo3ETMA7Diw",
        "outputId": "eaee5fcd-468d-4ae4-a401-61650c0464e5",
        "colab": {
          "base_uri": "https://localhost:8080/"
        }
      },
      "outputs": [
        {
          "output_type": "stream",
          "name": "stdout",
          "text": [
            "self=Rectangle (width=10, height=20), other=[]\n"
          ]
        },
        {
          "output_type": "execute_result",
          "data": {
            "text/plain": [
              "False"
            ]
          },
          "metadata": {},
          "execution_count": 46
        }
      ],
      "source": [
        "r1 == list()"
      ]
    },
    {
      "cell_type": "markdown",
      "metadata": {
        "id": "jhBcypeS7Diw"
      },
      "source": [
        "Let's remove that print statement - I only put that in so you could see what the arguments were, in practice you should avoid side effects."
      ]
    },
    {
      "cell_type": "code",
      "execution_count": null,
      "metadata": {
        "collapsed": true,
        "id": "Z78gaXAs7Dix"
      },
      "outputs": [],
      "source": [
        "class Rectangle:\n",
        "    def __init__(self, width, height):\n",
        "        self.width = width\n",
        "        self.height = height\n",
        "\n",
        "    def area(self):\n",
        "        return self.width * self.height\n",
        "\n",
        "    def perimeter(self):\n",
        "        return 2 * (self.width + self.height)\n",
        "\n",
        "    def __str__(self):\n",
        "        return 'Rectangle (width={0}, height={1})'.format(self.width, self.height)\n",
        "\n",
        "    def __repr__(self):\n",
        "        return 'Rectangle({0}, {1})'.format(self.width, self.height)\n",
        "\n",
        "    def __eq__(self, other):\n",
        "        if isinstance(other, Rectangle):\n",
        "            return (self.width, self.height) == (other.width, other.height)\n",
        "        else:\n",
        "            return False"
      ]
    },
    {
      "cell_type": "markdown",
      "metadata": {
        "id": "RiFyBYeS7Dix"
      },
      "source": [
        "What about `<`, `>`, `<=`, etc.?\n",
        "\n",
        "Again, Python has special methods we can use to provide that functionality.\n",
        "\n",
        "These are methods such as `__lt__`, `__gt__`, `__le__`, etc."
      ]
    },
    {
      "cell_type": "code",
      "execution_count": null,
      "metadata": {
        "collapsed": true,
        "id": "Pty3co-_7Diy"
      },
      "outputs": [],
      "source": [
        "class Rectangle:\n",
        "    def __init__(self, width, height):\n",
        "        self.width = width\n",
        "        self.height = height\n",
        "\n",
        "    def area(self):\n",
        "        return self.width * self.height\n",
        "\n",
        "    def perimeter(self):\n",
        "        return 2 * (self.width + self.height)\n",
        "\n",
        "    def __str__(self):\n",
        "        return 'Rectangle (width={0}, height={1})'.format(self.width, self.height)\n",
        "\n",
        "    def __repr__(self):\n",
        "        return 'Rectangle({0}, {1})'.format(self.width, self.height)\n",
        "\n",
        "    def __eq__(self, other):\n",
        "        if isinstance(other, Rectangle):\n",
        "            return (self.width, self.height) == (other.width, other.height)\n",
        "        else:\n",
        "            return False\n",
        "\n",
        "    def __lt__(self, other):\n",
        "        if isinstance(other, Rectangle):\n",
        "            return self.area() < other.area()\n",
        "        else:\n",
        "            return NotImplemented"
      ]
    },
    {
      "cell_type": "code",
      "execution_count": null,
      "metadata": {
        "collapsed": true,
        "id": "js3Pm-za7Diz"
      },
      "outputs": [],
      "source": [
        "r1 = Rectangle(100, 200)\n",
        "r2 = Rectangle(10, 20)"
      ]
    },
    {
      "cell_type": "code",
      "execution_count": null,
      "metadata": {
        "id": "Uikb0bV77Diz",
        "outputId": "fdb78703-1b10-4d30-e454-24fd7c544054",
        "colab": {
          "base_uri": "https://localhost:8080/"
        }
      },
      "outputs": [
        {
          "output_type": "execute_result",
          "data": {
            "text/plain": [
              "True"
            ]
          },
          "metadata": {},
          "execution_count": 49
        }
      ],
      "source": [
        "r1 > r2 # Inside the class the lt function automatically calculates the area of both the rectangles to produce the result"
      ]
    },
    {
      "cell_type": "code",
      "execution_count": null,
      "metadata": {
        "id": "QNYdM1MJ7Di0",
        "outputId": "d06ce65a-1045-40c4-d494-2130505c95e7"
      },
      "outputs": [
        {
          "data": {
            "text/plain": [
              "True"
            ]
          },
          "execution_count": 51,
          "metadata": {},
          "output_type": "execute_result"
        }
      ],
      "source": [
        "r2 < r1"
      ]
    },
    {
      "cell_type": "markdown",
      "metadata": {
        "id": "LdxjlxXu7Di0"
      },
      "source": [
        "What about `>`?"
      ]
    },
    {
      "cell_type": "code",
      "execution_count": null,
      "metadata": {
        "id": "BwcwmYG-7Di1",
        "outputId": "2f5cdc80-8be3-4792-8708-67fa14282f17"
      },
      "outputs": [
        {
          "data": {
            "text/plain": [
              "True"
            ]
          },
          "execution_count": 52,
          "metadata": {},
          "output_type": "execute_result"
        }
      ],
      "source": [
        "r1 > r2"
      ]
    },
    {
      "cell_type": "markdown",
      "metadata": {
        "id": "S7_VM_i57Di1"
      },
      "source": [
        "How did that work? We did not define a `__gt__` method.\n",
        "\n",
        "Well, Python cleverly decided that since `r1 > r2` was not implemented, it would give\n",
        "\n",
        "`r2 < r1`\n",
        "\n",
        "a try. And since, `__lt__` **is** defined, it worked!"
      ]
    },
    {
      "cell_type": "markdown",
      "metadata": {
        "id": "QaQqfuFL7Di1"
      },
      "source": [
        "Of course, `<=` is not going to magically work!"
      ]
    },
    {
      "cell_type": "code",
      "execution_count": null,
      "metadata": {
        "id": "JZoEXdle7Di2",
        "outputId": "6e7461af-f21d-428c-e37c-c1e09c459e98"
      },
      "outputs": [
        {
          "ename": "TypeError",
          "evalue": "'<=' not supported between instances of 'Rectangle' and 'Rectangle'",
          "output_type": "error",
          "traceback": [
            "\u001b[1;31m---------------------------------------------------------------------------\u001b[0m",
            "\u001b[1;31mTypeError\u001b[0m                                 Traceback (most recent call last)",
            "\u001b[1;32m<ipython-input-53-beabec6419b6>\u001b[0m in \u001b[0;36m<module>\u001b[1;34m()\u001b[0m\n\u001b[1;32m----> 1\u001b[1;33m \u001b[0mr1\u001b[0m \u001b[1;33m<=\u001b[0m \u001b[0mr2\u001b[0m\u001b[1;33m\u001b[0m\u001b[0m\n\u001b[0m",
            "\u001b[1;31mTypeError\u001b[0m: '<=' not supported between instances of 'Rectangle' and 'Rectangle'"
          ]
        }
      ],
      "source": [
        "r1 <= r2"
      ]
    },
    {
      "cell_type": "markdown",
      "metadata": {
        "id": "8v-mtr917Di2"
      },
      "source": [
        "If you come from a Java background, you are probably thinking that using \"bare\" properties (direct access), such as `height` and `width` is a terrible design idea.\n",
        "\n",
        "It is for Java, but not for Python.\n",
        "\n",
        "Although you can use bare properties in Java, if you ever need to intercept the getting or setting of a property, you will need to write a method (such as `getWidth` and `setWidth`. The problem is that if you used a bare `width` property for example, a lot of your code might be using `obj.width` (as we have been doing here). The instant you make the `width` private and instead implement getters and setters, you break your code.\n",
        "Hence one of the reasons why in Java we just write getters and setters for properties from the beginning.\n",
        "\n",
        "With Python this is not the case - we can change any bare property into getters and setters without breaking the code that uses that bare property.\n",
        "\n",
        "I'll show you a quick example here, but we'll come back to this topic in much more detail later."
      ]
    },
    {
      "cell_type": "markdown",
      "source": [
        "# Different type of methods in a class\n",
        "1. Class method\n",
        "2. Instance method\n",
        "3. Static method\n",
        "\n",
        "Class Method :  Generally used to access the class variables<br>\n",
        "Instance Method : Uses the instance reference ( self )<br>\n",
        "Static Method : Utility functions that has no relation to the class variables and methods .   "
      ],
      "metadata": {
        "id": "NyRohnZow9Sm"
      }
    },
    {
      "cell_type": "code",
      "source": [
        "class Vehicle: # name of the class\n",
        "  vehicleclass='PASSENGER' # class variables that always stay irrespective of any operation including inheritance\n",
        "\n",
        "  def __init__ (self):    # instance initiation this is a magic method hence starts with a __ and ends with a __\n",
        "    print(\"Class initiated\")\n",
        "    self.vehiclecolor='WHITE'\n",
        "    self.vehicletransmission='AUTOMATIC'\n",
        "    self.vehiclehasairbags=False\n",
        "\n",
        "  @staticmethod # Decorator\n",
        "  def utility():\n",
        "        print(\"This is the help documentation\")\n",
        "\n",
        "  @classmethod\n",
        "  def getdefaultattributes(cls): # accepts the class itself as a parameter and returns the attributes of the class\n",
        "    return (f\" Class Attribute vehicleclass : {cls.vehicleclass}\")\n",
        "\n",
        "  @classmethod\n",
        "  def setclassattribute(cls,value):\n",
        "    cls.vehicleclass=value\n",
        "    return (f\" Class Attribute vehicleclass : {cls.vehicleclass}\")\n",
        "\n",
        "  # instance method\n",
        "  def setattribute(self,vehiclecolor,vehicletransmission,vehiclehasairbags):\n",
        "    self.vehiclecolor=vehiclecolor\n",
        "    self.vehicletransmission=vehicletransmission\n",
        "    self.vehiclehasairbags=vehiclehasairbags\n",
        "    return (f\"Attributes set successfully\")\n",
        "\n",
        ""
      ],
      "metadata": {
        "id": "awKxsXzRw7O8"
      },
      "execution_count": 32,
      "outputs": []
    },
    {
      "cell_type": "code",
      "source": [
        "Vehicle.getdefaultattributes() # Accessing the class variables"
      ],
      "metadata": {
        "colab": {
          "base_uri": "https://localhost:8080/",
          "height": 35
        },
        "id": "z3CLBEz1yuZ-",
        "outputId": "1ba636bb-4a58-47dd-d936-b38d36cfa44c"
      },
      "execution_count": 23,
      "outputs": [
        {
          "output_type": "execute_result",
          "data": {
            "text/plain": [
              "' Class Attribute vehicleclass : PASSENGER'"
            ],
            "application/vnd.google.colaboratory.intrinsic+json": {
              "type": "string"
            }
          },
          "metadata": {},
          "execution_count": 23
        }
      ]
    },
    {
      "cell_type": "code",
      "source": [
        "# create an instance of class Vehicle\n",
        "myvehicle = Vehicle() # not giving any parameters because self is implied"
      ],
      "metadata": {
        "colab": {
          "base_uri": "https://localhost:8080/"
        },
        "id": "HnfxvgcRzmMl",
        "outputId": "39cfd901-f3b2-41f2-c078-5ad83aa1821f"
      },
      "execution_count": 24,
      "outputs": [
        {
          "output_type": "stream",
          "name": "stdout",
          "text": [
            "Class initiated\n"
          ]
        }
      ]
    },
    {
      "cell_type": "code",
      "source": [
        "# GET instance attributes\n",
        "print(myvehicle.vehicleclass,myvehicle.vehiclecolor,myvehicle.vehicletransmission,myvehicle.vehiclehasairbags)\n"
      ],
      "metadata": {
        "colab": {
          "base_uri": "https://localhost:8080/"
        },
        "id": "aTUimnhA3I2e",
        "outputId": "62197b99-b294-42ff-a27a-7c4072516613"
      },
      "execution_count": 25,
      "outputs": [
        {
          "output_type": "stream",
          "name": "stdout",
          "text": [
            "PASSENGER WHITE AUTOMATIC False\n"
          ]
        }
      ]
    },
    {
      "cell_type": "code",
      "source": [
        "# SET instance attributes\n",
        "myvehicle.setattribute('BLACK','MANUAL',True)"
      ],
      "metadata": {
        "colab": {
          "base_uri": "https://localhost:8080/",
          "height": 35
        },
        "id": "xjQ18hLDUWjC",
        "outputId": "50cecacc-06b9-4177-e868-aa8773f8bd70"
      },
      "execution_count": 26,
      "outputs": [
        {
          "output_type": "execute_result",
          "data": {
            "text/plain": [
              "'Attributes set successfully'"
            ],
            "application/vnd.google.colaboratory.intrinsic+json": {
              "type": "string"
            }
          },
          "metadata": {},
          "execution_count": 26
        }
      ]
    },
    {
      "cell_type": "code",
      "source": [
        "# GET instance attributes after SETting them in the previous step\n",
        "print(myvehicle.vehicleclass,myvehicle.vehiclecolor,myvehicle.vehicletransmission,myvehicle.vehiclehasairbags)"
      ],
      "metadata": {
        "colab": {
          "base_uri": "https://localhost:8080/"
        },
        "id": "GCsWRotuVHaj",
        "outputId": "a08f8166-3b8b-4105-d9a4-d530b5ef3f97"
      },
      "execution_count": 27,
      "outputs": [
        {
          "output_type": "stream",
          "name": "stdout",
          "text": [
            "PASSENGER BLACK MANUAL True\n"
          ]
        }
      ]
    },
    {
      "cell_type": "code",
      "source": [
        "yourvehicle = Vehicle() # not giving any parameters because self is implied\n",
        "# SET instance attributes\n",
        "yourvehicle.setattribute('GREY','AUTOMATIC',True)\n",
        "# And GET Them\n",
        "print(yourvehicle.vehicleclass,yourvehicle.vehiclecolor,yourvehicle.vehicletransmission,yourvehicle.vehiclehasairbags)"
      ],
      "metadata": {
        "colab": {
          "base_uri": "https://localhost:8080/"
        },
        "id": "z2wu_8X4VO45",
        "outputId": "22e4bdf5-bc89-4689-9820-2a429529b556"
      },
      "execution_count": 33,
      "outputs": [
        {
          "output_type": "stream",
          "name": "stdout",
          "text": [
            "Class initiated\n",
            "PASSENGER GREY AUTOMATIC True\n"
          ]
        }
      ]
    },
    {
      "cell_type": "code",
      "source": [
        "yourvehicle.setclassattribute('COMMERCIAL')"
      ],
      "metadata": {
        "colab": {
          "base_uri": "https://localhost:8080/",
          "height": 35
        },
        "id": "efPWDyzVV1Uf",
        "outputId": "877c91ea-9200-43cb-e7f1-900fb0ccca98"
      },
      "execution_count": 29,
      "outputs": [
        {
          "output_type": "execute_result",
          "data": {
            "text/plain": [
              "' Class Attribute vehicleclass : COMMERCIAL'"
            ],
            "application/vnd.google.colaboratory.intrinsic+json": {
              "type": "string"
            }
          },
          "metadata": {},
          "execution_count": 29
        }
      ]
    },
    {
      "cell_type": "code",
      "source": [
        "# GET instance attributes after SETting them in the previous step for a different instance\n",
        "print(myvehicle.vehicleclass,myvehicle.vehiclecolor,myvehicle.vehicletransmission,myvehicle.vehiclehasairbags)"
      ],
      "metadata": {
        "colab": {
          "base_uri": "https://localhost:8080/"
        },
        "id": "7PIc8ZtSWJHI",
        "outputId": "5ecd5894-c7cf-4969-d4d6-90064bbc2349"
      },
      "execution_count": 30,
      "outputs": [
        {
          "output_type": "stream",
          "name": "stdout",
          "text": [
            "COMMERCIAL BLACK MANUAL True\n"
          ]
        }
      ]
    },
    {
      "cell_type": "code",
      "source": [
        "# use of a static method\n",
        "myvehicle.utility()\n",
        "yourvehicle.utility()"
      ],
      "metadata": {
        "colab": {
          "base_uri": "https://localhost:8080/"
        },
        "id": "07-yb-lEYd58",
        "outputId": "ebffaaad-9da2-4931-c458-941c79ab829b"
      },
      "execution_count": 34,
      "outputs": [
        {
          "output_type": "stream",
          "name": "stdout",
          "text": [
            "This is a static method.\n",
            "This is the help documentation\n"
          ]
        }
      ]
    },
    {
      "cell_type": "code",
      "source": [
        "import random\n",
        "print(random.randInt())"
      ],
      "metadata": {
        "colab": {
          "base_uri": "https://localhost:8080/",
          "height": 184
        },
        "id": "GohxkqHYY1uO",
        "outputId": "9e29a089-21a6-4a75-8c98-46e60aa264a7"
      },
      "execution_count": 36,
      "outputs": [
        {
          "output_type": "error",
          "ename": "AttributeError",
          "evalue": "ignored",
          "traceback": [
            "\u001b[0;31m---------------------------------------------------------------------------\u001b[0m",
            "\u001b[0;31mAttributeError\u001b[0m                            Traceback (most recent call last)",
            "\u001b[0;32m<ipython-input-36-1cd028220475>\u001b[0m in \u001b[0;36m<cell line: 2>\u001b[0;34m()\u001b[0m\n\u001b[1;32m      1\u001b[0m \u001b[0;32mimport\u001b[0m \u001b[0mrandom\u001b[0m\u001b[0;34m\u001b[0m\u001b[0;34m\u001b[0m\u001b[0m\n\u001b[0;32m----> 2\u001b[0;31m \u001b[0mprint\u001b[0m\u001b[0;34m(\u001b[0m\u001b[0mrandom\u001b[0m\u001b[0;34m.\u001b[0m\u001b[0mrandInt\u001b[0m\u001b[0;34m(\u001b[0m\u001b[0;34m)\u001b[0m\u001b[0;34m)\u001b[0m\u001b[0;34m\u001b[0m\u001b[0;34m\u001b[0m\u001b[0m\n\u001b[0m",
            "\u001b[0;31mAttributeError\u001b[0m: module 'random' has no attribute 'randInt'"
          ]
        }
      ]
    },
    {
      "cell_type": "markdown",
      "source": [
        "# Decorators\n",
        "In Python, a decorator is a design pattern that allows you to modify the functionality of a function by wrapping it in another function.\n",
        "\n",
        "The outer function is called the decorator, which takes the original function as an argument and returns a modified version of it."
      ],
      "metadata": {
        "id": "K-jT91Z4QUBU"
      }
    },
    {
      "cell_type": "code",
      "source": [
        "def make_pretty(func):\n",
        "    \"\"\"\n",
        "    Decorator function that makes something decorated\n",
        "    \"\"\"\n",
        "    def inner():\n",
        "        print(\"************************************\")\n",
        "        func()\n",
        "        print(\"************************************\")\n",
        "    return inner\n",
        "\n",
        "\n"
      ],
      "metadata": {
        "id": "1hTX9AQPP7QK"
      },
      "execution_count": 42,
      "outputs": []
    },
    {
      "cell_type": "code",
      "source": [
        "# Create an ordinary function\n",
        "def ordinary():\n",
        "    print(\"I am ordinary\")"
      ],
      "metadata": {
        "id": "mjyp2HJPacPK"
      },
      "execution_count": 43,
      "outputs": []
    },
    {
      "cell_type": "code",
      "source": [
        "# call the ordinary function\n",
        "ordinary()"
      ],
      "metadata": {
        "colab": {
          "base_uri": "https://localhost:8080/"
        },
        "id": "ktL3Nj-zaqaz",
        "outputId": "ef4fd651-4cb3-4ad0-be91-8fabdf229a9c"
      },
      "execution_count": 39,
      "outputs": [
        {
          "output_type": "stream",
          "name": "stdout",
          "text": [
            "I am ordinary\n"
          ]
        }
      ]
    },
    {
      "cell_type": "code",
      "source": [
        "@make_pretty # define the function again with a decorator called make_pretty\n",
        "def ordinary():\n",
        "    print(\"I am a python program\")\n",
        "\n",
        "@make_pretty\n",
        "def cleanprint():\n",
        "  print(\"Print anything here enclosed with asterisk lines\")"
      ],
      "metadata": {
        "id": "iZJYTqmaa1x1"
      },
      "execution_count": 48,
      "outputs": []
    },
    {
      "cell_type": "code",
      "source": [
        "cleanprint()"
      ],
      "metadata": {
        "colab": {
          "base_uri": "https://localhost:8080/"
        },
        "id": "QpYrdujLa9-1",
        "outputId": "9412db5c-7a66-4a25-afb3-5ecbc72e2632"
      },
      "execution_count": 52,
      "outputs": [
        {
          "output_type": "stream",
          "name": "stdout",
          "text": [
            "************************************\n",
            "Print anything here enclosed with asterisk lines\n",
            "************************************\n"
          ]
        }
      ]
    },
    {
      "cell_type": "code",
      "source": [
        "\"\"\"\n",
        "Design a decorator function make_upper which should raise the value to be printed from lower case to upper case when decorated\n",
        "\n",
        "example\n",
        "\n",
        "@make_upper\n",
        "def raiseupper():\n",
        "  print(\"everything in lower case\")\n",
        "\n",
        "output should be : EVERYTHING IN LOWER CASE\n",
        "\"\"\""
      ],
      "metadata": {
        "colab": {
          "base_uri": "https://localhost:8080/",
          "height": 70
        },
        "id": "Owq6VIc4cx8H",
        "outputId": "0cf7482b-c6e6-4a10-b47a-d8d557c1fc5f"
      },
      "execution_count": 51,
      "outputs": [
        {
          "output_type": "execute_result",
          "data": {
            "text/plain": [
              "'\\nDesign a decorator function make_upper which should raise the value to be printed from lower case to upper case when decorated\\n\\nexample \\n\\n@make_upper\\ndef raiseupper():\\n  print(\"everything in lower case\")\\n\\noutput should be : EVERYTHING IN LOWER CASE\\n'"
            ],
            "application/vnd.google.colaboratory.intrinsic+json": {
              "type": "string"
            }
          },
          "metadata": {},
          "execution_count": 51
        }
      ]
    },
    {
      "cell_type": "markdown",
      "metadata": {
        "id": "J6l-yegV7Di3"
      },
      "source": [
        "Let's take our Rectangle class once again. I'll use a simplified version to keep the code short."
      ]
    },
    {
      "cell_type": "code",
      "execution_count": null,
      "metadata": {
        "collapsed": true,
        "id": "ZJ-Wbe567Di3"
      },
      "outputs": [],
      "source": [
        "class Rectangle:\n",
        "    def __init__(self, width, height):\n",
        "        self.width = width\n",
        "        self.height = height\n",
        "\n",
        "    def __repr__(self):\n",
        "        return 'Rectangle({0}, {1})'.format(self.width, self.height)"
      ]
    },
    {
      "cell_type": "code",
      "execution_count": null,
      "metadata": {
        "collapsed": true,
        "id": "53Tgn9LF7Di4"
      },
      "outputs": [],
      "source": [
        "r1 = Rectangle(10, 20)"
      ]
    },
    {
      "cell_type": "code",
      "execution_count": null,
      "metadata": {
        "id": "KhLy-oMM7Di5",
        "outputId": "d7f29a1c-2513-4cdb-9746-2915968e2fd0"
      },
      "outputs": [
        {
          "data": {
            "text/plain": [
              "10"
            ]
          },
          "execution_count": 56,
          "metadata": {},
          "output_type": "execute_result"
        }
      ],
      "source": [
        "r1.width"
      ]
    },
    {
      "cell_type": "code",
      "execution_count": null,
      "metadata": {
        "collapsed": true,
        "id": "Ns30_p367Di5"
      },
      "outputs": [],
      "source": [
        "r1.width = 100"
      ]
    },
    {
      "cell_type": "code",
      "execution_count": null,
      "metadata": {
        "id": "HJh6rhV57Di6",
        "outputId": "3bf6327a-f57e-40be-b264-c64935d991a8"
      },
      "outputs": [
        {
          "data": {
            "text/plain": [
              "Rectangle(100, 20)"
            ]
          },
          "execution_count": 58,
          "metadata": {},
          "output_type": "execute_result"
        }
      ],
      "source": [
        "r1"
      ]
    },
    {
      "cell_type": "code",
      "source": [],
      "metadata": {
        "colab": {
          "base_uri": "https://localhost:8080/"
        },
        "id": "vUyPVX8qduAI",
        "outputId": "83c5659f-c4d2-424c-eee7-18a6a57a8e19"
      },
      "execution_count": 53,
      "outputs": [
        {
          "output_type": "stream",
          "name": "stdout",
          "text": [
            "Rectangle(12, 20, 30, 40)\n"
          ]
        }
      ]
    },
    {
      "cell_type": "markdown",
      "metadata": {
        "id": "lEwCd2cP7Di6"
      },
      "source": [
        "As you saw we can *get* and *set* the `width` property directly.\n",
        "\n",
        "But let's say after this code has been released for a while and users of our class have been using it (and specifically setting and getting the `width` and `height` attribute a lot), but now we want to make sure users cannot set a non-positive value (i.e. <= 0) for width (or height, but we'll focus on width as an example)."
      ]
    },
    {
      "cell_type": "markdown",
      "metadata": {
        "id": "ScbWYNHC7Di7"
      },
      "source": [
        "In a language like Java, we would implement `getWidth` and `setWidth` and make `width` private - which would break any code directly accessing the `width` property."
      ]
    },
    {
      "cell_type": "markdown",
      "metadata": {
        "id": "iI7tCl_m7Di7"
      },
      "source": [
        "In Python we can use some special **decorators** (more on those later) to encapsulate our property getters and setters:"
      ]
    },
    {
      "cell_type": "code",
      "execution_count": 54,
      "metadata": {
        "collapsed": true,
        "id": "aA0YkWX07Di7"
      },
      "outputs": [],
      "source": [
        "class Rectangle:\n",
        "    def __init__(self, width, height):\n",
        "        self._width = width\n",
        "        self._height = height\n",
        "\n",
        "    def __repr__(self):\n",
        "        return 'Rectangle({0}, {1})'.format(self.width, self.height)\n",
        "\n",
        "    @property\n",
        "    def width(self):\n",
        "        return self._width\n",
        "\n",
        "    @width.setter\n",
        "    def width(self, width):\n",
        "        if width <= 0:\n",
        "            raise ValueError('Width must be positive.')\n",
        "        self._width = width\n",
        "\n",
        "    @property\n",
        "    def height(self):\n",
        "        return self._height\n",
        "\n",
        "    @height.setter\n",
        "    def height(self, height):\n",
        "        if height <= 0:\n",
        "            raise ValueError('Height must be positive.')\n",
        "        self._height = height"
      ]
    },
    {
      "cell_type": "code",
      "execution_count": 55,
      "metadata": {
        "collapsed": true,
        "id": "U36qhrTW7Di8"
      },
      "outputs": [],
      "source": [
        "r1 = Rectangle(10, 20)"
      ]
    },
    {
      "cell_type": "code",
      "execution_count": 56,
      "metadata": {
        "id": "22J-TGaI7Di8",
        "outputId": "4cb1d1fa-d3f7-4787-9d56-7ef7f856207a",
        "colab": {
          "base_uri": "https://localhost:8080/"
        }
      },
      "outputs": [
        {
          "output_type": "execute_result",
          "data": {
            "text/plain": [
              "10"
            ]
          },
          "metadata": {},
          "execution_count": 56
        }
      ],
      "source": [
        "r1.width"
      ]
    },
    {
      "cell_type": "code",
      "execution_count": null,
      "metadata": {
        "collapsed": true,
        "id": "do8ewNtf7Di9"
      },
      "outputs": [],
      "source": [
        "r1.width = 100"
      ]
    },
    {
      "cell_type": "code",
      "execution_count": null,
      "metadata": {
        "id": "vhJW-Bt_7Di9",
        "outputId": "3cf38517-884b-450e-ba92-1d7cf9d2dfb2"
      },
      "outputs": [
        {
          "data": {
            "text/plain": [
              "Rectangle(100, 20)"
            ]
          },
          "execution_count": 63,
          "metadata": {},
          "output_type": "execute_result"
        }
      ],
      "source": [
        "r1"
      ]
    },
    {
      "cell_type": "code",
      "execution_count": 57,
      "metadata": {
        "id": "aTAaqNrv7Di9",
        "outputId": "04e41723-53ee-4dce-f6c3-ec5695bbc9e2",
        "colab": {
          "base_uri": "https://localhost:8080/",
          "height": 288
        }
      },
      "outputs": [
        {
          "output_type": "error",
          "ename": "ValueError",
          "evalue": "ignored",
          "traceback": [
            "\u001b[0;31m---------------------------------------------------------------------------\u001b[0m",
            "\u001b[0;31mValueError\u001b[0m                                Traceback (most recent call last)",
            "\u001b[0;32m<ipython-input-57-a9c613e96f90>\u001b[0m in \u001b[0;36m<cell line: 1>\u001b[0;34m()\u001b[0m\n\u001b[0;32m----> 1\u001b[0;31m \u001b[0mr1\u001b[0m\u001b[0;34m.\u001b[0m\u001b[0mwidth\u001b[0m \u001b[0;34m=\u001b[0m \u001b[0;34m-\u001b[0m\u001b[0;36m10\u001b[0m\u001b[0;34m\u001b[0m\u001b[0;34m\u001b[0m\u001b[0m\n\u001b[0m",
            "\u001b[0;32m<ipython-input-54-38e0dec6c455>\u001b[0m in \u001b[0;36mwidth\u001b[0;34m(self, width)\u001b[0m\n\u001b[1;32m     14\u001b[0m     \u001b[0;32mdef\u001b[0m \u001b[0mwidth\u001b[0m\u001b[0;34m(\u001b[0m\u001b[0mself\u001b[0m\u001b[0;34m,\u001b[0m \u001b[0mwidth\u001b[0m\u001b[0;34m)\u001b[0m\u001b[0;34m:\u001b[0m\u001b[0;34m\u001b[0m\u001b[0;34m\u001b[0m\u001b[0m\n\u001b[1;32m     15\u001b[0m         \u001b[0;32mif\u001b[0m \u001b[0mwidth\u001b[0m \u001b[0;34m<=\u001b[0m \u001b[0;36m0\u001b[0m\u001b[0;34m:\u001b[0m\u001b[0;34m\u001b[0m\u001b[0;34m\u001b[0m\u001b[0m\n\u001b[0;32m---> 16\u001b[0;31m             \u001b[0;32mraise\u001b[0m \u001b[0mValueError\u001b[0m\u001b[0;34m(\u001b[0m\u001b[0;34m'Width must be positive.'\u001b[0m\u001b[0;34m)\u001b[0m\u001b[0;34m\u001b[0m\u001b[0;34m\u001b[0m\u001b[0m\n\u001b[0m\u001b[1;32m     17\u001b[0m         \u001b[0mself\u001b[0m\u001b[0;34m.\u001b[0m\u001b[0m_width\u001b[0m \u001b[0;34m=\u001b[0m \u001b[0mwidth\u001b[0m\u001b[0;34m\u001b[0m\u001b[0;34m\u001b[0m\u001b[0m\n\u001b[1;32m     18\u001b[0m \u001b[0;34m\u001b[0m\u001b[0m\n",
            "\u001b[0;31mValueError\u001b[0m: Width must be positive."
          ]
        }
      ],
      "source": [
        "r1.width = -10"
      ]
    },
    {
      "cell_type": "markdown",
      "metadata": {
        "id": "px6bEiPJ7Di-"
      },
      "source": [
        "There are more things we should do to properly implement all this, in particular we should also be checking the positive and negative values during the `__init__` phase. We do so by using the accessor methods for height and width:"
      ]
    },
    {
      "cell_type": "code",
      "execution_count": null,
      "metadata": {
        "collapsed": true,
        "id": "k3CPWAE-7Di-"
      },
      "outputs": [],
      "source": [
        "class Rectangle:\n",
        "    def __init__(self, width, height):\n",
        "        self._width = None\n",
        "        self._height = None\n",
        "        # now we call our accessor methods to set the width and height\n",
        "        self.width = width\n",
        "        self.height = height\n",
        "\n",
        "    def __repr__(self):\n",
        "        return 'Rectangle({0}, {1})'.format(self.width, self.height)\n",
        "\n",
        "    @property\n",
        "    def width(self):\n",
        "        return self._width\n",
        "\n",
        "    @width.setter\n",
        "    def width(self, width):\n",
        "        if width <= 0:\n",
        "            raise ValueError('Width must be positive.')\n",
        "        self._width = width\n",
        "\n",
        "    @property\n",
        "    def height(self):\n",
        "        return self._height\n",
        "\n",
        "    @height.setter\n",
        "    def height(self, height):\n",
        "        if height <= 0:\n",
        "            raise ValueError('Height must be positive.')\n",
        "        self._height = height"
      ]
    },
    {
      "cell_type": "code",
      "execution_count": null,
      "metadata": {
        "id": "0X190cy27Di_",
        "outputId": "bcd478aa-94ff-4513-be61-20f2e411f76d"
      },
      "outputs": [
        {
          "ename": "ValueError",
          "evalue": "Width must be positive.",
          "output_type": "error",
          "traceback": [
            "\u001b[1;31m---------------------------------------------------------------------------\u001b[0m",
            "\u001b[1;31mValueError\u001b[0m                                Traceback (most recent call last)",
            "\u001b[1;32m<ipython-input-66-b60d030826a5>\u001b[0m in \u001b[0;36m<module>\u001b[1;34m()\u001b[0m\n\u001b[1;32m----> 1\u001b[1;33m \u001b[0mr1\u001b[0m \u001b[1;33m=\u001b[0m \u001b[0mRectangle\u001b[0m\u001b[1;33m(\u001b[0m\u001b[1;36m0\u001b[0m\u001b[1;33m,\u001b[0m \u001b[1;36m10\u001b[0m\u001b[1;33m)\u001b[0m\u001b[1;33m\u001b[0m\u001b[0m\n\u001b[0m",
            "\u001b[1;32m<ipython-input-65-4c1b43452381>\u001b[0m in \u001b[0;36m__init__\u001b[1;34m(self, width, height)\u001b[0m\n\u001b[0;32m      4\u001b[0m         \u001b[0mself\u001b[0m\u001b[1;33m.\u001b[0m\u001b[0m_height\u001b[0m \u001b[1;33m=\u001b[0m \u001b[1;32mNone\u001b[0m\u001b[1;33m\u001b[0m\u001b[0m\n\u001b[0;32m      5\u001b[0m         \u001b[1;31m# now we call our accessor methods to set the width and height\u001b[0m\u001b[1;33m\u001b[0m\u001b[1;33m\u001b[0m\u001b[0m\n\u001b[1;32m----> 6\u001b[1;33m         \u001b[0mself\u001b[0m\u001b[1;33m.\u001b[0m\u001b[0mwidth\u001b[0m \u001b[1;33m=\u001b[0m \u001b[0mwidth\u001b[0m\u001b[1;33m\u001b[0m\u001b[0m\n\u001b[0m\u001b[0;32m      7\u001b[0m         \u001b[0mself\u001b[0m\u001b[1;33m.\u001b[0m\u001b[0mheight\u001b[0m \u001b[1;33m=\u001b[0m \u001b[0mheight\u001b[0m\u001b[1;33m\u001b[0m\u001b[0m\n\u001b[0;32m      8\u001b[0m \u001b[1;33m\u001b[0m\u001b[0m\n",
            "\u001b[1;32m<ipython-input-65-4c1b43452381>\u001b[0m in \u001b[0;36mwidth\u001b[1;34m(self, width)\u001b[0m\n\u001b[0;32m     17\u001b[0m     \u001b[1;32mdef\u001b[0m \u001b[0mwidth\u001b[0m\u001b[1;33m(\u001b[0m\u001b[0mself\u001b[0m\u001b[1;33m,\u001b[0m \u001b[0mwidth\u001b[0m\u001b[1;33m)\u001b[0m\u001b[1;33m:\u001b[0m\u001b[1;33m\u001b[0m\u001b[0m\n\u001b[0;32m     18\u001b[0m         \u001b[1;32mif\u001b[0m \u001b[0mwidth\u001b[0m \u001b[1;33m<=\u001b[0m \u001b[1;36m0\u001b[0m\u001b[1;33m:\u001b[0m\u001b[1;33m\u001b[0m\u001b[0m\n\u001b[1;32m---> 19\u001b[1;33m             \u001b[1;32mraise\u001b[0m \u001b[0mValueError\u001b[0m\u001b[1;33m(\u001b[0m\u001b[1;34m'Width must be positive.'\u001b[0m\u001b[1;33m)\u001b[0m\u001b[1;33m\u001b[0m\u001b[0m\n\u001b[0m\u001b[0;32m     20\u001b[0m         \u001b[0mself\u001b[0m\u001b[1;33m.\u001b[0m\u001b[0m_width\u001b[0m \u001b[1;33m=\u001b[0m \u001b[0mwidth\u001b[0m\u001b[1;33m\u001b[0m\u001b[0m\n\u001b[0;32m     21\u001b[0m \u001b[1;33m\u001b[0m\u001b[0m\n",
            "\u001b[1;31mValueError\u001b[0m: Width must be positive."
          ]
        }
      ],
      "source": [
        "r1 = Rectangle(0, 10)"
      ]
    },
    {
      "cell_type": "markdown",
      "metadata": {
        "id": "5b9-SHiK7Di_"
      },
      "source": [
        "There more we should be doing, like checking that the width and height being passed in are numeric types, and so on. Especially during the `__init__` phase - we would rather raise an exception when the object is being created rather than delay things and raise an exception when the user calls some method like `area` - that way the exception will be on the line that creates the object - makes debugging much easier!"
      ]
    },
    {
      "cell_type": "markdown",
      "metadata": {
        "id": "7bptxDzX7Di_"
      },
      "source": [
        "There are many more of these special methods, and we'll look in detail at them later in this course."
      ]
    }
  ],
  "metadata": {
    "kernelspec": {
      "display_name": "Python 3",
      "language": "python",
      "name": "python3"
    },
    "language_info": {
      "codemirror_mode": {
        "name": "ipython",
        "version": 3
      },
      "file_extension": ".py",
      "mimetype": "text/x-python",
      "name": "python",
      "nbconvert_exporter": "python",
      "pygments_lexer": "ipython3",
      "version": "3.6.2"
    },
    "colab": {
      "provenance": [],
      "include_colab_link": true
    }
  },
  "nbformat": 4,
  "nbformat_minor": 0
}