{
  "cells": [
    {
      "cell_type": "markdown",
      "metadata": {
        "id": "view-in-github",
        "colab_type": "text"
      },
      "source": [
        "<a href=\"https://colab.research.google.com/github/rajeshr6r/EMEAPythonTraining/blob/main/Day4_ForLoops.ipynb\" target=\"_parent\"><img src=\"https://colab.research.google.com/assets/colab-badge.svg\" alt=\"Open In Colab\"/></a>"
      ]
    },
    {
      "cell_type": "markdown",
      "metadata": {
        "id": "LDPQ7ip-QK90"
      },
      "source": [
        "# `for` Loops in Python\n",
        "\n",
        "\n"
      ]
    },
    {
      "cell_type": "markdown",
      "metadata": {
        "id": "7yCrFv2xQK-E"
      },
      "source": [
        "## Objectives\n",
        "\n",
        "* Understand that loops are used to make programs do many, often repetitive, tasks\n",
        "* Be able to follow a simple `for` loop through each iteration\n",
        "* Understand the importance of indentation in Python\n",
        "* Complete a simple `for` loop"
      ]
    },
    {
      "cell_type": "markdown",
      "metadata": {
        "id": "MHKiNO4KQK-H"
      },
      "source": [
        "## Loops\n",
        "\n",
        "As with lists, we usually want to process many samples or measurements. Writing a line of code to process each measurement would make our codes complex and cumbersome. Like with lists, with enough variables to process, we might as well do it all by hand.\n",
        "\n",
        "There are two key ways to do repetitive tasks in Python - the `for` loop and the `while` loop. They work in slightly different ways but we'll only cover `for` loops today.\n",
        "\n",
        "## `for` loops\n",
        "\n",
        "In Python, a `for` loop takes a group of values and does an operation on each value in turn."
      ]
    },
    {
      "cell_type": "markdown",
      "metadata": {
        "id": "7GBWCwbwQK-J"
      },
      "source": [
        "<div style=\"border: 3px solid #1b9e77; border-radius: 5px; padding: 10pt\"><strong>Task 6.1:</strong> Run the next two cells and compare their outputs. Imagine you had hundreds of values to process, which would you rather do?\n",
        "<br/>\n",
        "</div>"
      ]
    },
    {
      "cell_type": "code",
      "execution_count": 1,
      "metadata": {
        "colab": {
          "base_uri": "https://localhost:8080/"
        },
        "id": "lbpVFaumQK-L",
        "outputId": "ff3bddba-a9f3-47b7-a240-9e3edc6d0fb8"
      },
      "outputs": [
        {
          "output_type": "stream",
          "name": "stdout",
          "text": [
            "1\n",
            "1\n",
            "2\n",
            "4\n",
            "5\n",
            "25\n",
            "9\n",
            "81\n"
          ]
        }
      ],
      "source": [
        "print(1)\n",
        "print(1 * 1)\n",
        "print(2)\n",
        "print(2 * 2)\n",
        "print(5)\n",
        "print(5 * 5)\n",
        "print(9)\n",
        "print(9 * 9)"
      ]
    },
    {
      "cell_type": "code",
      "execution_count": 2,
      "metadata": {
        "colab": {
          "base_uri": "https://localhost:8080/"
        },
        "id": "4HTWom0YQK-Q",
        "outputId": "15f4c542-efd8-4a77-f3e5-4b9dae6e008e"
      },
      "outputs": [
        {
          "output_type": "stream",
          "name": "stdout",
          "text": [
            "1\n",
            "1\n",
            "2\n",
            "4\n",
            "5\n",
            "25\n",
            "9\n",
            "81\n"
          ]
        }
      ],
      "source": [
        "for number in [1, 2, 5, 9]:\n",
        "    print(number)\n",
        "    print(number * number)"
      ]
    },
    {
      "cell_type": "code",
      "source": [
        "# types of collections list , set , tuple , dictionary\n",
        "# you can use a for loop to iterate through all collections . remember the slide of intro\n",
        "my_list = [1,2,3]\n",
        "my_tuple  = (1,2,3)\n",
        "my_set = {1,2,3}\n",
        "my_dict = {'a':1,'b':2}\n"
      ],
      "metadata": {
        "id": "oEl28W96Rxao"
      },
      "execution_count": 4,
      "outputs": []
    },
    {
      "cell_type": "code",
      "source": [
        "#iterating through a list\n",
        "for item in my_list:\n",
        "  print(item)\n",
        "\n",
        "#iterating through a tuple\n",
        "for item in my_tuple:\n",
        "  print(item)\n",
        "\n",
        "#iterating through a set\n",
        "for item in my_set:\n",
        "  print(item)\n",
        "\n",
        "#iterating through a dict\n",
        "for key,value in my_dict.keys(),my_dict.values(): # nothing wrong about\n",
        "  print(key,value)\n",
        "\n",
        "for key,value in zip(my_dict.keys(),my_dict.values()): # a more elegant way\n",
        "  print(key,value)"
      ],
      "metadata": {
        "colab": {
          "base_uri": "https://localhost:8080/"
        },
        "id": "qXJLU1utSIii",
        "outputId": "ebf823e1-db36-4989-e862-3abb9541c11b"
      },
      "execution_count": 6,
      "outputs": [
        {
          "output_type": "stream",
          "name": "stdout",
          "text": [
            "1\n",
            "2\n",
            "3\n",
            "1\n",
            "2\n",
            "3\n",
            "1\n",
            "2\n",
            "3\n",
            "a b\n",
            "1 2\n",
            "a 1\n",
            "b 2\n"
          ]
        }
      ]
    },
    {
      "cell_type": "code",
      "source": [
        "print( my_dict.keys())\n",
        "print( my_dict.values())\n",
        "\n",
        "#iterating through a dict\n",
        "for key,value in my_dict.keys(),my_dict.values(): # nothing wrong about\n",
        "  print(key,value)\n",
        "\n",
        "for key,value in zip(my_dict.keys(),my_dict.values()): # a more elegant way\n",
        "  print(key,value)"
      ],
      "metadata": {
        "colab": {
          "base_uri": "https://localhost:8080/"
        },
        "id": "bs9clmUMTgwT",
        "outputId": "3bf31b03-b8ce-4311-835e-f18ff9f3d77f"
      },
      "execution_count": 8,
      "outputs": [
        {
          "output_type": "stream",
          "name": "stdout",
          "text": [
            "dict_keys(['a', 'b'])\n",
            "dict_values([1, 2])\n",
            "a b\n",
            "1 2\n",
            "a 1\n",
            "b 2\n"
          ]
        }
      ]
    },
    {
      "cell_type": "code",
      "source": [
        "list1= [1,2,3]\n",
        "list2= ['a','b','c']\n",
        "list3= ['z','y','x']\n",
        "\n",
        "\n",
        "for item1,item2,item3 in zip (list1,list2,list3):\n",
        "  print(item1,item2,item3)"
      ],
      "metadata": {
        "colab": {
          "base_uri": "https://localhost:8080/"
        },
        "id": "aSFimCpkUCkR",
        "outputId": "0664c3ab-56d8-489a-ea8e-020d9c01af86"
      },
      "execution_count": 9,
      "outputs": [
        {
          "output_type": "stream",
          "name": "stdout",
          "text": [
            "1 a z\n",
            "2 b y\n",
            "3 c x\n"
          ]
        }
      ]
    },
    {
      "cell_type": "markdown",
      "source": [],
      "metadata": {
        "id": "vVoxgRjPSH6y"
      }
    },
    {
      "cell_type": "markdown",
      "metadata": {
        "id": "unehG60tQK-R"
      },
      "source": [
        "Let's break this `for` loop down:\n",
        "\n",
        "* The `for` statement tells Python we want to run a loop.\n",
        "* `number` is a variable that exists only within the loop, we call it the *iterator*. An iterator always represents \"the thing we want to process now\".\n",
        "* `in [1,2,5,9]` tells the `for` loop that `number` should take (in turn) the values *in the list* `[1,2,5,9]`.\n",
        "* Finally, `print(number)`, or whatever code we choose to do inside your loop, is the code we want to repeat.\n",
        "\n",
        "But there are two other extremely important features of the cell above:\n",
        "\n",
        "1. The `for` statement must end in a colon, this signals the start of the code you want to repeat.\n",
        "2. The body of the statement must be indented, this is usually four spaces but can be anything consistent, e.g. one space, one tab, etc.. Thankfully, Jupyter should autoindent lines following a colon for you."
      ]
    },
    {
      "cell_type": "markdown",
      "metadata": {
        "id": "FzjewKOiQK-R"
      },
      "source": [
        "<div style=\"border: 3px solid #1b9e77; border-radius: 5px; padding: 10pt\"><strong>Task 6.2:</strong> Read the next cell carefully. What do you think the value of <code>total</code> will be during each step of the loop? Add a call to <code>print()</code> in the cell and check that you're right.\n",
        "<br/>\n",
        "</div>"
      ]
    },
    {
      "cell_type": "code",
      "execution_count": null,
      "metadata": {
        "id": "12LqbxBWQK-S"
      },
      "outputs": [],
      "source": [
        "total = 0\n",
        "\n",
        "for number in [1, 2, 5, 9]:\n",
        "    total = total + number"
      ]
    },
    {
      "cell_type": "code",
      "execution_count": 10,
      "metadata": {
        "colab": {
          "base_uri": "https://localhost:8080/"
        },
        "id": "_2BD2q8qQK-U",
        "outputId": "93615bf2-5885-4ca5-c962-df8123e85962"
      },
      "outputs": [
        {
          "output_type": "stream",
          "name": "stdout",
          "text": [
            "1\n",
            "7\n",
            "2\n",
            "14\n",
            "3\n",
            "21\n"
          ]
        }
      ],
      "source": [
        "# in this snippet the indented code block thats the multiple print statements will all execute for the number of iterations\n",
        "for number in [1, 2, 3]:\n",
        "  print(number)\n",
        "  print(number*7)\n",
        ""
      ]
    },
    {
      "cell_type": "code",
      "source": [
        "# look at the way the variable number is being used here and yet not causing a problem.\n",
        "# this is due to the lazy evaluation principle\n",
        "# however this is not a good practice\n",
        "for number in [1, 2, 3]:\n",
        "  print(number)\n",
        "  for number in [4,5,6]:\n",
        "    print(number)\n"
      ],
      "metadata": {
        "colab": {
          "base_uri": "https://localhost:8080/"
        },
        "id": "fYQKdrm7Vf-N",
        "outputId": "96928caf-97c4-478f-9751-07a7919b5984"
      },
      "execution_count": 11,
      "outputs": [
        {
          "output_type": "stream",
          "name": "stdout",
          "text": [
            "1\n",
            "4\n",
            "5\n",
            "6\n",
            "2\n",
            "4\n",
            "5\n",
            "6\n",
            "3\n",
            "4\n",
            "5\n",
            "6\n"
          ]
        }
      ]
    },
    {
      "cell_type": "code",
      "source": [
        "# this is a good practice\n",
        "list1=[1, 2, 3]\n",
        "list2=[4,5,6]\n",
        "for item1 in list1:  # not a good idea it is technically correct .readability is not so good\n",
        "  print(item1)\n",
        "  for item2 in list2: # good way - pythonic idioms\n",
        "    print(item2)\n",
        "\n",
        "#another example of pythonic idiom especially with collections\n",
        "for key,value in dict(zip(list,list2)):\n",
        "  print(key,value)\n"
      ],
      "metadata": {
        "colab": {
          "base_uri": "https://localhost:8080/"
        },
        "id": "QtH2WjiVWRRN",
        "outputId": "d4f47d3b-6b37-4088-9a07-7ea28ea691c1"
      },
      "execution_count": 12,
      "outputs": [
        {
          "output_type": "stream",
          "name": "stdout",
          "text": [
            "1\n",
            "4\n",
            "5\n",
            "6\n",
            "2\n",
            "4\n",
            "5\n",
            "6\n",
            "3\n",
            "4\n",
            "5\n",
            "6\n"
          ]
        }
      ]
    },
    {
      "cell_type": "markdown",
      "metadata": {
        "id": "TwGgbloqQK-Z"
      },
      "source": [
        "## `for` loops (continued)\n",
        "\n",
        "### `range()`\n",
        "\n",
        "Now we've seen how a `for` loop is constructed using a list of numbers, what if we want to run some code over a range of regularly spaced values?\n",
        "\n",
        "Python has a built-in function to help with this: `range()`."
      ]
    },
    {
      "cell_type": "markdown",
      "metadata": {
        "id": "fFEdnQ0MQK-Z"
      },
      "source": [
        "<div style=\"border: 3px solid #1b9e77; border-radius: 5px; padding: 10pt\"><strong>Task 6.6:</strong> Run the cell below. to see the documentation for the <code>range()</code> function.\n",
        "<br/>\n",
        "</div>"
      ]
    },
    {
      "cell_type": "code",
      "execution_count": null,
      "metadata": {
        "id": "OVlAVMbcQK-Z"
      },
      "outputs": [],
      "source": [
        "?range"
      ]
    },
    {
      "cell_type": "markdown",
      "metadata": {
        "id": "1js9yv-kQK-a"
      },
      "source": [
        "<div style=\"border: 3px solid #1b9e77; border-radius: 5px; padding: 10pt\"><strong>Task 6.7:</strong> The following cell loops through the numbers 0 to 9 (inclusive) and prints them one-by-one. Modify the code to print the numbers 90 to 100 (inclusive).\n",
        "<br/>\n",
        "</div>"
      ]
    },
    {
      "cell_type": "code",
      "execution_count": null,
      "metadata": {
        "id": "BEAM5YpSQK-b"
      },
      "outputs": [],
      "source": [
        "for number in range(10):\n",
        "    print(number)"
      ]
    },
    {
      "cell_type": "markdown",
      "metadata": {
        "id": "_ijZB8L2QK-b"
      },
      "source": [
        "<div style=\"border: 3px solid #d95f02; border-radius: 5px; padding: 10pt\"><strong>Exercise 6.8:</strong> Read the cell below. This <code>for</code> loop aims to calculate the square and cube of every odd number between 1 and 11. Replace all the gaps (<code>____</code>) in the cell so that it runs without errors and produces the right output values.\n",
        "<br/>\n",
        "</div>"
      ]
    },
    {
      "cell_type": "code",
      "execution_count": null,
      "metadata": {
        "id": "cIDjHCksQK-c"
      },
      "outputs": [],
      "source": [
        "for number in range(____, ____, ____):\n",
        "    square = ____ * ____\n",
        "    cube = ____ * ____\n",
        "    print(f\"{number} squared is {____} and cubed is {____}.\")"
      ]
    },
    {
      "cell_type": "markdown",
      "metadata": {
        "id": "0PG4G7X_QK-d"
      },
      "source": [
        "<div style=\"border: 3px solid #d95f02; border-radius: 5px; padding: 10pt\"><strong>Exercise 6.9:</strong> Create a new cell below and write a <code>for</code> loop that adds together all the numbers between 0 and 100 (inclusive).\n",
        "<br/>\n",
        "</div>"
      ]
    },
    {
      "cell_type": "markdown",
      "metadata": {
        "id": "haizA3snQK-d"
      },
      "source": [
        "<div style=\"border: 3px solid #d95f02; border-radius: 5px; padding: 10pt\"><strong>Exercise 6.10:</strong> Create a new cell below and write a <code>for</code> loop that sums all odd numbers squared, for numbers smaller than 45.\n",
        "<br/>\n",
        "</div>"
      ]
    },
    {
      "cell_type": "markdown",
      "metadata": {
        "id": "5zQvCbXPQK-e"
      },
      "source": [
        "## Key Points\n",
        "\n",
        "* Loops enable your Python codes to repeat tasks\n",
        "* A `for` loop runs code on an iterator, which takes each value in a list (one-by-one)\n",
        "* `for` loops must have a colon and everything after the colon should be indented\n",
        "* There can be many lines of code inside a `for` loop.\n",
        "* Errors are helpful! (yet again)\n",
        "* The built-in Python function `range()` can be used to create a `for` loop that iterates over a sequence of numbers"
      ]
    }
  ],
  "metadata": {
    "celltoolbar": "Slideshow",
    "kernelspec": {
      "display_name": "Python 3 (ipykernel)",
      "language": "python",
      "name": "python3"
    },
    "language_info": {
      "codemirror_mode": {
        "name": "ipython",
        "version": 3
      },
      "file_extension": ".py",
      "mimetype": "text/x-python",
      "name": "python",
      "nbconvert_exporter": "python",
      "pygments_lexer": "ipython3",
      "version": "3.9.13"
    },
    "vscode": {
      "interpreter": {
        "hash": "d769866b6f821afb3302734fef8b56cb7dc86bcc8e4d86f160ade10a565e9457"
      }
    },
    "colab": {
      "provenance": [],
      "include_colab_link": true
    }
  },
  "nbformat": 4,
  "nbformat_minor": 0
}