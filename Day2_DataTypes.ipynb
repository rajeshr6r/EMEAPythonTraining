{
  "cells": [
    {
      "cell_type": "markdown",
      "metadata": {
        "id": "view-in-github",
        "colab_type": "text"
      },
      "source": [
        "<a href=\"https://colab.research.google.com/github/rajeshr6r/EMEAPythonTraining/blob/main/Day2_DataTypes.ipynb\" target=\"_parent\"><img src=\"https://colab.research.google.com/assets/colab-badge.svg\" alt=\"Open In Colab\"/></a>"
      ]
    },
    {
      "cell_type": "markdown",
      "metadata": {
        "id": "-u3K8PHNGP6j"
      },
      "source": [
        "## Objectives\n",
        "\n",
        "* Understand that variables can hold any information - but needs to know the 'type'\n",
        "* Know the most commonly used built-in Python data types\n",
        "* Explain the differences between `int` and `float` variables\n",
        "* Convert between data types"
      ]
    },
    {
      "cell_type": "markdown",
      "metadata": {
        "id": "qSdJ4vPTGP6j"
      },
      "source": [
        "## Data Types\n",
        "\n",
        "So far we've said that variables store information or data. But Python needs to know what 'type' of data a variable is in order to understand that data.\n",
        "\n",
        "For example, Python (and hopefully you) thinks that it's perfectly okay to multiply two numbers together but not two words!\n",
        "\n",
        "Python has a large number of types but for now we will consider only three:\n",
        "\n",
        "* `int` or integers (whole numbers)\n",
        "* `float` or floats (numbers with decimal information)\n",
        "* `str` or character strings, i.e. text\n",
        "  * Note that strings are always delimited by `'` or `\"`\n",
        "\n",
        "Python also has a built-in function that will tell you what type some data is."
      ]
    },
    {
      "cell_type": "markdown",
      "metadata": {
        "id": "nSSwaZd5GP6k"
      },
      "source": [
        "<div style=\"border: 3px solid #1b9e77; border-radius: 5px; padding: 10pt\"><strong>Task 3.1:</strong> Read the next cell and predict what the five outputs will be - then run the cell.\n",
        "<br/>\n",
        "</div>"
      ]
    },
    {
      "cell_type": "code",
      "execution_count": 3,
      "metadata": {
        "collapsed": true,
        "colab": {
          "base_uri": "https://localhost:8080/"
        },
        "id": "Zi54baDbGP6l",
        "outputId": "eedc77aa-d927-4f48-9ee6-d48d57c368db"
      },
      "outputs": [
        {
          "output_type": "stream",
          "name": "stdout",
          "text": [
            "<class 'int'>\n",
            "<class 'str'>\n",
            "<class 'float'>\n",
            "<class 'int'>\n"
          ]
        }
      ],
      "source": [
        "print(type(42)) # int\n",
        "\n",
        "print(type(\"42\")) # str\n",
        "\n",
        "print(type(42.0)) # double / float\n",
        "\n",
        "the_meaning_of_life = 42\n",
        "\n",
        "print(type(the_meaning_of_life)) # int"
      ]
    },
    {
      "cell_type": "markdown",
      "metadata": {
        "id": "iGaR3zeOGP6n"
      },
      "source": [
        "<div style=\"border: 3px solid #d95f02; border-radius: 5px; padding: 10pt\"><strong>Exercise 3.2:</strong> What type of values might you use for the following:\n",
        "<ul>\n",
        "    <li>Value of pi</li>\n",
        "    <li>Time since the start of an experiment (what unit might you use?)?</li>\n",
        "    <li>Unique identifier for an animal?</li>\n",
        "    <li>The name of a data file?</li>\n",
        "</ul>\n",
        "</div>"
      ]
    },
    {
      "cell_type": "markdown",
      "metadata": {
        "id": "WqBQbQngGP6n"
      },
      "source": [
        "## Operations and Types\n",
        "\n",
        "All operators, methods and functions will only work on specific data types. Or, perhaps more confusingly, will act differently on different data types."
      ]
    },
    {
      "cell_type": "markdown",
      "metadata": {
        "id": "je5MgHZdGP6o"
      },
      "source": [
        "<div style=\"border: 3px solid #1b9e77; border-radius: 5px; padding: 10pt\"><strong>Task 3.3:</strong> Create a new code cell below this one for each of the following:\n",
        "    <ol>\n",
        "        <li>add (using <code>+</code>) an <code>int</code> with a different <code>int</code></li>\n",
        "        <li>add an <code>int</code> with a <code>float</code></li>\n",
        "        <li>add a <code>str</code> with a different <code>str</code></li>\n",
        "        <li>add a <code>str</code> with an <code>int</code></li>\n",
        "    </ol>\n",
        "</div>"
      ]
    },
    {
      "cell_type": "markdown",
      "source": [
        "# How the asterisk operator behaves differently with a string vs a number"
      ],
      "metadata": {
        "id": "5mfedbAlQE15"
      }
    },
    {
      "cell_type": "code",
      "source": [
        "print('&'*8) # character will be printed by the multipled number\n",
        "print(8*8) # the result of the multiplication\n"
      ],
      "metadata": {
        "colab": {
          "base_uri": "https://localhost:8080/"
        },
        "id": "hg2hfCU1P0k9",
        "outputId": "3ab8aac7-f3ee-48c3-ffdd-53428e3c9c0b"
      },
      "execution_count": 27,
      "outputs": [
        {
          "output_type": "stream",
          "name": "stdout",
          "text": [
            "&&&&&&&&\n",
            "64\n"
          ]
        }
      ]
    },
    {
      "cell_type": "code",
      "source": [
        "print(8+8) #\n",
        "print(8+7.46)"
      ],
      "metadata": {
        "colab": {
          "base_uri": "https://localhost:8080/"
        },
        "id": "vOh68C6bWmBY",
        "outputId": "ea6f92e3-b2ef-4ac8-8268-ba860c24773e"
      },
      "execution_count": 36,
      "outputs": [
        {
          "output_type": "stream",
          "name": "stdout",
          "text": [
            "16\n",
            "15.46\n"
          ]
        }
      ]
    },
    {
      "cell_type": "markdown",
      "metadata": {
        "id": "R2ie0wDxGP6p"
      },
      "source": [
        "### Mixing `int` and `float`\n",
        "\n",
        "In some scenarios it makes sense to mix `float` and `int` data in our calculations.\n",
        "\n",
        "For example, if dinner costs £141.24 (a `float`) and we want to split the bill amongst 6 people (an `int`) Python can do that. In the background it sees that we're mixing `float` and `int` variables and converts everything to `float`."
      ]
    },
    {
      "cell_type": "markdown",
      "metadata": {
        "id": "XeHPq632GP6p"
      },
      "source": [
        "<div style=\"border: 3px solid #1b9e77; border-radius: 5px; padding: 10pt\"><strong>Task 3.4:</strong> Complete the next cell to work out the cost of dinner per person. What type is the output of your calculation?\n",
        "<br/>\n",
        " </div>"
      ]
    },
    {
      "cell_type": "code",
      "execution_count": 15,
      "metadata": {
        "colab": {
          "base_uri": "https://localhost:8080/"
        },
        "id": "C4NDgEZ6GP6q",
        "outputId": "fc6e8083-a37c-440d-fdd1-276647098e73"
      },
      "outputs": [
        {
          "output_type": "stream",
          "name": "stdout",
          "text": [
            "23.54\n"
          ]
        }
      ],
      "source": [
        "total_cost = 141.24\n",
        "\n",
        "number_of_people = 6\n",
        "\n",
        "cost_per_person = total_cost / number_of_people\n",
        "\n",
        "print(round(cost_per_person,2)) # chaining of functions"
      ]
    },
    {
      "cell_type": "code",
      "source": [
        "total_cost = 120\n",
        "print(type(total_cost))\n",
        "number_of_people = 6\n",
        "print(type(number_of_people))\n",
        "cost_per_person_modular = total_cost // number_of_people # modular division\n",
        "cost_per_person = total_cost / number_of_people # regular division\n",
        "\n",
        "print(cost_per_person,type(cost_per_person)) # rounding to 2 decimals using round function\n",
        "print(round(cost_per_person,2),type(round(cost_per_person,2))) # datatype not being changed\n",
        "print(f\"{cost_per_person:.3f}\",type(f\"{cost_per_person:.3f}\")) #  datatype being changed"
      ],
      "metadata": {
        "colab": {
          "base_uri": "https://localhost:8080/"
        },
        "id": "I9-iYo9aRTW2",
        "outputId": "fb85ab3c-3f41-4761-88f5-e676b7929cb1"
      },
      "execution_count": 48,
      "outputs": [
        {
          "output_type": "stream",
          "name": "stdout",
          "text": [
            "<class 'int'>\n",
            "<class 'int'>\n",
            "20.0 <class 'float'>\n",
            "20.0 <class 'float'>\n",
            "20.000 <class 'str'>\n"
          ]
        }
      ]
    },
    {
      "cell_type": "markdown",
      "metadata": {
        "id": "uDOE5t4gGP6r"
      },
      "source": [
        "<div style=\"border: 3px solid #d95f02; border-radius: 5px; padding: 10pt\"><strong>Exercise 3.5:</strong> Python allows two types of division: <code>/</code> and <code>//</code>. Create a new code cell below and try both types. Create a new Markdown cell and describe the difference between the two types of division.\n",
        "<br/>\n",
        "</div>"
      ]
    },
    {
      "cell_type": "code",
      "source": [
        "# Demonstration of dynamic types in python\n",
        "myvalue = 14\n",
        "# The value of the variable myvalue is 1\n",
        "# print (\"The value of the variable myvalue is \" + str(myvalue)) # concatenation\n",
        "print (f\"The value of the variable myvalue is {myvalue} and its data type is {type(myvalue)}\") # 1\n",
        "myvaluerevised = myvalue / 3\n",
        "myvalue= myvaluerevised\n",
        "print (f\"The value of the variable myvaluerevised is {myvaluerevised} and its data type is {type(myvaluerevised)}\") # 2\n",
        "print (f\"The value of the variable myvalue is {myvalue} and its data type is {type(myvalue)}\") # 3\n",
        "myvalue=\"Python\"\n",
        "print (f\"The value of the variable myvalue is {myvalue} and its data type is {type(myvalue)}\") # 4\n"
      ],
      "metadata": {
        "colab": {
          "base_uri": "https://localhost:8080/"
        },
        "id": "yVYf70CMSmVt",
        "outputId": "56674e41-bd22-4794-9448-14bfd7e7e87a"
      },
      "execution_count": 25,
      "outputs": [
        {
          "output_type": "stream",
          "name": "stdout",
          "text": [
            "The value of the variable myvalue is 14 and its data type is <class 'int'>\n",
            "The value of the variable myvaluerevised is 4.666666666666667 and its data type is <class 'float'>\n",
            "The value of the variable myvalue is 4.666666666666667 and its data type is <class 'float'>\n",
            "The value of the variable myvalue is Python and its data type is <class 'str'>\n"
          ]
        }
      ]
    },
    {
      "cell_type": "markdown",
      "metadata": {
        "id": "l1uSrrQmGP6r"
      },
      "source": [
        "## Functions and Types\n",
        "\n",
        "And what about functions, like `len()`?"
      ]
    },
    {
      "cell_type": "markdown",
      "metadata": {
        "id": "z3IoHbSpGP6r"
      },
      "source": [
        "<div style=\"border: 3px solid #1b9e77; border-radius: 5px; padding: 10pt\"><strong>Task 3.6:</strong> Create a new code cell below this one and print the length (<code>len()</code>) of a variable that holds a float.\n",
        "What does the <code>TypeError</code> mean? Create a new Markdown cell and describe, in words you understand, what has gone wrong here.\n",
        "<br/>\n",
        "<!--When you've done this, or if you get stuck, see the video <a href='https://youtu.be/mrtTnlJ3Prs'>here</a> for a walkthrough.--></div>"
      ]
    },
    {
      "cell_type": "code",
      "source": [
        "myvariable1 = 123456\n",
        "# print(f\"length of myvariable1 is {len(myvariable1)}\")\n",
        "myvariable2 = {\"a\":\"b\",\"a\":\"c\"} # need to check this\n",
        "print(f\"length of myvariable2 is {len(myvariable2)}\")\n",
        "myvariable3 = \"EMEAPython\"\n",
        "print(f\"length of myvariable3 is {len(myvariable3)}\")"
      ],
      "metadata": {
        "colab": {
          "base_uri": "https://localhost:8080/"
        },
        "id": "MHCfs2QZVRHk",
        "outputId": "5254ac4f-0469-45fa-b89d-b6c2ba57d2b0"
      },
      "execution_count": 34,
      "outputs": [
        {
          "output_type": "stream",
          "name": "stdout",
          "text": [
            "length of myvariable2 is 1\n",
            "length of myvariable3 is 10\n"
          ]
        }
      ]
    },
    {
      "cell_type": "markdown",
      "metadata": {
        "id": "CIkoC9MUGP6s"
      },
      "source": [
        "## `f`ormatting variables\n",
        "\n",
        "We've shown in the above exercise that functions work on specific types but how do variable types impact formatted printing of our data?\n",
        "\n",
        "As a reminder, in the previous notebook we defined four variables: `age`, `first_name`, `last_name` and `shoe_size` and we printed them with some formatting."
      ]
    },
    {
      "cell_type": "markdown",
      "metadata": {
        "id": "3E7PLN11GP6s"
      },
      "source": [
        "<div style=\"border: 3px solid #1b9e77; border-radius: 5px; padding: 10pt\"><strong>Task 3.7:</strong> Run the following code cell. The variables are not shared between different notebooks so you need to initialise them again.\n",
        "<br/>\n",
        "<!--When you've done this, or if you get stuck, see the video <a href='https://youtu.be/HrL71GHOEa4'>here</a> for a walkthrough.--></div>"
      ]
    },
    {
      "cell_type": "code",
      "execution_count": 37,
      "metadata": {
        "colab": {
          "base_uri": "https://localhost:8080/"
        },
        "id": "W2nV4Zm7GP6s",
        "outputId": "00267c62-17a7-4943-dafd-49cf54c6d39b"
      },
      "outputs": [
        {
          "output_type": "stream",
          "name": "stdout",
          "text": [
            "John Smith is 89.09 years old.\n"
          ]
        }
      ],
      "source": [
        "age = 89.09\n",
        "first_name = \"John\"\n",
        "last_name = \"Smith\"\n",
        "shoe_size = \"9\"\n",
        "print(f\"{first_name} {last_name} is {age} years old.\")"
      ]
    },
    {
      "cell_type": "markdown",
      "metadata": {
        "id": "E_zyPA9lGP6t"
      },
      "source": [
        "In this scenario, Python has guessed that `first_name` and `last_name` are `str` and that `age` is an `int`.\n",
        "\n",
        "But what if age was a float?\n",
        "\n",
        "And what if we wanted to print the integer number of years from that float?"
      ]
    },
    {
      "cell_type": "markdown",
      "metadata": {
        "id": "3HUNtQzWGP6t"
      },
      "source": [
        "<div style=\"border: 3px solid #1b9e77; border-radius: 5px; padding: 10pt\"><strong>Task 3.8:</strong> In the following cell, assign a new float value to <code>age</code> that is your exact age (or there abouts - use at least 5 decimal places). Then run the cell, what is the output when this new age is printed?\n",
        "<br/>\n",
        "<!--When you've done this, or if you get stuck, see the video <a href='https://youtu.be/RZtaCoCkIRQ'>here</a> for a walkthrough.--></div>"
      ]
    },
    {
      "cell_type": "code",
      "execution_count": null,
      "metadata": {
        "id": "LNX2A51lGP6u"
      },
      "outputs": [],
      "source": [
        "age =\n",
        "\n",
        "print(f\"{first_name} {last_name} is {age} years old.\")"
      ]
    },
    {
      "cell_type": "markdown",
      "metadata": {
        "id": "LfMj2Z46GP6u"
      },
      "source": [
        "As you can see, Python now interprets `age` as a `float`, which it is.\n",
        "\n",
        "In order to print just the integer number of years we can take two approaches:\n",
        "\n",
        "1. We can modify our data and round age to the nearest whole number and there are a few ways to do that in Python *but* this changes our data and we just want to print it in a formatted way.\n",
        "2. We can modify the brackets in our `f`-string to tell Python how to format the value. And this is what we'll do.\n",
        "\n",
        "Inside the braces (`{` and `}`) of an `f`-string we can put extra information that tells Python what data type we're passing and how we want Python to treat it.\n",
        "\n",
        "The syntax for providing additional formatting information is to follow the variable number with a colon (`:`) and the formatting specifiers. To tell Python that this variable is a `float` we use `f` and to tell it that we want zero decimal places we use `.0`. Note that type (here `f`) always comes at the end.\n",
        "\n",
        "Altogether `{age}` becomes `{age:.0f}`."
      ]
    },
    {
      "cell_type": "markdown",
      "metadata": {
        "id": "CdkD7uTPGP6u"
      },
      "source": [
        "<div style=\"border: 3px solid #1b9e77; border-radius: 5px; padding: 10pt\"><strong>Task 3.9:</strong> Run the next cell. Change the number after the decimal to print your age to two decimal places - don't forget to rerun the cell.\n",
        "<br/>\n",
        "\n",
        "</div>"
      ]
    },
    {
      "cell_type": "code",
      "execution_count": 40,
      "metadata": {
        "colab": {
          "base_uri": "https://localhost:8080/"
        },
        "id": "Lp4-ZSjGGP6u",
        "outputId": "08936579-642f-4b86-ca55-11bfb9071f80"
      },
      "outputs": [
        {
          "output_type": "stream",
          "name": "stdout",
          "text": [
            "John Smith is 89 years old.\n",
            "John Smith is 89.090 years old.\n"
          ]
        }
      ],
      "source": [
        "print(f\"{first_name} {last_name} is {age:.0f} years old.\")\n",
        "print(f\"{first_name} {last_name} is {age:.3f} years old.\")"
      ]
    },
    {
      "cell_type": "markdown",
      "metadata": {
        "id": "pZL6qk_SGP6v"
      },
      "source": [
        "Now, you might like to add more decimal places to the displayed age. To do that write number of decimal places after dot: `2.1f` for one decimal, `2.2f` for two.\n",
        "You can also display `int` with decimal points if you choose to, by formatting them as floats!"
      ]
    },
    {
      "cell_type": "markdown",
      "metadata": {
        "id": "8Wuc4A61GP6v"
      },
      "source": [
        "Usually, you will be formatting floats to a given number of decimals places so we won't cover any other formatting options in this course."
      ]
    },
    {
      "cell_type": "markdown",
      "metadata": {
        "id": "VDtBO9j2GP6v"
      },
      "source": [
        "<div style=\"border: 3px solid #d95f02; border-radius: 5px; padding: 10pt\"><strong>Exercise 3.11:</strong> You can display an integer with <code>f\"My number is {7:d}\"</code> but you cannot use it to convert a floating point number, e.g. <code>f\"My number is {7.7:d}\"</code> .\n",
        "In a new cell try this code and then correct it to display the floating point number with no decimal places.\n",
        "<br/>\n",
        "</div>"
      ]
    },
    {
      "cell_type": "markdown",
      "metadata": {
        "id": "UXsN_b1HGP6v"
      },
      "source": [
        "<div style=\"border: 3px solid #d95f02; border-radius: 5px; padding: 10pt\"><strong>Exercise 3.12:</strong> Refer to <a href=https://docs.python.org/3/library/string.html>Python's documentation on strings</a>. Create a new cell below and display the variable <code>strange_value=0.34567</code> as a percentage with one decimal place using <code>f</code>-strings.\n",
        "<br/>\n",
        "</div>"
      ]
    },
    {
      "cell_type": "markdown",
      "metadata": {
        "id": "mH-bZKt1GP6w"
      },
      "source": [
        "<div style=\"border: 3px solid #d95f02; border-radius: 5px; padding: 10pt\"><strong>Exercise 3.13:</strong> Refer to <a href=https://docs.python.org/3/library/string.html>Python's documentation on strings</a>. Create a new cell below and display the variable <code>e = 2.7182818284</code> with four decimal places and a sign (i.e. $+2.7182$) using <code>f</code>-strings.\n",
        "<br/>\n",
        "</div>"
      ]
    },
    {
      "cell_type": "markdown",
      "metadata": {
        "id": "08AW7yAgGP6w"
      },
      "source": [
        "## Key Points\n",
        "\n",
        "* Data has a type\n",
        "* The built-in Python function `type()` will tell you the type of some data\n",
        "* Types act differently under different operators, functions and methods\n",
        "* Some functions will not work on some types - the error messages should make this clear\n",
        "* `f`-strings allow you to format data of specific types in specific ways"
      ]
    }
  ],
  "metadata": {
    "celltoolbar": "Slideshow",
    "kernelspec": {
      "display_name": "Python 3",
      "language": "python",
      "name": "python3"
    },
    "language_info": {
      "codemirror_mode": {
        "name": "ipython",
        "version": 3
      },
      "file_extension": ".py",
      "mimetype": "text/x-python",
      "name": "python",
      "nbconvert_exporter": "python",
      "pygments_lexer": "ipython3",
      "version": "3.9.7"
    },
    "vscode": {
      "interpreter": {
        "hash": "d769866b6f821afb3302734fef8b56cb7dc86bcc8e4d86f160ade10a565e9457"
      }
    },
    "colab": {
      "provenance": [],
      "include_colab_link": true
    }
  },
  "nbformat": 4,
  "nbformat_minor": 0
}