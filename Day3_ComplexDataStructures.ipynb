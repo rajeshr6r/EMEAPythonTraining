{
  "nbformat": 4,
  "nbformat_minor": 0,
  "metadata": {
    "colab": {
      "provenance": [],
      "authorship_tag": "ABX9TyPJqsOX+6gEjy0hUW8XjWpo",
      "include_colab_link": true
    },
    "kernelspec": {
      "name": "python3",
      "display_name": "Python 3"
    },
    "language_info": {
      "name": "python"
    }
  },
  "cells": [
    {
      "cell_type": "markdown",
      "metadata": {
        "id": "view-in-github",
        "colab_type": "text"
      },
      "source": [
        "<a href=\"https://colab.research.google.com/github/rajeshr6r/EMEAPythonTraining/blob/main/Day3_ComplexDataStructures.ipynb\" target=\"_parent\"><img src=\"https://colab.research.google.com/assets/colab-badge.svg\" alt=\"Open In Colab\"/></a>"
      ]
    },
    {
      "cell_type": "markdown",
      "source": [
        "More List operations"
      ],
      "metadata": {
        "id": "9RqQphovgiIN"
      }
    },
    {
      "cell_type": "code",
      "source": [
        "# troublesome method\n",
        "\n",
        "my_first_list = [1,2,4,5,6,7,8,9]\n",
        "my_second_list = my_first_list # simply assigning first list to second list\n",
        "\n",
        "print(f\"Printing both the lists before all the mess happens \")\n",
        "print(f\"Printing my_first_list before assignment {my_first_list}\")\n",
        "print(f\"Printing my_second_list before assignment {my_second_list}\")\n",
        "\n",
        "print('ID of my_first_list:', id(my_first_list))\n",
        "print('ID of my_second_list:', id(my_second_list))\n",
        "# Now lets add something to the second list and see what happens to the first list\n",
        "\n",
        "my_second_list.append('abc')\n",
        "print(f\"Printing my_second_list after assignment {my_second_list}\")\n",
        "print(f\"Printing my_first_list after assignment {my_first_list}\")\n"
      ],
      "metadata": {
        "id": "koAPw7dNffAR"
      },
      "execution_count": null,
      "outputs": []
    },
    {
      "cell_type": "markdown",
      "source": [],
      "metadata": {
        "id": "LxK6i41RW9Fo"
      }
    },
    {
      "cell_type": "markdown",
      "source": [
        "# Why does this happens\n",
        "\n",
        " It is because the new list is referencing or pointing to the same old_list object.\n",
        "\n",
        "More on this .\n",
        "\n",
        "https://www.programiz.com/python-programming/methods/list/copy\n",
        "\n",
        "\n",
        "# How do we prevent this ?"
      ],
      "metadata": {
        "id": "0fi6fPYofYMC"
      }
    },
    {
      "cell_type": "code",
      "source": [
        "help(list)"
      ],
      "metadata": {
        "id": "BFus0JmwYoBw"
      },
      "execution_count": null,
      "outputs": []
    },
    {
      "cell_type": "code",
      "source": [
        "#Use the copy method\n",
        "my_first_copy_list = [1,2,4,5,6,7,8,9]\n",
        "my_second_copy_list = my_first_copy_list.copy() # copy\n",
        "print(f\"Printing both the lists before all the mess happens \")\n",
        "print(f\"Printing my_first_list before assignment {my_first_copy_list}\")\n",
        "print(f\"Printing my_second_list before assignment {my_second_copy_list}\")\n",
        "print('ID of my_first_copy_list:', id(my_first_copy_list))\n",
        "print('ID of my_second_copy_list:', id(my_second_copy_list))\n",
        "# Now lets add something to the second list and see what happens to the first list\n",
        "my_second_copy_list.append('abc')\n",
        "print(f\"Printing my_first_copy_list after assignment {my_first_copy_list}\")\n",
        "print(f\"Printing my_second_copy_list after assignment {my_second_copy_list}\")"
      ],
      "metadata": {
        "id": "sesZBCqpgxZN"
      },
      "execution_count": null,
      "outputs": []
    },
    {
      "cell_type": "code",
      "source": [
        "mytestlist1 = list(range(1,10,2)) # because we initialized a list with the range operator\n",
        "mytestlist2 = mytestlist1\n",
        "mytestlist3 = mytestlist2\n",
        "print(f\"Before((((((((()))))))))\")\n",
        "print(f\"mytestlist1 - {id(mytestlist1)}, {mytestlist1}\")\n",
        "print(f\"mytestlist2 - {id(mytestlist2)},{mytestlist2}\")\n",
        "print(f\"mytestlist3 - {id(mytestlist3)},{mytestlist3}\")\n",
        "mytestlist3.append('abc')\n",
        "print(f\"After((((((((()))))))))\")\n",
        "print(f\"mytestlist1 - {id(mytestlist1)}, {mytestlist1}\")\n",
        "print(f\"mytestlist2 - {id(mytestlist2)},{mytestlist2}\")\n",
        "print(f\"mytestlist3 - {id(mytestlist3)},{mytestlist3}\")\n"
      ],
      "metadata": {
        "id": "TOMw5fPXZFzu"
      },
      "execution_count": null,
      "outputs": []
    },
    {
      "cell_type": "markdown",
      "source": [
        "# List slicing operations"
      ],
      "metadata": {
        "id": "lTmC9NbRjfzd"
      }
    },
    {
      "cell_type": "code",
      "source": [
        "print(my_second_copy_list)\n",
        "#print(my_second_copy_list[0:-3]) # index 1 to 3 because the beginning position is always 0\n",
        "#print(my_second_copy_list.index('abc')) # index of a particular value in a list\n",
        "#print(len(my_second_copy_list)) # length of a list\n",
        "print(my_second_copy_list[::2]) # every 4th item from 0 positional reference\n",
        "print(my_second_copy_list[::-1]) # reversing the list special notation\n",
        "print(my_second_copy_list.reverse())"
      ],
      "metadata": {
        "id": "XPVMXROGhTOh"
      },
      "execution_count": null,
      "outputs": []
    },
    {
      "cell_type": "code",
      "source": [
        "# the slicing method never changes the original variable\n",
        "\n",
        "my_reverse_list_new = list(range(1,6,1))\n",
        "print(my_reverse_list_new)\n",
        "# print(my_reverse_list_new[::-1])\n",
        "my_reverse_list_new[::-1] # visual\n",
        "print(my_reverse_list_new)\n",
        "\n",
        "# the reverse method changes the original variable inline\n",
        "\n",
        "my_reverse_list = list(range(1,5,1))\n",
        "print(my_reverse_list)\n",
        "my_reverse_list.reverse()# inline\n",
        "print(my_reverse_list)\n",
        "\n"
      ],
      "metadata": {
        "id": "IHJHaRQ2czGb"
      },
      "execution_count": null,
      "outputs": []
    },
    {
      "cell_type": "code",
      "source": [
        "# program to print the multiples of 4\n",
        "# i want to print a list of length 10 with numbers that are divisible by 4\n",
        "# instantiate a list\n",
        "# fill the list with the numbers and place\n",
        "# use a for loop to go through the numbers and check if it is divisble by 4\n",
        "# if it matches then add it\n",
        "\n",
        "# one line program to print the multiples of 4\n",
        "print([item for item in list(range(1,41,1)) if item % 4==0]) # % 0 # To study and understandg\n",
        "\n",
        "\n"
      ],
      "metadata": {
        "id": "xxXBRhhYfhL5"
      },
      "execution_count": null,
      "outputs": []
    },
    {
      "cell_type": "code",
      "source": [
        "# list slicing operations on a string\n",
        "# any string can be by default treated as list to apply slicing operations\n",
        "mytestvariable = 'canada'\n",
        "print(mytestvariable)\n",
        "print(mytestvariable[::-1])\n",
        "print(mytestvariable[1:3])"
      ],
      "metadata": {
        "id": "Q56upzk9hPRE"
      },
      "execution_count": null,
      "outputs": []
    },
    {
      "cell_type": "markdown",
      "source": [
        "Dictionaries"
      ],
      "metadata": {
        "id": "Dhwo3ZSnm4bo"
      }
    },
    {
      "cell_type": "code",
      "source": [
        "my_first_dict= {'a':1,'b':2,'c':3,'d':4}\n",
        "print(f\"my_first_dict {my_first_dict}\")\n",
        "\n",
        "my_twisted_dict= {'a':1,'a':2,'c':3,'d':4}\n",
        "print(f\"my_twisted_dict {my_twisted_dict}\")\n"
      ],
      "metadata": {
        "id": "NRV5HROHjlor"
      },
      "execution_count": null,
      "outputs": []
    },
    {
      "cell_type": "code",
      "source": [
        "my_first_dict.keys()"
      ],
      "metadata": {
        "id": "Bcwp4sw0jINk"
      },
      "execution_count": null,
      "outputs": []
    },
    {
      "cell_type": "code",
      "source": [
        "#getting dictionary values using key\n",
        "# when to use this method . if you dont know whether a key exists or not always use this method\n",
        "print(f\"Value of key a from my_first_dict using get method {my_first_dict.get('a')}\")\n",
        "\n",
        "#what will happen if we dont use the get method ?\n",
        "# when to use this method . if you know for sure a key exists use this method\n",
        "print(f\"Value of key a from my_first_dict using key reference method {my_first_dict['a']}\")"
      ],
      "metadata": {
        "id": "2MKJD7r9nETx"
      },
      "execution_count": null,
      "outputs": []
    },
    {
      "cell_type": "code",
      "source": [
        "#what is the problem with this method\n",
        "print(f\"Value of key a from my_first_dict using key reference method {my_first_dict['x']}\")"
      ],
      "metadata": {
        "id": "hxV3ySckoDDz"
      },
      "execution_count": null,
      "outputs": []
    },
    {
      "cell_type": "code",
      "source": [
        "# lets get in detail with the dictionaries\n",
        "print(f\"Keys from the dictionary {my_first_dict.keys()}\")\n",
        "print(f\"Values from the dictionary {my_first_dict.values()}\")"
      ],
      "metadata": {
        "id": "eaUINahDosNG"
      },
      "execution_count": null,
      "outputs": []
    },
    {
      "cell_type": "code",
      "source": [
        "# add things to a dictionary\n",
        "# a default method\n",
        "my_first_dict.setdefault(\"color\", \"red\")"
      ],
      "metadata": {
        "id": "C9F4haB6pBg1"
      },
      "execution_count": null,
      "outputs": []
    },
    {
      "cell_type": "code",
      "source": [
        "# updating a k,v in a dictionary\n",
        "print(my_first_dict) # blue\n",
        "my_first_dict.update({\"color\": \"black\"}) # updating it to black\n",
        "print(my_first_dict)"
      ],
      "metadata": {
        "id": "18Bx5hLCpluU"
      },
      "execution_count": null,
      "outputs": []
    },
    {
      "cell_type": "markdown",
      "source": [
        "# Lets create a dictionary quickly"
      ],
      "metadata": {
        "id": "NVdmyrlGv08N"
      }
    },
    {
      "cell_type": "code",
      "source": [
        "keys = ['continent','state','country','city'] # list\n",
        "values = ['Munich','Bavaria','Germany'] # list\n",
        "citydict=dict(zip(keys,values))\n",
        "print(citydict)"
      ],
      "metadata": {
        "id": "Fz5UCgk2qrS8"
      },
      "execution_count": null,
      "outputs": []
    },
    {
      "cell_type": "code",
      "source": [],
      "metadata": {
        "id": "_Jya90ATmcFR"
      },
      "execution_count": null,
      "outputs": []
    }
  ]
}